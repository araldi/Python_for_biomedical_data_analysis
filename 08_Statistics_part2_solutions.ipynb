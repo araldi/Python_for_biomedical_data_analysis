{
  "nbformat": 4,
  "nbformat_minor": 0,
  "metadata": {
    "colab": {
      "provenance": [],
      "include_colab_link": true
    },
    "kernelspec": {
      "name": "python3",
      "display_name": "Python 3"
    },
    "language_info": {
      "name": "python"
    }
  },
  "cells": [
    {
      "cell_type": "markdown",
      "metadata": {
        "id": "view-in-github",
        "colab_type": "text"
      },
      "source": [
        "<a href=\"https://colab.research.google.com/github/araldi/Python_for_biomedical_data_analysis/blob/main/08_Statistics_part2_solutions.ipynb\" target=\"_parent\"><img src=\"https://colab.research.google.com/assets/colab-badge.svg\" alt=\"Open In Colab\"/></a>"
      ]
    },
    {
      "cell_type": "code",
      "metadata": {
        "id": "O1DUWIHWiMJf",
        "colab": {
          "base_uri": "https://localhost:8080/"
        },
        "outputId": "3bbe6d94-8efc-4950-d1b5-7e7839fa484e"
      },
      "source": [
        "import pandas as pd\n",
        "import numpy as np\n",
        "import seaborn as sns\n",
        "import pylab as pl\n",
        "import matplotlib\n",
        "import matplotlib.pyplot as plt\n",
        "from matplotlib import animation\n",
        "from IPython.display import HTML\n",
        "\n",
        "import scipy as sp\n",
        "from scipy import stats\n",
        "%pylab inline"
      ],
      "execution_count": 1,
      "outputs": [
        {
          "output_type": "stream",
          "name": "stdout",
          "text": [
            "Populating the interactive namespace from numpy and matplotlib\n"
          ]
        }
      ]
    },
    {
      "cell_type": "code",
      "metadata": {
        "id": "Y7gBWu7HjfzC"
      },
      "source": [
        "df = pd.read_csv('https://github.com/araldi/Python_for_biomedical_data_analysis/raw/main/Files/Homework_df_part5.csv')\n"
      ],
      "execution_count": 2,
      "outputs": []
    },
    {
      "cell_type": "code",
      "metadata": {
        "colab": {
          "base_uri": "https://localhost:8080/",
          "height": 278
        },
        "id": "K_P2MK0Vt-ty",
        "outputId": "bf1083b3-986b-4ef1-b23a-eba7820685a1"
      },
      "source": [
        "df.head()"
      ],
      "execution_count": 3,
      "outputs": [
        {
          "output_type": "execute_result",
          "data": {
            "text/plain": [
              "   Unnamed: 0  PatientID  AgeRecruit  Body_fat_percentage [%]  \\\n",
              "0           0          1        66.0                     26.2   \n",
              "1           1          2        46.0                     27.8   \n",
              "2           2          3        51.0                     27.2   \n",
              "3           3          4        57.0                     19.7   \n",
              "4           4          5        63.0                     23.0   \n",
              "\n",
              "   Glucose [mmol/L]  Glycated haemoglobin (HbA1c) [mmol/mol]  \\\n",
              "0             6.309                                     44.7   \n",
              "1               NaN                                     34.9   \n",
              "2             4.888                                      NaN   \n",
              "3             4.593                                     37.1   \n",
              "4             5.333                                     37.0   \n",
              "\n",
              "   HDL cholesterol [mmol/L]  Gender  Waist circumference [cm]  \\\n",
              "0                     0.913     1.0                     104.0   \n",
              "1                       NaN     0.0                      66.0   \n",
              "2                     1.514     1.0                     110.0   \n",
              "3                     1.397     1.0                      87.0   \n",
              "4                     2.060     1.0                      94.0   \n",
              "\n",
              "   Hip circumference [cm]  Height [cm]  Diabetes diagnosed by doctor  \\\n",
              "0                   100.0        169.0                           1.0   \n",
              "1                    93.0        159.0                           0.0   \n",
              "2                   119.0        171.0                           0.0   \n",
              "3                    99.0        165.0                           0.0   \n",
              "4                    95.0        170.0                           0.0   \n",
              "\n",
              "   Weight [Kg]  IGF-1 [nmol/L]  LDL direct [mmol/L]  \n",
              "0         80.8          19.684                3.241  \n",
              "1         53.1             NaN                  NaN  \n",
              "2         99.5          26.463                4.384  \n",
              "3         72.1          17.968                2.814  \n",
              "4         74.2          31.057                2.525  "
            ],
            "text/html": [
              "\n",
              "  <div id=\"df-8aa97d7e-073d-40e1-8e38-f030fcd3251b\" class=\"colab-df-container\">\n",
              "    <div>\n",
              "<style scoped>\n",
              "    .dataframe tbody tr th:only-of-type {\n",
              "        vertical-align: middle;\n",
              "    }\n",
              "\n",
              "    .dataframe tbody tr th {\n",
              "        vertical-align: top;\n",
              "    }\n",
              "\n",
              "    .dataframe thead th {\n",
              "        text-align: right;\n",
              "    }\n",
              "</style>\n",
              "<table border=\"1\" class=\"dataframe\">\n",
              "  <thead>\n",
              "    <tr style=\"text-align: right;\">\n",
              "      <th></th>\n",
              "      <th>Unnamed: 0</th>\n",
              "      <th>PatientID</th>\n",
              "      <th>AgeRecruit</th>\n",
              "      <th>Body_fat_percentage [%]</th>\n",
              "      <th>Glucose [mmol/L]</th>\n",
              "      <th>Glycated haemoglobin (HbA1c) [mmol/mol]</th>\n",
              "      <th>HDL cholesterol [mmol/L]</th>\n",
              "      <th>Gender</th>\n",
              "      <th>Waist circumference [cm]</th>\n",
              "      <th>Hip circumference [cm]</th>\n",
              "      <th>Height [cm]</th>\n",
              "      <th>Diabetes diagnosed by doctor</th>\n",
              "      <th>Weight [Kg]</th>\n",
              "      <th>IGF-1 [nmol/L]</th>\n",
              "      <th>LDL direct [mmol/L]</th>\n",
              "    </tr>\n",
              "  </thead>\n",
              "  <tbody>\n",
              "    <tr>\n",
              "      <th>0</th>\n",
              "      <td>0</td>\n",
              "      <td>1</td>\n",
              "      <td>66.0</td>\n",
              "      <td>26.2</td>\n",
              "      <td>6.309</td>\n",
              "      <td>44.7</td>\n",
              "      <td>0.913</td>\n",
              "      <td>1.0</td>\n",
              "      <td>104.0</td>\n",
              "      <td>100.0</td>\n",
              "      <td>169.0</td>\n",
              "      <td>1.0</td>\n",
              "      <td>80.8</td>\n",
              "      <td>19.684</td>\n",
              "      <td>3.241</td>\n",
              "    </tr>\n",
              "    <tr>\n",
              "      <th>1</th>\n",
              "      <td>1</td>\n",
              "      <td>2</td>\n",
              "      <td>46.0</td>\n",
              "      <td>27.8</td>\n",
              "      <td>NaN</td>\n",
              "      <td>34.9</td>\n",
              "      <td>NaN</td>\n",
              "      <td>0.0</td>\n",
              "      <td>66.0</td>\n",
              "      <td>93.0</td>\n",
              "      <td>159.0</td>\n",
              "      <td>0.0</td>\n",
              "      <td>53.1</td>\n",
              "      <td>NaN</td>\n",
              "      <td>NaN</td>\n",
              "    </tr>\n",
              "    <tr>\n",
              "      <th>2</th>\n",
              "      <td>2</td>\n",
              "      <td>3</td>\n",
              "      <td>51.0</td>\n",
              "      <td>27.2</td>\n",
              "      <td>4.888</td>\n",
              "      <td>NaN</td>\n",
              "      <td>1.514</td>\n",
              "      <td>1.0</td>\n",
              "      <td>110.0</td>\n",
              "      <td>119.0</td>\n",
              "      <td>171.0</td>\n",
              "      <td>0.0</td>\n",
              "      <td>99.5</td>\n",
              "      <td>26.463</td>\n",
              "      <td>4.384</td>\n",
              "    </tr>\n",
              "    <tr>\n",
              "      <th>3</th>\n",
              "      <td>3</td>\n",
              "      <td>4</td>\n",
              "      <td>57.0</td>\n",
              "      <td>19.7</td>\n",
              "      <td>4.593</td>\n",
              "      <td>37.1</td>\n",
              "      <td>1.397</td>\n",
              "      <td>1.0</td>\n",
              "      <td>87.0</td>\n",
              "      <td>99.0</td>\n",
              "      <td>165.0</td>\n",
              "      <td>0.0</td>\n",
              "      <td>72.1</td>\n",
              "      <td>17.968</td>\n",
              "      <td>2.814</td>\n",
              "    </tr>\n",
              "    <tr>\n",
              "      <th>4</th>\n",
              "      <td>4</td>\n",
              "      <td>5</td>\n",
              "      <td>63.0</td>\n",
              "      <td>23.0</td>\n",
              "      <td>5.333</td>\n",
              "      <td>37.0</td>\n",
              "      <td>2.060</td>\n",
              "      <td>1.0</td>\n",
              "      <td>94.0</td>\n",
              "      <td>95.0</td>\n",
              "      <td>170.0</td>\n",
              "      <td>0.0</td>\n",
              "      <td>74.2</td>\n",
              "      <td>31.057</td>\n",
              "      <td>2.525</td>\n",
              "    </tr>\n",
              "  </tbody>\n",
              "</table>\n",
              "</div>\n",
              "    <div class=\"colab-df-buttons\">\n",
              "\n",
              "  <div class=\"colab-df-container\">\n",
              "    <button class=\"colab-df-convert\" onclick=\"convertToInteractive('df-8aa97d7e-073d-40e1-8e38-f030fcd3251b')\"\n",
              "            title=\"Convert this dataframe to an interactive table.\"\n",
              "            style=\"display:none;\">\n",
              "\n",
              "  <svg xmlns=\"http://www.w3.org/2000/svg\" height=\"24px\" viewBox=\"0 -960 960 960\">\n",
              "    <path d=\"M120-120v-720h720v720H120Zm60-500h600v-160H180v160Zm220 220h160v-160H400v160Zm0 220h160v-160H400v160ZM180-400h160v-160H180v160Zm440 0h160v-160H620v160ZM180-180h160v-160H180v160Zm440 0h160v-160H620v160Z\"/>\n",
              "  </svg>\n",
              "    </button>\n",
              "\n",
              "  <style>\n",
              "    .colab-df-container {\n",
              "      display:flex;\n",
              "      gap: 12px;\n",
              "    }\n",
              "\n",
              "    .colab-df-convert {\n",
              "      background-color: #E8F0FE;\n",
              "      border: none;\n",
              "      border-radius: 50%;\n",
              "      cursor: pointer;\n",
              "      display: none;\n",
              "      fill: #1967D2;\n",
              "      height: 32px;\n",
              "      padding: 0 0 0 0;\n",
              "      width: 32px;\n",
              "    }\n",
              "\n",
              "    .colab-df-convert:hover {\n",
              "      background-color: #E2EBFA;\n",
              "      box-shadow: 0px 1px 2px rgba(60, 64, 67, 0.3), 0px 1px 3px 1px rgba(60, 64, 67, 0.15);\n",
              "      fill: #174EA6;\n",
              "    }\n",
              "\n",
              "    .colab-df-buttons div {\n",
              "      margin-bottom: 4px;\n",
              "    }\n",
              "\n",
              "    [theme=dark] .colab-df-convert {\n",
              "      background-color: #3B4455;\n",
              "      fill: #D2E3FC;\n",
              "    }\n",
              "\n",
              "    [theme=dark] .colab-df-convert:hover {\n",
              "      background-color: #434B5C;\n",
              "      box-shadow: 0px 1px 3px 1px rgba(0, 0, 0, 0.15);\n",
              "      filter: drop-shadow(0px 1px 2px rgba(0, 0, 0, 0.3));\n",
              "      fill: #FFFFFF;\n",
              "    }\n",
              "  </style>\n",
              "\n",
              "    <script>\n",
              "      const buttonEl =\n",
              "        document.querySelector('#df-8aa97d7e-073d-40e1-8e38-f030fcd3251b button.colab-df-convert');\n",
              "      buttonEl.style.display =\n",
              "        google.colab.kernel.accessAllowed ? 'block' : 'none';\n",
              "\n",
              "      async function convertToInteractive(key) {\n",
              "        const element = document.querySelector('#df-8aa97d7e-073d-40e1-8e38-f030fcd3251b');\n",
              "        const dataTable =\n",
              "          await google.colab.kernel.invokeFunction('convertToInteractive',\n",
              "                                                    [key], {});\n",
              "        if (!dataTable) return;\n",
              "\n",
              "        const docLinkHtml = 'Like what you see? Visit the ' +\n",
              "          '<a target=\"_blank\" href=https://colab.research.google.com/notebooks/data_table.ipynb>data table notebook</a>'\n",
              "          + ' to learn more about interactive tables.';\n",
              "        element.innerHTML = '';\n",
              "        dataTable['output_type'] = 'display_data';\n",
              "        await google.colab.output.renderOutput(dataTable, element);\n",
              "        const docLink = document.createElement('div');\n",
              "        docLink.innerHTML = docLinkHtml;\n",
              "        element.appendChild(docLink);\n",
              "      }\n",
              "    </script>\n",
              "  </div>\n",
              "\n",
              "\n",
              "<div id=\"df-b24cafdc-c078-4aeb-9609-a284bb8ad800\">\n",
              "  <button class=\"colab-df-quickchart\" onclick=\"quickchart('df-b24cafdc-c078-4aeb-9609-a284bb8ad800')\"\n",
              "            title=\"Suggest charts.\"\n",
              "            style=\"display:none;\">\n",
              "\n",
              "<svg xmlns=\"http://www.w3.org/2000/svg\" height=\"24px\"viewBox=\"0 0 24 24\"\n",
              "     width=\"24px\">\n",
              "    <g>\n",
              "        <path d=\"M19 3H5c-1.1 0-2 .9-2 2v14c0 1.1.9 2 2 2h14c1.1 0 2-.9 2-2V5c0-1.1-.9-2-2-2zM9 17H7v-7h2v7zm4 0h-2V7h2v10zm4 0h-2v-4h2v4z\"/>\n",
              "    </g>\n",
              "</svg>\n",
              "  </button>\n",
              "\n",
              "<style>\n",
              "  .colab-df-quickchart {\n",
              "      --bg-color: #E8F0FE;\n",
              "      --fill-color: #1967D2;\n",
              "      --hover-bg-color: #E2EBFA;\n",
              "      --hover-fill-color: #174EA6;\n",
              "      --disabled-fill-color: #AAA;\n",
              "      --disabled-bg-color: #DDD;\n",
              "  }\n",
              "\n",
              "  [theme=dark] .colab-df-quickchart {\n",
              "      --bg-color: #3B4455;\n",
              "      --fill-color: #D2E3FC;\n",
              "      --hover-bg-color: #434B5C;\n",
              "      --hover-fill-color: #FFFFFF;\n",
              "      --disabled-bg-color: #3B4455;\n",
              "      --disabled-fill-color: #666;\n",
              "  }\n",
              "\n",
              "  .colab-df-quickchart {\n",
              "    background-color: var(--bg-color);\n",
              "    border: none;\n",
              "    border-radius: 50%;\n",
              "    cursor: pointer;\n",
              "    display: none;\n",
              "    fill: var(--fill-color);\n",
              "    height: 32px;\n",
              "    padding: 0;\n",
              "    width: 32px;\n",
              "  }\n",
              "\n",
              "  .colab-df-quickchart:hover {\n",
              "    background-color: var(--hover-bg-color);\n",
              "    box-shadow: 0 1px 2px rgba(60, 64, 67, 0.3), 0 1px 3px 1px rgba(60, 64, 67, 0.15);\n",
              "    fill: var(--button-hover-fill-color);\n",
              "  }\n",
              "\n",
              "  .colab-df-quickchart-complete:disabled,\n",
              "  .colab-df-quickchart-complete:disabled:hover {\n",
              "    background-color: var(--disabled-bg-color);\n",
              "    fill: var(--disabled-fill-color);\n",
              "    box-shadow: none;\n",
              "  }\n",
              "\n",
              "  .colab-df-spinner {\n",
              "    border: 2px solid var(--fill-color);\n",
              "    border-color: transparent;\n",
              "    border-bottom-color: var(--fill-color);\n",
              "    animation:\n",
              "      spin 1s steps(1) infinite;\n",
              "  }\n",
              "\n",
              "  @keyframes spin {\n",
              "    0% {\n",
              "      border-color: transparent;\n",
              "      border-bottom-color: var(--fill-color);\n",
              "      border-left-color: var(--fill-color);\n",
              "    }\n",
              "    20% {\n",
              "      border-color: transparent;\n",
              "      border-left-color: var(--fill-color);\n",
              "      border-top-color: var(--fill-color);\n",
              "    }\n",
              "    30% {\n",
              "      border-color: transparent;\n",
              "      border-left-color: var(--fill-color);\n",
              "      border-top-color: var(--fill-color);\n",
              "      border-right-color: var(--fill-color);\n",
              "    }\n",
              "    40% {\n",
              "      border-color: transparent;\n",
              "      border-right-color: var(--fill-color);\n",
              "      border-top-color: var(--fill-color);\n",
              "    }\n",
              "    60% {\n",
              "      border-color: transparent;\n",
              "      border-right-color: var(--fill-color);\n",
              "    }\n",
              "    80% {\n",
              "      border-color: transparent;\n",
              "      border-right-color: var(--fill-color);\n",
              "      border-bottom-color: var(--fill-color);\n",
              "    }\n",
              "    90% {\n",
              "      border-color: transparent;\n",
              "      border-bottom-color: var(--fill-color);\n",
              "    }\n",
              "  }\n",
              "</style>\n",
              "\n",
              "  <script>\n",
              "    async function quickchart(key) {\n",
              "      const quickchartButtonEl =\n",
              "        document.querySelector('#' + key + ' button');\n",
              "      quickchartButtonEl.disabled = true;  // To prevent multiple clicks.\n",
              "      quickchartButtonEl.classList.add('colab-df-spinner');\n",
              "      try {\n",
              "        const charts = await google.colab.kernel.invokeFunction(\n",
              "            'suggestCharts', [key], {});\n",
              "      } catch (error) {\n",
              "        console.error('Error during call to suggestCharts:', error);\n",
              "      }\n",
              "      quickchartButtonEl.classList.remove('colab-df-spinner');\n",
              "      quickchartButtonEl.classList.add('colab-df-quickchart-complete');\n",
              "    }\n",
              "    (() => {\n",
              "      let quickchartButtonEl =\n",
              "        document.querySelector('#df-b24cafdc-c078-4aeb-9609-a284bb8ad800 button');\n",
              "      quickchartButtonEl.style.display =\n",
              "        google.colab.kernel.accessAllowed ? 'block' : 'none';\n",
              "    })();\n",
              "  </script>\n",
              "</div>\n",
              "    </div>\n",
              "  </div>\n"
            ]
          },
          "metadata": {},
          "execution_count": 3
        }
      ]
    },
    {
      "cell_type": "code",
      "metadata": {
        "id": "ISsZRXhHzMtT"
      },
      "source": [
        "# calculate BMI\n",
        "# BMI formula: weight [kg] / ( height [m] * height [m])\n",
        "df['BMI']= df['Weight [Kg]'] / np.power(df['Height [cm]']/100,2)"
      ],
      "execution_count": 4,
      "outputs": []
    },
    {
      "cell_type": "markdown",
      "metadata": {
        "id": "qBcan7Ze1ifU"
      },
      "source": [
        "## Exercise 1\n",
        "\n",
        "* Do females with BMI >25 kg/m^2 have higher LDL compared to the female population?\n",
        "\n",
        "* Do females shorter than 160cm have glycated haemoglobin lower comparet do the females of the population?\n",
        "\n",
        "\n",
        "Obtain the treatment sample, decide on the alpha, calculate Z-score of each sample vs population, and determined if the samples are significantly different from the population.\n",
        "\n"
      ]
    },
    {
      "cell_type": "code",
      "source": [
        "# retrieve data for glycated haemoglobin and LDL from homework part 5\n",
        "\n",
        "females = df[(df['Gender'] == 0)]\n",
        "females = females.dropna(subset= ['BMI', 'LDL direct [mmol/L]', 'Glycated haemoglobin (HbA1c) [mmol/mol]'])\n",
        "\n"
      ],
      "metadata": {
        "id": "zWqmnMGK8Zb9"
      },
      "execution_count": 12,
      "outputs": []
    },
    {
      "cell_type": "markdown",
      "source": [
        "* Check if females with BMI >25 kg/m^2 have higher LDL compared to the female population"
      ],
      "metadata": {
        "id": "zqbu2EpSyXdV"
      }
    },
    {
      "cell_type": "code",
      "source": [
        "BMI25 = females[females['BMI'] >25].sample(500)\n",
        "\n",
        "LDL = 'LDL direct [mmol/L]'\n",
        "Z_score1 = (np.mean(females[LDL]) - np.mean(BMI25[LDL]) )/(np.std(females[LDL])/sqrt(len(BMI25)))\n",
        "\n",
        "Z_score1\n"
      ],
      "metadata": {
        "id": "HAICo3H_7rSv",
        "colab": {
          "base_uri": "https://localhost:8080/"
        },
        "outputId": "db576f24-2c66-42c0-ba84-950a0365c3cd"
      },
      "execution_count": 13,
      "outputs": [
        {
          "output_type": "execute_result",
          "data": {
            "text/plain": [
              "-1.4374943227912553"
            ]
          },
          "metadata": {},
          "execution_count": 13
        }
      ]
    },
    {
      "cell_type": "code",
      "source": [
        "import scipy\n",
        "scipy.stats.norm.sf(abs(Z_score1))"
      ],
      "metadata": {
        "colab": {
          "base_uri": "https://localhost:8080/"
        },
        "id": "kj18RylhxYcZ",
        "outputId": "c0aa79b7-5d55-4f24-f98a-c6a5d2528371"
      },
      "execution_count": 14,
      "outputs": [
        {
          "output_type": "execute_result",
          "data": {
            "text/plain": [
              "0.07528879240730733"
            ]
          },
          "metadata": {},
          "execution_count": 14
        }
      ]
    },
    {
      "cell_type": "markdown",
      "source": [
        "In this example, the p-value is greater than 0.05, therefore females with BMI >25 kg/m^2 DO NOT have higher LDL compared to the female population"
      ],
      "metadata": {
        "id": "5XO_xXYZyMsH"
      }
    },
    {
      "cell_type": "code",
      "source": [
        "from statsmodels.stats.weightstats import ztest\n",
        "\n",
        "ztest(BMI25[LDL],value = np.mean(females[LDL]), alternative='larger')"
      ],
      "metadata": {
        "colab": {
          "base_uri": "https://localhost:8080/"
        },
        "id": "9YjyNqXwxmyW",
        "outputId": "1db74462-af70-4d36-df9b-7b36795e3f5b"
      },
      "execution_count": 15,
      "outputs": [
        {
          "output_type": "execute_result",
          "data": {
            "text/plain": [
              "(1.409789137163317, 0.07930097755534254)"
            ]
          },
          "metadata": {},
          "execution_count": 15
        }
      ]
    },
    {
      "cell_type": "markdown",
      "source": [
        " * Do females shorter than 160cm have glycated haemoglobin lower comparet do the females of the population?"
      ],
      "metadata": {
        "id": "sg1GgXhbyum2"
      }
    },
    {
      "cell_type": "code",
      "source": [
        "height = 'Height [cm]'\n",
        "glyc = 'Glycated haemoglobin (HbA1c) [mmol/mol]'\n",
        "\n",
        "height160 = females[females[height]<160].sample(500)\n",
        "\n",
        "Z_score2 = (np.mean(females[glyc]) - np.mean(height160[glyc]) )/(np.std(females[glyc])/sqrt(len(height160)))\n",
        "\n",
        "scipy.stats.norm.sf(abs(Z_score2))"
      ],
      "metadata": {
        "colab": {
          "base_uri": "https://localhost:8080/"
        },
        "id": "_oaHYivVxtO1",
        "outputId": "a39d3830-e385-438f-bbed-7794da7605e5"
      },
      "execution_count": 16,
      "outputs": [
        {
          "output_type": "execute_result",
          "data": {
            "text/plain": [
              "0.009718875836205452"
            ]
          },
          "metadata": {},
          "execution_count": 16
        }
      ]
    },
    {
      "cell_type": "markdown",
      "metadata": {
        "id": "uy-ufh3a1o1Y"
      },
      "source": [
        "Careful! Is it two tailed or one tailed? How do you adjust the p-value?\n"
      ]
    },
    {
      "cell_type": "code",
      "source": [],
      "metadata": {
        "id": "KbIBnMwO7sZu"
      },
      "execution_count": null,
      "outputs": []
    },
    {
      "cell_type": "markdown",
      "metadata": {
        "id": "HoMVRbln18r6"
      },
      "source": [
        "Now the easy part: verify your work with statsmodels\n",
        "\n",
        "\n",
        "```\n",
        "from statsmodels.stats.weightstats import ztest\n",
        "\n",
        "ztest(sample1,value = mean, alternative='two-sided')\n",
        "```\n",
        "\n"
      ]
    },
    {
      "cell_type": "markdown",
      "metadata": {
        "id": "NXT3M4bVV4Pk"
      },
      "source": [
        "Interpretation?"
      ]
    },
    {
      "cell_type": "markdown",
      "source": [
        "Show the plots for the distributions of samples and the population (including mean)."
      ],
      "metadata": {
        "id": "LJToM5eNCACS"
      }
    },
    {
      "cell_type": "markdown",
      "metadata": {
        "id": "Xit9H2E32Zf9"
      },
      "source": [
        "## Exercise 2\n",
        "\n",
        "Let's calculate a t-statistic and compute a p-value in practice for the BMI of two small samples of males and females.\n",
        "\n",
        "\n",
        "Samples:\n",
        "\n",
        "\n",
        "```\n",
        "males = df[df['Gender'] == 1]['BMI'].sample(25)\n",
        "\n",
        "females = df[df['Gender'] == 0]['BMI'].sample(25)\n",
        "\n",
        "```\n",
        "\n",
        "#### Descriptive procedure\n",
        "\n",
        "The observed difference between samples (effect size) is a random variable, and under the null hypothesis it is zero.\n",
        "\n",
        "\n",
        "```\n",
        "tstat = observed difference between sample means / standard error of the difference between the means\n",
        "\n",
        "tstat = (mean(X1) - mean(X2)) / sed\n",
        "\n",
        "```\n",
        "\n",
        "We need the standard error of the difference (observed effect size) among samples:\n",
        "\n",
        "```\n",
        "sed = sqrt(se1^2 + se2^2)\n",
        "\n",
        "se = std / sqrt(n)\n",
        "```\n",
        "\n",
        "\n",
        "\n",
        "Once we obtain the tstat, obtain from the t-distribution the frequency of the obtained t-statistics, hence, the p-value\n",
        "\n",
        "```\n",
        "from scipy import stats\n",
        "stats.t.sf(np.abs(tstat), n-1)*2\n",
        "```\n",
        "Careful! It is multiplied by two because is a two-tailed for independent samples\n",
        "\n",
        "Lastly, validate with a pre-made function\n",
        "`stats.ttest_ind(males, females)`"
      ]
    },
    {
      "cell_type": "markdown",
      "source": [
        "Show the plots for the distributions of samples (including mean)."
      ],
      "metadata": {
        "id": "82zF9gYcCNre"
      }
    },
    {
      "cell_type": "code",
      "source": [
        "males = df[df['Gender'] == 1]['BMI'].sample(25)\n",
        "\n",
        "females = df[df['Gender'] == 0]['BMI'].sample(25)\n",
        "\n",
        "diff = np.mean(males) - np.mean(females)\n",
        "diff"
      ],
      "metadata": {
        "id": "PokjaCcGCNXq",
        "colab": {
          "base_uri": "https://localhost:8080/"
        },
        "outputId": "2d0ca203-ab94-4739-d2c8-38472ac02d15"
      },
      "execution_count": 18,
      "outputs": [
        {
          "output_type": "execute_result",
          "data": {
            "text/plain": [
              "-1.122730283801971"
            ]
          },
          "metadata": {},
          "execution_count": 18
        }
      ]
    },
    {
      "cell_type": "code",
      "source": [
        "# the variance of the difference of two random variables is the sum of its variances\n",
        "\n",
        "se_m = np.std(males)/sqrt(len(males))\n",
        "se_f = np.std(females)/sqrt(len(females))\n",
        "\n",
        "diff_se = sqrt(np.power(se_m, 2) + np.power(se_f, 2))"
      ],
      "metadata": {
        "id": "Ky6yow3G5-g9"
      },
      "execution_count": 19,
      "outputs": []
    },
    {
      "cell_type": "code",
      "source": [
        "tstat = diff/diff_se"
      ],
      "metadata": {
        "id": "NgJ1LR_56Abf"
      },
      "execution_count": 20,
      "outputs": []
    },
    {
      "cell_type": "code",
      "source": [
        "from scipy import stats\n",
        "#obtain from the t-distribution the frequency of the obtained t-statistics\n",
        "stats.t.sf(np.abs(tstat), len(df)-1)*2"
      ],
      "metadata": {
        "colab": {
          "base_uri": "https://localhost:8080/"
        },
        "id": "usekC0xb6BBR",
        "outputId": "3def1398-edd3-4abf-b1e6-937295e2a96f"
      },
      "execution_count": 23,
      "outputs": [
        {
          "output_type": "execute_result",
          "data": {
            "text/plain": [
              "0.39872190019558795"
            ]
          },
          "metadata": {},
          "execution_count": 23
        }
      ]
    },
    {
      "cell_type": "code",
      "source": [
        "# validate with a pre-made function\n",
        "stats.ttest_ind(males, females)"
      ],
      "metadata": {
        "colab": {
          "base_uri": "https://localhost:8080/"
        },
        "id": "bgCur0dm6EQj",
        "outputId": "ed7b5273-8912-47d0-c463-2f92848dea93"
      },
      "execution_count": 24,
      "outputs": [
        {
          "output_type": "execute_result",
          "data": {
            "text/plain": [
              "Ttest_indResult(statistic=-0.8268575130689035, pvalue=0.4124094622326191)"
            ]
          },
          "metadata": {},
          "execution_count": 24
        }
      ]
    },
    {
      "cell_type": "markdown",
      "metadata": {
        "id": "YnXeI8Y7xv3m"
      },
      "source": [
        "## Exercise 3\n",
        "Calculate the chi-square statistics according to the formula above and then retrieve the critical value from the chi-squared distribution for the probability and number of degrees of freedom.\n",
        "\n",
        "```\n",
        "degrees_freedom = (len(rows)-1)*(len(columns)-1)\n",
        "stats.distributions.chi2.sf(chi_square, degrees_freedom)\n",
        "```\n",
        "\n",
        "Lastly, validate your results with the pre-made function:\n",
        "\n",
        "```\n",
        "scipy.stats.chi2_contingency(contingency_table, 1)\n",
        "```\n",
        "\n",
        "\n"
      ]
    },
    {
      "cell_type": "markdown",
      "source": [
        "Find an appropriate way to plot the data."
      ],
      "metadata": {
        "id": "Jd6ux0KpCVGc"
      }
    },
    {
      "cell_type": "code",
      "source": [
        "conditions = [df['Height [cm]']<180, df['Height [cm]']>=180]\n",
        "choices = ['short', 'tall']\n",
        "df['height'] = np.select(conditions, choices, default= None)"
      ],
      "metadata": {
        "id": "-6zbIR2T6x55"
      },
      "execution_count": 27,
      "outputs": []
    },
    {
      "cell_type": "code",
      "source": [
        "conditions = [df['Diabetes diagnosed by doctor']==0, df['Diabetes diagnosed by doctor']==1]\n",
        "choices = ['no', 'yes']\n",
        "df['diabetes'] = np.select(conditions, choices, default= None)"
      ],
      "metadata": {
        "id": "SSDkmA4D6zl8"
      },
      "execution_count": 28,
      "outputs": []
    },
    {
      "cell_type": "code",
      "source": [
        "df.dropna(subset= ['height','diabetes'], inplace =True)"
      ],
      "metadata": {
        "id": "oNa8JD2O7BkE"
      },
      "execution_count": 31,
      "outputs": []
    },
    {
      "cell_type": "code",
      "source": [
        "# create contingency table\n",
        "data_crosstab = pd.crosstab(df['height'],\n",
        "                            df['diabetes'],\n",
        "                           margins=True, margins_name=\"Total\")"
      ],
      "metadata": {
        "id": "Caqntr2n7DGR"
      },
      "execution_count": 32,
      "outputs": []
    },
    {
      "cell_type": "code",
      "metadata": {
        "id": "i5mg8Z8w75Cb",
        "colab": {
          "base_uri": "https://localhost:8080/"
        },
        "outputId": "22380fd8-5539-4b4f-c1b1-e3746326d76f"
      },
      "source": [
        "# significance level\n",
        "alpha = 0.05\n",
        "\n",
        "# Calculation of Chisquare test statistics\n",
        "chi_square = 0\n",
        "rows = df['height'].unique()\n",
        "columns = df['diabetes'].unique()\n",
        "for i in columns:\n",
        "    for j in rows:\n",
        "        O = data_crosstab[i][j]\n",
        "        E = data_crosstab[i]['Total'] * data_crosstab['Total'][j] / data_crosstab['Total']['Total']\n",
        "        chi_square += (O-E)**2/E\n",
        "\n",
        "# p-value obtained from the chi-square distribution\n",
        "degrees_freedom = (len(rows)-1)*(len(columns)-1)\n",
        "\n",
        "stats.distributions.chi2.sf(chi_square, degrees_freedom)"
      ],
      "execution_count": 33,
      "outputs": [
        {
          "output_type": "execute_result",
          "data": {
            "text/plain": [
              "0.5973695480845165"
            ]
          },
          "metadata": {},
          "execution_count": 33
        }
      ]
    },
    {
      "cell_type": "code",
      "source": [
        "import scipy\n",
        "stat, p, dof, expected = scipy.stats.chi2_contingency(data_crosstab.iloc[0:2,0:2], 1)\n",
        "p"
      ],
      "metadata": {
        "colab": {
          "base_uri": "https://localhost:8080/"
        },
        "id": "qINzN4RE6i_e",
        "outputId": "03040db7-a71a-41e0-9a0b-c33ac60ac73d"
      },
      "execution_count": 34,
      "outputs": [
        {
          "output_type": "execute_result",
          "data": {
            "text/plain": [
              "0.6079907200441669"
            ]
          },
          "metadata": {},
          "execution_count": 34
        }
      ]
    },
    {
      "cell_type": "code",
      "source": [],
      "metadata": {
        "id": "I_qOi47n7FF3"
      },
      "execution_count": null,
      "outputs": []
    }
  ]
}
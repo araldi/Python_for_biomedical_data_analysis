{
  "nbformat": 4,
  "nbformat_minor": 0,
  "metadata": {
    "colab": {
      "provenance": [],
      "authorship_tag": "ABX9TyOfx8nptQIu1zNjY3CF2SNY",
      "include_colab_link": true
    },
    "kernelspec": {
      "name": "python3",
      "display_name": "Python 3"
    },
    "language_info": {
      "name": "python"
    }
  },
  "cells": [
    {
      "cell_type": "markdown",
      "metadata": {
        "id": "view-in-github",
        "colab_type": "text"
      },
      "source": [
        "<a href=\"https://colab.research.google.com/github/araldi/Python_for_biomedical_data_analysis/blob/main/04b_More_on_NumPy_and_Pandas.ipynb\" target=\"_parent\"><img src=\"https://colab.research.google.com/assets/colab-badge.svg\" alt=\"Open In Colab\"/></a>"
      ]
    },
    {
      "cell_type": "markdown",
      "metadata": {
        "id": "cq5a09wnGo9A"
      },
      "source": [
        "\n",
        "## Pandas columns as NumPy arrays\n"
      ]
    },
    {
      "cell_type": "code",
      "metadata": {
        "id": "n02Zs6wpIEkY"
      },
      "source": [
        "import pandas as pd\n",
        "\n",
        "#import the file\n",
        "diamonds = pd.read_csv('https://raw.githubusercontent.com/mwaskom/seaborn-data/master/diamonds.csv')"
      ],
      "execution_count": null,
      "outputs": []
    },
    {
      "cell_type": "code",
      "metadata": {
        "id": "FTNqMj5fIi5o"
      },
      "source": [
        "diamonds"
      ],
      "execution_count": null,
      "outputs": []
    },
    {
      "cell_type": "code",
      "metadata": {
        "id": "-f-Hmgb5ImXQ"
      },
      "source": [
        "# calculate the mean of a column of the dataframe, in this case, price\n",
        "np.mean(diamonds['price'])"
      ],
      "execution_count": null,
      "outputs": []
    },
    {
      "cell_type": "code",
      "metadata": {
        "id": "aZpbWDOwI0ar"
      },
      "source": [
        "np.mean(diamonds['depth'])"
      ],
      "execution_count": null,
      "outputs": []
    },
    {
      "cell_type": "code",
      "metadata": {
        "id": "2e32ZFTgI4vZ"
      },
      "source": [
        "diamonds.describe()"
      ],
      "execution_count": null,
      "outputs": []
    },
    {
      "cell_type": "code",
      "metadata": {
        "id": "U012-EVMJZDU"
      },
      "source": [
        "diamonds.dtypes"
      ],
      "execution_count": null,
      "outputs": []
    },
    {
      "cell_type": "code",
      "metadata": {
        "id": "iQsF-7EKJHnG"
      },
      "source": [
        "# create a new column which is the sum the X, Y, Z coordinates\n",
        "\n",
        "diamonds['new'] = np.sum(diamonds[['x','y','z']], axis =1)\n",
        "\n",
        "diamonds['new']"
      ],
      "execution_count": null,
      "outputs": []
    },
    {
      "cell_type": "code",
      "metadata": {
        "id": "srZ1XrdUI-Ru"
      },
      "source": [
        "np.sum(diamonds[['x','y','z']], axis =0)"
      ],
      "execution_count": null,
      "outputs": []
    }
  ]
}

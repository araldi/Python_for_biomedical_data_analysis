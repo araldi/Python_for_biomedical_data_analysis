{
  "nbformat": 4,
  "nbformat_minor": 0,
  "metadata": {
    "colab": {
      "provenance": [],
      "collapsed_sections": [
        "PyozmlyBAArr",
        "ZrlHlc0h_uvH",
        "Ih9GIRD_OOGB",
        "DjqnMVQSRKXS",
        "pWzamhR-0siP",
        "MxPqYQHS0u6o",
        "uvkgOyTN0xHY",
        "omNYmYEqS1ns",
        "50Fkw8odjMG-",
        "qUYtvb6vS5yE",
        "3R0LZAyPS-Uf",
        "ikJ_D77OTIGd",
        "k8yiPKstZQ-D"
      ],
      "toc_visible": true,
      "authorship_tag": "ABX9TyPJhmYOaG3kKkYhTDH94yVo",
      "include_colab_link": true
    },
    "kernelspec": {
      "name": "python3",
      "display_name": "Python 3"
    },
    "language_info": {
      "name": "python"
    }
  },
  "cells": [
    {
      "cell_type": "markdown",
      "metadata": {
        "id": "view-in-github",
        "colab_type": "text"
      },
      "source": [
        "<a href=\"https://colab.research.google.com/github/araldi/Python_for_biomedical_data_analysis/blob/main/01_Intro_to_python.ipynb\" target=\"_parent\"><img src=\"https://colab.research.google.com/assets/colab-badge.svg\" alt=\"Open In Colab\"/></a>"
      ]
    },
    {
      "cell_type": "markdown",
      "metadata": {
        "id": "t06jHd-S5dhL"
      },
      "source": [
        "# **Python general introduction**"
      ]
    },
    {
      "cell_type": "markdown",
      "metadata": {
        "id": "9xPOtPbVY1Bs"
      },
      "source": [
        "## **Basics of Python**\n",
        "\n",
        "Python is interactive. \n",
        "You can run each line of code, one at the time (in terminal, >>>).\n",
        "\n",
        "In particular, using notebooks such as Google Colab or Jupyter Notebook/Lab lets you write, save and execute code, one cell at the time.\n",
        "\n",
        "Each line is a \"sentence\" and it will be executed independently.\n",
        "\n",
        "Below is a code cell with a short Python script that computes a value, stores it in a variable, and prints the result:"
      ]
    },
    {
      "cell_type": "code",
      "metadata": {
        "id": "CgMc7W-ud63B"
      },
      "source": [
        "simple_sum = 1 + 2 + 3\n",
        "simple_sum"
      ],
      "execution_count": null,
      "outputs": []
    },
    {
      "cell_type": "markdown",
      "metadata": {
        "id": "HaI_wwtWh3xR"
      },
      "source": [
        "To execute the code in the above cell, select it with a click and then either press the play button to the left of the code, or use the keyboard shortcut **Command/Ctrl+Enter**. \n",
        "\n",
        "To edit the code, just click the cell and start editing. Move from cell to cell with up/down arrows.\n",
        "\n",
        "Variables that you define in one cell can later be used in other cells:"
      ]
    },
    {
      "cell_type": "code",
      "metadata": {
        "id": "JELN-Zn3h3Cc"
      },
      "source": [
        "simple_multiplication = simple_sum * simple_sum\n",
        "simple_multiplication\n"
      ],
      "execution_count": null,
      "outputs": []
    },
    {
      "cell_type": "markdown",
      "metadata": {
        "id": "FbLQkoU9iI_7"
      },
      "source": [
        "##### Exercise\n",
        "\n",
        "Calculate how many seconds in a day using the variable seconds_in_day and how many seconds in a week using the variable seconds_in_week, from the variable seconds_in_day"
      ]
    },
    {
      "cell_type": "code",
      "metadata": {
        "id": "PEUqlW-miHdA"
      },
      "source": [
        "seconds_in_day = "
      ],
      "execution_count": null,
      "outputs": []
    },
    {
      "cell_type": "code",
      "metadata": {
        "id": "zPIUCZ7Xid1r"
      },
      "source": [
        "seconds_in_week = "
      ],
      "execution_count": null,
      "outputs": []
    },
    {
      "cell_type": "markdown",
      "metadata": {
        "id": "sj4jmA9XitqI"
      },
      "source": [
        "### Get help"
      ]
    },
    {
      "cell_type": "markdown",
      "metadata": {
        "id": "LAZwq4fcK03G"
      },
      "source": [
        "\n",
        "Your python editor is your friend. It opens and closes parenthesis for you, it indents automatically, it colors the text making it easier to visually find what you need.\n",
        "\n",
        "While you type, using the TAB key in the editor usually gives potential options and completes names/funtions (preexisting variables, arguments in funtions, etc). This saves spelling mistakes: use extensively.\n",
        "\n",
        "Also, the notebook helps with function and options. Either run **help(**what_you_are_looking_for) or what_you_are_looking_for**?**\n",
        "\n",
        "\n"
      ]
    },
    {
      "cell_type": "code",
      "metadata": {
        "id": "f2x_QOYZeboD"
      },
      "source": [
        "help(print)"
      ],
      "execution_count": null,
      "outputs": []
    },
    {
      "cell_type": "code",
      "metadata": {
        "id": "1NX8z4Sld6G0"
      },
      "source": [
        "print?"
      ],
      "execution_count": null,
      "outputs": []
    },
    {
      "cell_type": "markdown",
      "metadata": {
        "id": "IHFMMEqmjBZT"
      },
      "source": [
        "##### Exercise\n",
        "\n",
        "Get help on the function len() and on the function range()."
      ]
    },
    {
      "cell_type": "markdown",
      "metadata": {
        "id": "C1-ueIIov47c"
      },
      "source": [
        "### Errors\n",
        "\n",
        "Do not freeze with errors. \n",
        "\n",
        "Look first what type of error it is (the example below it is a NameError), \n",
        "then where it is (convenient ----> pointing to line 1)\n",
        "\n",
        "If you do not know what they mean, google them.\n",
        "\n",
        "Error messages will tell you exactly **WHAT** is going wrong and **WHERE**"
      ]
    },
    {
      "cell_type": "code",
      "metadata": {
        "id": "CKkO2Nz5TRZJ"
      },
      "source": [
        "problem"
      ],
      "execution_count": null,
      "outputs": []
    },
    {
      "cell_type": "markdown",
      "metadata": {
        "id": "aON1xZ4uilaV"
      },
      "source": [
        "### Comments"
      ]
    },
    {
      "cell_type": "code",
      "metadata": {
        "id": "gGJC0FTcI05W"
      },
      "source": [
        "# This is a single line comment\n",
        "# whatever is after the '#' character will not be considered\n",
        "# keyboard shortcut: select line to comment/decomment and command/control + '/'\n",
        "\n",
        "##########################################################\n",
        "###\n",
        "###\n",
        "### Comments help with readability of your code.\n",
        "### Use them extensively to remind yourself in the future why you did something in your code\n",
        "###\n",
        "###\n",
        "##########################################################\n",
        "\n",
        "### You can be very creative with comments\n",
        "  #           *     ,MMM8&&&.            *\n",
        "  #                 MMMM88&&&&&    .\n",
        "  #                MMMM88&&&&&&&\n",
        "  #    *           MMM88&&&&&&&&\n",
        "  #                MMM88&&&&&&&&\n",
        "  #                'MMM88&&&&&&'\n",
        "  #                  'MMM8&&&'      *    \n",
        "  #         |\\___/|     /\\___/\\\n",
        "  #         )     (     )    ~( .              '\n",
        "  #        =\\     /=   =\\~    /=\n",
        "  #          )===(       ) ~ (\n",
        "  #         /     \\     /     \\\n",
        "  #         |     |     ) ~   (\n",
        "  #        /       \\   /     ~ \\\n",
        "  #        \\       /   \\~     ~/\n",
        "  # ____/\\_/\\__  _/_/\\_/\\__~__/_/\\_/\\_/\\_/\\_/\\_\n",
        "  # |  |  |  |( (  |  |  | ))  |  |  |  |  |  |\n",
        "  # |  |  |  | ) ) |  |  |//|  |  |  |  |  |  |\n",
        "  # |  |  |  |(_(  |  |  (( |  |  |  |  |  |  |\n",
        "  # |  |  |  |  |  |  |  |\\)|  |  |  |  |  |  |\n",
        "  # |  |  |  |  |  |  |  |  |  |  |  |  |  |  |\n",
        "\n",
        "\n",
        "\"\"\"\n",
        "This is a multiline comment\n",
        "written in more than one line\n",
        "and it does not generate an output\n",
        "\"\"\"\n",
        "\n",
        "print('only this will be printed')  # print is a built-in function that prints the object"
      ],
      "execution_count": null,
      "outputs": []
    },
    {
      "cell_type": "markdown",
      "metadata": {
        "id": "4FR-XWCeedkQ"
      },
      "source": [
        "### Python Spaces, Lines, and Indentation\n",
        "\n",
        "Indentation refers to the spaces at the beginning of a code line.\n",
        "\n",
        "Python uses indentation to indicate a **block of code**. At least one space needs to be used for indentation, although usually 4 spaces or a tab are used.\n",
        "\n",
        "Also use blank lines and spaces to help readibility."
      ]
    },
    {
      "cell_type": "code",
      "metadata": {
        "id": "WQCcbuGY1-aW"
      },
      "source": [
        "\n",
        "a = 0\n",
        "b = 2\n",
        "w = 5\n",
        "\n",
        "if a != b:\n",
        "  print('a different from b') # notice the indent\n"
      ],
      "execution_count": null,
      "outputs": []
    },
    {
      "cell_type": "code",
      "metadata": {
        "id": "ZDwtzDbRZ1sh"
      },
      "source": [
        "# to write a sentence in more than one line, use \\\n",
        "\n",
        "if a == 0 and b > 1 \\\n",
        "  and b< 5\\\n",
        "  and w  ==5:\n",
        "    print('line joining 1')\n",
        "else:\n",
        "  print(\"line joining 2\")"
      ],
      "execution_count": null,
      "outputs": []
    },
    {
      "cell_type": "markdown",
      "metadata": {
        "id": "mywRDLg5YhKI"
      },
      "source": [
        "### Variables\n",
        "Variables are reserved memory locations to store values.\n",
        "\n",
        "A variable can have a short name (like x and y) or a more descriptive name (age, total_volume, glucose, etc). \n",
        "\n",
        "Rules for Python variables:\n",
        "\n",
        "\n",
        "*   A variable name must start with a letter or the underscore character\n",
        "*   A variable name cannot start with a number\n",
        "*   A variable name can only contain alpha-numeric characters and underscores (A-z, 0-9, and _ ) - spaces are not allowed!\n",
        "*   Variable names are case-sensitive (age, Age and AGE are three different variables)\n",
        "*   Variable names cannot be in the restricted list\n"
      ]
    },
    {
      "cell_type": "markdown",
      "metadata": {
        "id": "lEc1pWm5zQen"
      },
      "source": [
        "### Reserved words\n",
        "\n",
        "Do  not use the following words to store variables. They have a meaning and should not be used for other purposes!"
      ]
    },
    {
      "cell_type": "code",
      "metadata": {
        "id": "2aGdoz2XqNmh"
      },
      "source": [
        "False\t\n",
        "True\n",
        "\n",
        "None\n",
        "\n",
        "is\n",
        "in\t\n",
        "\n",
        "and\n",
        "or\n",
        "not\n",
        "\n",
        "if\t\n",
        "else\n",
        "elif\n",
        "\n",
        "while\n",
        "\n",
        "for\n",
        "\n",
        "break\n",
        "pass\n",
        "\n",
        "try\n",
        "except \n",
        "\n",
        "def\t\n",
        "return\n",
        "import\n",
        "as\n",
        "del \n",
        "lambda\n",
        "\n",
        "class\t\n",
        "from\n",
        "raise\t\n",
        "with\n",
        "assert\t\n",
        "finally\t\n",
        "nonlocal\t\n",
        "yield\n",
        "continue\t\n",
        "global\t\n"
      ],
      "execution_count": null,
      "outputs": []
    },
    {
      "cell_type": "markdown",
      "metadata": {
        "id": "UU4qlIhiIcuH"
      },
      "source": [
        "\n",
        "### Data types\n"
      ]
    },
    {
      "cell_type": "markdown",
      "metadata": {
        "id": "R2IFzb_ZhkDb"
      },
      "source": [
        "Python has the following data types built-in by default, in these categories:\n",
        "\n",
        "* Text Type:\tstr\n",
        "* Numeric Types:\tint, float, complex\n",
        "* Sequence Types:\tlist, tuple, range\n",
        "* Mapping Type:\tdict\n",
        "* Set Types:\tset, frozenset\n",
        "* Boolean Type:\tbool\n",
        "* Binary Types:\tbytes, bytearray, memoryview"
      ]
    },
    {
      "cell_type": "code",
      "metadata": {
        "id": "V_t8UMyRIb-M"
      },
      "source": [
        "this_is_a_string = 'Hello World!'   # A string\n",
        "also_a_string = \"another String\"    # A string - ' and \" are equivalent\n",
        "this_is_an_integer = -64            # An integer assignment\n",
        "this_is_a_float = 123.0             # A floating point number, or float, is a number, \n",
        "                                    # positive or negative, containing one or more decimals\n",
        "also_a_float = 3.45e-5              # A float\n",
        "this_is_a_boolean = True            # A boolean\n",
        "also_a_boolean = False              # A boolean"
      ],
      "execution_count": null,
      "outputs": []
    },
    {
      "cell_type": "code",
      "metadata": {
        "id": "Wi3AQ30pK3qC"
      },
      "source": [
        "# multiple assignments\n",
        "this_is_a_string, this_is_an_integer, this_is_a_float, this_is_a_boolean = 'string', -64, 123.0, True"
      ],
      "execution_count": null,
      "outputs": []
    },
    {
      "cell_type": "markdown",
      "metadata": {
        "id": "1v4H4_ywqHuZ"
      },
      "source": [
        "### Operators"
      ]
    },
    {
      "cell_type": "markdown",
      "metadata": {
        "id": "PyozmlyBAArr"
      },
      "source": [
        "#### Arithmetic"
      ]
    },
    {
      "cell_type": "code",
      "metadata": {
        "id": "VA6_iYNSAH7O"
      },
      "source": [
        "x = 10\n",
        "y = 15"
      ],
      "execution_count": null,
      "outputs": []
    },
    {
      "cell_type": "code",
      "metadata": {
        "id": "aBNaKSlgpsAB"
      },
      "source": [
        "# Addition\n",
        "x + y"
      ],
      "execution_count": null,
      "outputs": []
    },
    {
      "cell_type": "code",
      "metadata": {
        "id": "EFIrxZjM0tZg"
      },
      "source": [
        "# Subtraction\n",
        "x - y"
      ],
      "execution_count": null,
      "outputs": []
    },
    {
      "cell_type": "code",
      "metadata": {
        "id": "URppw5NZ0tgC"
      },
      "source": [
        "# Multiplication\n",
        "x * y"
      ],
      "execution_count": null,
      "outputs": []
    },
    {
      "cell_type": "code",
      "metadata": {
        "id": "KYI5g7HP-HA2"
      },
      "source": [
        "# Division\n",
        "x / y"
      ],
      "execution_count": null,
      "outputs": []
    },
    {
      "cell_type": "code",
      "metadata": {
        "id": "5nC-P5lS-HDs"
      },
      "source": [
        "# Modulus (remainder of the division)\n",
        "x % y"
      ],
      "execution_count": null,
      "outputs": []
    },
    {
      "cell_type": "code",
      "metadata": {
        "id": "FaQWRQtv-HGS"
      },
      "source": [
        "# Exponent\n",
        "x ** y"
      ],
      "execution_count": null,
      "outputs": []
    },
    {
      "cell_type": "code",
      "metadata": {
        "id": "nRTjBme7-HI4"
      },
      "source": [
        "# Floor division (result is the quotient in which the digits after the decimal point are removed)\n",
        "y // x"
      ],
      "execution_count": null,
      "outputs": []
    },
    {
      "cell_type": "markdown",
      "metadata": {
        "id": "ZrlHlc0h_uvH"
      },
      "source": [
        "#### Comparison operators"
      ]
    },
    {
      "cell_type": "code",
      "metadata": {
        "id": "0mQmVpl-AGxX"
      },
      "source": [
        "# Equal\n",
        "x == y\n"
      ],
      "execution_count": null,
      "outputs": []
    },
    {
      "cell_type": "code",
      "metadata": {
        "id": "y_WYowGnAdTC"
      },
      "source": [
        "# not equal\n",
        "x != y"
      ],
      "execution_count": null,
      "outputs": []
    },
    {
      "cell_type": "code",
      "metadata": {
        "id": "Y9JnzgKtAdZ2"
      },
      "source": [
        "# greater than\n",
        "x > y"
      ],
      "execution_count": null,
      "outputs": []
    },
    {
      "cell_type": "code",
      "metadata": {
        "id": "cA-cAc21Adkh"
      },
      "source": [
        "# less than\n",
        "x < y"
      ],
      "execution_count": null,
      "outputs": []
    },
    {
      "cell_type": "code",
      "metadata": {
        "id": "dhRN96JVA0TU"
      },
      "source": [
        "# greater than or equal\n",
        "x >= y"
      ],
      "execution_count": null,
      "outputs": []
    },
    {
      "cell_type": "markdown",
      "metadata": {
        "id": "Ih9GIRD_OOGB"
      },
      "source": [
        "#### Logical operators"
      ]
    },
    {
      "cell_type": "code",
      "metadata": {
        "id": "qubESzL8OQ02"
      },
      "source": [
        "# and: is True if both x and y are true\n",
        "\n",
        "(x >10 and y >10)"
      ],
      "execution_count": null,
      "outputs": []
    },
    {
      "cell_type": "code",
      "metadata": {
        "id": "PgxThuaeORDz"
      },
      "source": [
        "# or: is True if either x or y is true\n",
        "\n",
        "(x >10 or y >10)"
      ],
      "execution_count": null,
      "outputs": []
    },
    {
      "cell_type": "code",
      "metadata": {
        "id": "Zr4V9O2uOjx2"
      },
      "source": [
        "# not: If a condition is true then Logical not operator will make false.\n",
        "not(x >10 or y >10)"
      ],
      "execution_count": null,
      "outputs": []
    },
    {
      "cell_type": "markdown",
      "metadata": {
        "id": "DjqnMVQSRKXS"
      },
      "source": [
        "#### Assignment operators"
      ]
    },
    {
      "cell_type": "code",
      "metadata": {
        "id": "9-WzaDieR7QQ"
      },
      "source": [
        "# add the two variables and assign the value to the left variable\n",
        "x+=y\n",
        "x"
      ],
      "execution_count": null,
      "outputs": []
    },
    {
      "cell_type": "code",
      "metadata": {
        "id": "3qihDSLTSGUz"
      },
      "source": [
        "x+=1\n",
        "x"
      ],
      "execution_count": null,
      "outputs": []
    },
    {
      "cell_type": "markdown",
      "metadata": {
        "id": "LHO_A5I1Prf8"
      },
      "source": [
        "### Data Structures"
      ]
    },
    {
      "cell_type": "markdown",
      "metadata": {
        "id": "BjEPcOATQ5aW"
      },
      "source": [
        "**Lists**"
      ]
    },
    {
      "cell_type": "code",
      "metadata": {
        "id": "Ea28UxClPxKS"
      },
      "source": [
        "# lists\n",
        "this_is_a_list = []"
      ],
      "execution_count": null,
      "outputs": []
    },
    {
      "cell_type": "code",
      "metadata": {
        "id": "sVEr01B8PxVR"
      },
      "source": [
        "# lists can contain multiple data types\n",
        "this_is_a_list = ['string'] \n",
        "this_is_a_list"
      ],
      "execution_count": null,
      "outputs": []
    },
    {
      "cell_type": "code",
      "metadata": {
        "id": "YoGqPWnLQvJL"
      },
      "source": [
        "# add objects to a list (as long as they are also in lists)\n",
        "this_is_a_list = this_is_a_list + ['element'] # + concatenates lists\n",
        "this_is_a_list = this_is_a_list + [True, False, True] + [35, -123.56]\n",
        "this_is_a_list"
      ],
      "execution_count": null,
      "outputs": []
    },
    {
      "cell_type": "code",
      "metadata": {
        "id": "She_oLbQQJr7"
      },
      "source": [
        "# remove objects from a list\n",
        "this_is_a_list.remove('string')\n",
        "this_is_a_list"
      ],
      "execution_count": null,
      "outputs": []
    },
    {
      "cell_type": "code",
      "metadata": {
        "id": "vNjYZZNORC3a"
      },
      "source": [
        "# access one or more element in the list with their index\n",
        "# remember that python starts to count from 0\n",
        "print(this_is_a_list)\n",
        "print(this_is_a_list[0])    # prints the first element of the list\n",
        "print(this_is_a_list[-1])   # prints the last element of the list\n",
        "print(this_is_a_list[2:4])  # prints a range of elements based on their indexes (slicing)\n",
        "print(this_is_a_list[::-2]) # prints every other element in reverse "
      ],
      "execution_count": null,
      "outputs": []
    },
    {
      "cell_type": "markdown",
      "metadata": {
        "id": "jU5qObV3Q9jH"
      },
      "source": [
        "**Tuples**"
      ]
    },
    {
      "cell_type": "markdown",
      "metadata": {
        "id": "HAQ6uHagb8dz"
      },
      "source": [
        "Tuples are like lists, except they are immutable (i.e. you cannot change its content once created) and can hold mix data types."
      ]
    },
    {
      "cell_type": "code",
      "metadata": {
        "id": "722uQWXEQem5"
      },
      "source": [
        "this_is_a_tuple = ('tuples', 'are', 'immutable')"
      ],
      "execution_count": null,
      "outputs": []
    },
    {
      "cell_type": "code",
      "metadata": {
        "id": "feua-OwbcMCt"
      },
      "source": [
        "print(this_is_a_tuple[2])"
      ],
      "execution_count": null,
      "outputs": []
    },
    {
      "cell_type": "markdown",
      "metadata": {
        "id": "AbJR9MC90brm"
      },
      "source": [
        "**Dictionary**\n",
        "\n",
        "A dictionary is a container of key:value pairs.\n",
        "Each object or value accessed by key and keys are unique in the dictionary. As keys are used for indexing, they must be the immutable type (string, number, or tuple). \n",
        "\n",
        "You can create an empty dictionary using empty curly braces."
      ]
    },
    {
      "cell_type": "code",
      "metadata": {
        "id": "OQrHA9KM0nRM"
      },
      "source": [
        "this_is_a_dict = {\n",
        "        'ATA':'I', 'ATC':'I', 'ATT':'I', 'ATG':'M',\n",
        "        'ACA':'T', 'ACC':'T', 'ACG':'T', 'ACT':'T',\n",
        "        'AAC':'N', 'AAT':'N', 'AAA':'K', 'AAG':'K',\n",
        "        'AGC':'S', 'AGT':'S', 'AGA':'R', 'AGG':'R',                \n",
        "        'CTA':'L', 'CTC':'L', 'CTG':'L', 'CTT':'L',\n",
        "        'CCA':'P', 'CCC':'P', 'CCG':'P', 'CCT':'P',\n",
        "        'CAC':'H', 'CAT':'H', 'CAA':'Q', 'CAG':'Q',\n",
        "        'CGA':'R', 'CGC':'R', 'CGG':'R', 'CGT':'R',\n",
        "        'GTA':'V', 'GTC':'V', 'GTG':'V', 'GTT':'V',\n",
        "        'GCA':'A', 'GCC':'A', 'GCG':'A', 'GCT':'A',\n",
        "        'GAC':'D', 'GAT':'D', 'GAA':'E', 'GAG':'E',\n",
        "        'GGA':'G', 'GGC':'G', 'GGG':'G', 'GGT':'G',\n",
        "        'TCA':'S', 'TCC':'S', 'TCG':'S', 'TCT':'S',\n",
        "        'TTC':'F', 'TTT':'F', 'TTA':'L', 'TTG':'L',\n",
        "        'TAC':'Y', 'TAT':'Y', 'TAA':'_', 'TAG':'_',\n",
        "        'TGC':'C', 'TGT':'C', 'TGA':'_', 'TGG':'W'}"
      ],
      "execution_count": null,
      "outputs": []
    },
    {
      "cell_type": "code",
      "metadata": {
        "id": "8_drdoE2dLYi"
      },
      "source": [
        "this_is_a_dict['GCG']"
      ],
      "execution_count": null,
      "outputs": []
    },
    {
      "cell_type": "code",
      "metadata": {
        "id": "ghOlGrHbdQXp"
      },
      "source": [
        "# you can add elements to the dictionary \n",
        "this_is_a_dict['element'] = 'something'"
      ],
      "execution_count": null,
      "outputs": []
    },
    {
      "cell_type": "markdown",
      "metadata": {
        "id": "M0sa0JBdo5F7"
      },
      "source": [
        "**Set**\n",
        "\n",
        "An unordered collection of **unique** values"
      ]
    },
    {
      "cell_type": "code",
      "metadata": {
        "id": "22DhI2rrpC5C"
      },
      "source": [
        "this_is_a_set = {'value', 1, 5, True, 'unique'}"
      ],
      "execution_count": null,
      "outputs": []
    },
    {
      "cell_type": "markdown",
      "source": [
        "### Accessing data (or indexing)\n",
        "\n",
        "\n"
      ],
      "metadata": {
        "id": "ZeVrBLOHML4O"
      }
    },
    {
      "cell_type": "markdown",
      "source": [
        "#### **HOW DOES PYTHON COUNT?**\n",
        "\n",
        "The first element of something is the element with index 0\n",
        "\n",
        "![image.png](data:image/png;base64,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)"
      ],
      "metadata": {
        "id": "eH7w7amoMk5x"
      }
    },
    {
      "cell_type": "markdown",
      "source": [
        "you can also index from right to left\n",
        "\n",
        "![image.png](data:image/png;base64,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)"
      ],
      "metadata": {
        "id": "Rxfwg-nENjKp"
      }
    },
    {
      "cell_type": "markdown",
      "source": [
        "#### Unique elements\n",
        "With indexes, you can access the elements of your data (strings or lists, for example)."
      ],
      "metadata": {
        "id": "W5JlHicFM62w"
      }
    },
    {
      "cell_type": "code",
      "source": [
        "long_description = \"This is a long description about something\"\n",
        "long_description[0] # gives the 0th pythonic position in the string\n"
      ],
      "metadata": {
        "colab": {
          "base_uri": "https://localhost:8080/",
          "height": 35
        },
        "id": "7DoJluhvMXkD",
        "outputId": "4f446ce9-e668-4f2d-b59a-b8589d9169cd"
      },
      "execution_count": null,
      "outputs": [
        {
          "output_type": "execute_result",
          "data": {
            "application/vnd.google.colaboratory.intrinsic+json": {
              "type": "string"
            },
            "text/plain": [
              "'T'"
            ]
          },
          "metadata": {},
          "execution_count": 4
        }
      ]
    },
    {
      "cell_type": "code",
      "source": [
        "long_description[5] # gives the 5th pythonic position in the string\n"
      ],
      "metadata": {
        "colab": {
          "base_uri": "https://localhost:8080/",
          "height": 35
        },
        "id": "vtjxIPPOMyIA",
        "outputId": "4888db13-a139-40c7-820a-5866f4d58f47"
      },
      "execution_count": null,
      "outputs": [
        {
          "output_type": "execute_result",
          "data": {
            "application/vnd.google.colaboratory.intrinsic+json": {
              "type": "string"
            },
            "text/plain": [
              "'i'"
            ]
          },
          "metadata": {},
          "execution_count": 5
        }
      ]
    },
    {
      "cell_type": "code",
      "source": [
        "long_description[-5] # gives the 5th from the right position in the string\n"
      ],
      "metadata": {
        "colab": {
          "base_uri": "https://localhost:8080/",
          "height": 35
        },
        "id": "h_MlfmYUNbnq",
        "outputId": "d594bad8-b909-48f4-d811-7617b41f89bf"
      },
      "execution_count": null,
      "outputs": [
        {
          "output_type": "execute_result",
          "data": {
            "application/vnd.google.colaboratory.intrinsic+json": {
              "type": "string"
            },
            "text/plain": [
              "'t'"
            ]
          },
          "metadata": {},
          "execution_count": 6
        }
      ]
    },
    {
      "cell_type": "markdown",
      "source": [
        "#### Multiple elements \n",
        "#####String slicing"
      ],
      "metadata": {
        "id": "T-SYlP6-NAR7"
      }
    },
    {
      "cell_type": "code",
      "source": [
        "another_description = \"This is another description about something\"\n",
        "another_description[2:10]"
      ],
      "metadata": {
        "colab": {
          "base_uri": "https://localhost:8080/",
          "height": 35
        },
        "id": "piyuSDMIM6Tv",
        "outputId": "1c2c4f55-a98b-40c9-f7d6-835912d288ba"
      },
      "execution_count": null,
      "outputs": [
        {
          "output_type": "execute_result",
          "data": {
            "application/vnd.google.colaboratory.intrinsic+json": {
              "type": "string"
            },
            "text/plain": [
              "'is is an'"
            ]
          },
          "metadata": {},
          "execution_count": 7
        }
      ]
    },
    {
      "cell_type": "code",
      "source": [
        "another_description[:12]"
      ],
      "metadata": {
        "colab": {
          "base_uri": "https://localhost:8080/",
          "height": 35
        },
        "id": "RXUtQbkkMLIa",
        "outputId": "f595854a-641d-47d5-ab4c-0c05f603dab8"
      },
      "execution_count": null,
      "outputs": [
        {
          "output_type": "execute_result",
          "data": {
            "application/vnd.google.colaboratory.intrinsic+json": {
              "type": "string"
            },
            "text/plain": [
              "'This is anot'"
            ]
          },
          "metadata": {},
          "execution_count": 11
        }
      ]
    },
    {
      "cell_type": "code",
      "source": [
        "another_description[15:]"
      ],
      "metadata": {
        "colab": {
          "base_uri": "https://localhost:8080/",
          "height": 35
        },
        "id": "AecV6-o2ONYw",
        "outputId": "26f1e423-f276-4761-8949-a075ad45db9a"
      },
      "execution_count": null,
      "outputs": [
        {
          "output_type": "execute_result",
          "data": {
            "application/vnd.google.colaboratory.intrinsic+json": {
              "type": "string"
            },
            "text/plain": [
              "' description about something'"
            ]
          },
          "metadata": {},
          "execution_count": 12
        }
      ]
    },
    {
      "cell_type": "code",
      "source": [
        "another_description[:]"
      ],
      "metadata": {
        "colab": {
          "base_uri": "https://localhost:8080/",
          "height": 35
        },
        "id": "z7432w3COQMm",
        "outputId": "45129de0-ead8-4412-b100-9bdc884bde65"
      },
      "execution_count": null,
      "outputs": [
        {
          "output_type": "execute_result",
          "data": {
            "application/vnd.google.colaboratory.intrinsic+json": {
              "type": "string"
            },
            "text/plain": [
              "'This is another description about something'"
            ]
          },
          "metadata": {},
          "execution_count": 13
        }
      ]
    },
    {
      "cell_type": "markdown",
      "source": [
        "##### String indexing with stride\n",
        "You can specify a stride (or a step), which indicates how many characters to jump after retrieving each character in the slice."
      ],
      "metadata": {
        "id": "Ez16wFGPOh25"
      }
    },
    {
      "cell_type": "code",
      "source": [
        "another_description[::1] # stride = 1 means every element in the slice"
      ],
      "metadata": {
        "colab": {
          "base_uri": "https://localhost:8080/",
          "height": 35
        },
        "id": "9CzmRJKmOoQ6",
        "outputId": "87b468e9-3867-4016-fb3e-38251657e51a"
      },
      "execution_count": null,
      "outputs": [
        {
          "output_type": "execute_result",
          "data": {
            "application/vnd.google.colaboratory.intrinsic+json": {
              "type": "string"
            },
            "text/plain": [
              "'This is another description about something'"
            ]
          },
          "metadata": {},
          "execution_count": 14
        }
      ]
    },
    {
      "cell_type": "code",
      "source": [
        "another_description[::2] # stride = 2 means every OTHER element in the slice"
      ],
      "metadata": {
        "colab": {
          "base_uri": "https://localhost:8080/",
          "height": 35
        },
        "id": "G8w-IsryOs8M",
        "outputId": "ab4edfb5-0e0a-47cc-ccfe-0884fd226950"
      },
      "execution_count": null,
      "outputs": [
        {
          "output_type": "execute_result",
          "data": {
            "application/vnd.google.colaboratory.intrinsic+json": {
              "type": "string"
            },
            "text/plain": [
              "'Ti saohrdsrpinaotsmtig'"
            ]
          },
          "metadata": {},
          "execution_count": 15
        }
      ]
    },
    {
      "cell_type": "code",
      "source": [
        "another_description[::3]"
      ],
      "metadata": {
        "colab": {
          "base_uri": "https://localhost:8080/",
          "height": 35
        },
        "id": "2HHFHJr7OvCq",
        "outputId": "cdd9481b-edab-4628-ce46-48acd9b0379c"
      },
      "execution_count": null,
      "outputs": [
        {
          "output_type": "execute_result",
          "data": {
            "application/vnd.google.colaboratory.intrinsic+json": {
              "type": "string"
            },
            "text/plain": [
              "'Tssnh sii o mhg'"
            ]
          },
          "metadata": {},
          "execution_count": 16
        }
      ]
    },
    {
      "cell_type": "code",
      "source": [
        "another_string = '12345123451234512345'\n",
        "another_string[::5]"
      ],
      "metadata": {
        "colab": {
          "base_uri": "https://localhost:8080/",
          "height": 35
        },
        "id": "E56zcU0nPEVg",
        "outputId": "54f9d469-7822-4c02-f4c5-79b3d8f5391a"
      },
      "execution_count": null,
      "outputs": [
        {
          "output_type": "execute_result",
          "data": {
            "application/vnd.google.colaboratory.intrinsic+json": {
              "type": "string"
            },
            "text/plain": [
              "'1111'"
            ]
          },
          "metadata": {},
          "execution_count": 19
        }
      ]
    },
    {
      "cell_type": "code",
      "source": [
        "another_string[2::5]"
      ],
      "metadata": {
        "colab": {
          "base_uri": "https://localhost:8080/",
          "height": 35
        },
        "id": "Xf8JNPH8PNJL",
        "outputId": "52a03445-c902-4c4d-de89-4b8a383855f7"
      },
      "execution_count": null,
      "outputs": [
        {
          "output_type": "execute_result",
          "data": {
            "application/vnd.google.colaboratory.intrinsic+json": {
              "type": "string"
            },
            "text/plain": [
              "'3333'"
            ]
          },
          "metadata": {},
          "execution_count": 20
        }
      ]
    },
    {
      "cell_type": "markdown",
      "source": [
        "The stride also allows to access elements in reverse\n"
      ],
      "metadata": {
        "id": "2evznBzKPDoH"
      }
    },
    {
      "cell_type": "code",
      "source": [
        "my_name = 'MyName'\n",
        "my_name[::-1]"
      ],
      "metadata": {
        "colab": {
          "base_uri": "https://localhost:8080/",
          "height": 35
        },
        "id": "pi1Ugr2uPZFp",
        "outputId": "8eb3df31-ec49-4a4d-b620-85b28859dda5"
      },
      "execution_count": null,
      "outputs": [
        {
          "output_type": "execute_result",
          "data": {
            "application/vnd.google.colaboratory.intrinsic+json": {
              "type": "string"
            },
            "text/plain": [
              "'emaNyM'"
            ]
          },
          "metadata": {},
          "execution_count": 21
        }
      ]
    },
    {
      "cell_type": "markdown",
      "source": [
        "You can apply any operations with index in data types with index (lists for example)\n"
      ],
      "metadata": {
        "id": "zp0rjhwrPreN"
      }
    },
    {
      "cell_type": "code",
      "source": [
        "my_list = ['this', 'is', 'my', 'name']\n",
        "my_list[::-1]"
      ],
      "metadata": {
        "colab": {
          "base_uri": "https://localhost:8080/"
        },
        "id": "HxWNh5XwPx-T",
        "outputId": "4096597b-aaf2-47c9-c060-c9ac67092a04"
      },
      "execution_count": null,
      "outputs": [
        {
          "output_type": "execute_result",
          "data": {
            "text/plain": [
              "['name', 'my', 'is', 'this']"
            ]
          },
          "metadata": {},
          "execution_count": 22
        }
      ]
    },
    {
      "cell_type": "markdown",
      "metadata": {
        "id": "y7lb6m-j0hUU"
      },
      "source": [
        "## **Statements**"
      ]
    },
    {
      "cell_type": "markdown",
      "metadata": {
        "id": "pWzamhR-0siP"
      },
      "source": [
        "#### if - elif - else\n",
        "\n",
        "It executes a set of statements conditionally, based on the value of a logical expression."
      ]
    },
    {
      "cell_type": "code",
      "metadata": {
        "id": "1PFkrtWwUkmb"
      },
      "source": [
        "x = 10\n",
        "if x > 10 :  # tests the logical expression\n",
        "  #does something - execute the statement\n",
        "  print('x is greater than ten')\n",
        "\n",
        "  #if the logical expression is not true, does nothing\n"
      ],
      "execution_count": null,
      "outputs": []
    },
    {
      "cell_type": "code",
      "metadata": {
        "id": "2784QxTcV00S"
      },
      "source": [
        "# else\n",
        "if x > 10 :  \n",
        "  print('x is greater than ten')\n",
        "else: # if the previous condition is not true, executes this statement\n",
        "  print('x is less than ten')"
      ],
      "execution_count": null,
      "outputs": []
    },
    {
      "cell_type": "code",
      "metadata": {
        "id": "sqPZJ7J2VT_l"
      },
      "source": [
        "# elif\n",
        "if x > 10 :  \n",
        "  print('x is greater than ten')\n",
        "elif x > 5: # tests another logical expression if the previous is not true\n",
        "  print('x is greater than five')\n",
        "# you can have infinite elif logical expressions to test, and if they\n",
        "else: # if any of the logical expressions are not true, executes this statement\n",
        "  print('x is less than ten')"
      ],
      "execution_count": null,
      "outputs": []
    },
    {
      "cell_type": "markdown",
      "metadata": {
        "id": "MxPqYQHS0u6o"
      },
      "source": [
        "#### for loop\n",
        "\n",
        "for loop is used to iterate over the items of any sequence including the Python list, string, tuple, dictionaries, etc"
      ]
    },
    {
      "cell_type": "code",
      "metadata": {
        "id": "S-H-25AlUmys"
      },
      "source": [
        "sequence = [\"Red\", \"Blue\", \"Green\", \"Black\"]\n",
        "for i in sequence:\n",
        "  # do something\n",
        "  print(i)\n",
        "  print(\"print again\", i)"
      ],
      "execution_count": null,
      "outputs": []
    },
    {
      "cell_type": "code",
      "metadata": {
        "id": "53pCTSlGRMYr"
      },
      "source": [
        "sequence = range(0,11)\n",
        "\n",
        "# Python starts to count at 0\n",
        "for i in sequence:  \n",
        "  # range is a built-in function that returns a sequence of numbers, \n",
        "  # starting from 0 and increments by 1 (by default), the last integer is ignored\n",
        "  print(i)\n",
        "  if i in range(3,6):\n",
        "    print('%s is between 3 and 5' %i)"
      ],
      "execution_count": null,
      "outputs": []
    },
    {
      "cell_type": "markdown",
      "metadata": {
        "id": "uvkgOyTN0xHY"
      },
      "source": [
        "#### while\n",
        "\n",
        "A while loop repeateadly executes a block of program until the condition evaluated is False"
      ]
    },
    {
      "cell_type": "code",
      "metadata": {
        "id": "pFt4UCucazuQ"
      },
      "source": [
        "x = 0\n",
        "\n",
        "while x < 10:\n",
        "  print(x)\n",
        "  x +=1"
      ],
      "execution_count": null,
      "outputs": []
    },
    {
      "cell_type": "code",
      "metadata": {
        "id": "knpbsCF2bRfp"
      },
      "source": [
        "# careful not to enter an infinite loop!\n",
        "x = 0\n",
        "\n",
        "while x < 10:\n",
        "  print(x)\n"
      ],
      "execution_count": null,
      "outputs": []
    },
    {
      "cell_type": "code",
      "metadata": {
        "id": "bVK0hmA9bcsF"
      },
      "source": [
        "x = 0\n",
        "\n",
        "while x < 10:\n",
        "  print(x)\n",
        "  x +=1\n",
        "else:\n",
        "  print('the loop is over')"
      ],
      "execution_count": null,
      "outputs": []
    },
    {
      "cell_type": "code",
      "metadata": {
        "id": "5BkxiTlabmjp"
      },
      "source": [
        "x = 0\n",
        "\n",
        "while x < 10:\n",
        "  print(x)\n",
        "  x +=1\n",
        "  if x == 5:\n",
        "    break # finishes the loop\n"
      ],
      "execution_count": null,
      "outputs": []
    },
    {
      "cell_type": "markdown",
      "metadata": {
        "id": "R5ZR2OixCJo8"
      },
      "source": [
        "## **Built-in functions**"
      ]
    },
    {
      "cell_type": "markdown",
      "metadata": {
        "id": "omNYmYEqS1ns"
      },
      "source": [
        "#### **print()**"
      ]
    },
    {
      "cell_type": "code",
      "metadata": {
        "id": "qKWp2Fx7HLw0"
      },
      "source": [
        "# The Python print function is often used to output variables.\n",
        "\n",
        "# assign a value to a variable, \n",
        "this_is_a_string = 'Hello World!'\n",
        "\n",
        "print(this_is_a_string)"
      ],
      "execution_count": null,
      "outputs": []
    },
    {
      "cell_type": "markdown",
      "metadata": {
        "id": "50Fkw8odjMG-"
      },
      "source": [
        "#### **len()**"
      ]
    },
    {
      "cell_type": "code",
      "metadata": {
        "id": "o7A3LRjKjRt2"
      },
      "source": [
        "# the function len() outputs the length of the object\n",
        "len(this_is_a_string)"
      ],
      "execution_count": null,
      "outputs": []
    },
    {
      "cell_type": "code",
      "metadata": {
        "id": "FOMUpH4kjcLu"
      },
      "source": [
        "# access the last element of the string using len()\n",
        "this_is_a_string[len(this_is_a_string )-1]"
      ],
      "execution_count": null,
      "outputs": []
    },
    {
      "cell_type": "markdown",
      "metadata": {
        "id": "qUYtvb6vS5yE"
      },
      "source": [
        "#### **type()**"
      ]
    },
    {
      "cell_type": "code",
      "metadata": {
        "id": "WdLxxwtvGoLF"
      },
      "source": [
        "# built-in function type() returns the type of object is the one in parenthesis\n",
        "type(this_is_a_string)"
      ],
      "execution_count": null,
      "outputs": []
    },
    {
      "cell_type": "code",
      "metadata": {
        "id": "a3FKCjMkGyvh"
      },
      "source": [
        "# built-in function type()\n",
        "type(this_is_an_integer)"
      ],
      "execution_count": null,
      "outputs": []
    },
    {
      "cell_type": "code",
      "metadata": {
        "id": "X42jgUZMHMu6"
      },
      "source": [
        "# built-in function type()\n",
        "type(this_is_a_float)"
      ],
      "execution_count": null,
      "outputs": []
    },
    {
      "cell_type": "code",
      "metadata": {
        "id": "XTPZ6ssTJNda"
      },
      "source": [
        "# built-in function type()\n",
        "type(this_is_a_boolean)"
      ],
      "execution_count": null,
      "outputs": []
    },
    {
      "cell_type": "markdown",
      "metadata": {
        "id": "ikJ_D77OTIGd"
      },
      "source": [
        "#### **range()**"
      ]
    },
    {
      "cell_type": "code",
      "metadata": {
        "id": "H3Cq_eFTTGhj"
      },
      "source": [
        "for i in range(0, 11):  \n",
        "  # range is a built-in function that returns a sequence of numbers, \n",
        "  # starting from 0 and increments by 1 (by default)\n",
        "  print(i)"
      ],
      "execution_count": null,
      "outputs": []
    },
    {
      "cell_type": "code",
      "metadata": {
        "id": "n-OogmZiUri4"
      },
      "source": [
        "for i in range(11): \n",
        "  print(i)"
      ],
      "execution_count": null,
      "outputs": []
    },
    {
      "cell_type": "code",
      "metadata": {
        "id": "Z-UiiVXAJbxH"
      },
      "source": [
        "for i in range(0, 11, 2): # increments by 2\n",
        "  print(i)"
      ],
      "execution_count": null,
      "outputs": []
    },
    {
      "cell_type": "markdown",
      "metadata": {
        "id": "k8yiPKstZQ-D"
      },
      "source": [
        "#### **format()**"
      ]
    },
    {
      "cell_type": "code",
      "metadata": {
        "id": "HdVVX3feZOYe"
      },
      "source": [
        "# The format() function formats a specified value into a specified format."
      ],
      "execution_count": null,
      "outputs": []
    },
    {
      "cell_type": "code",
      "metadata": {
        "id": "2H4nsz1MeHzU"
      },
      "source": [
        "# Some examples of formats available\n",
        "# 'g' - General format\n",
        "# 'e' - Scientific format, with a lower case e\n",
        "# 'E' - Scientific format, with an upper case E\n",
        "# 'f' - Fix point number format\n",
        "# 'F' - Fix point number format, upper case\n",
        "# 'n' - Number format\n",
        "# '%' - Percentage format\n"
      ],
      "execution_count": null,
      "outputs": []
    },
    {
      "cell_type": "code",
      "metadata": {
        "id": "nr4n1BbW7kEK"
      },
      "source": [
        "x= 3.26e-4\n",
        "print('{}'.format(x))     # no specifications\n",
        "print('{:.5f}'.format(x)) # up to the 5th digit\n",
        "print('{:.5e}'.format(x)) # up to the 5th digit scientific notation\n",
        "print('{:.5E}'.format(x)) # up to the 5th digit scientific notation uppercase E\n",
        "print('{:n}'.format(x))   # number\n",
        "print('{:%}'.format(x))   # percentage\n",
        "\n",
        "# old format\n",
        "print('%.5f' %x)\n",
        "print('%.5e' %x)"
      ],
      "execution_count": null,
      "outputs": []
    },
    {
      "cell_type": "markdown",
      "source": [
        "#### **append()**\n",
        "\n",
        "Appends an element at the end of the list"
      ],
      "metadata": {
        "id": "EE-Xm0WmK6I_"
      }
    },
    {
      "cell_type": "code",
      "source": [
        "my_list = ['apples', 'pears', 'oranges']\n",
        "my_list.append('pineapples')\n",
        "print(my_list)"
      ],
      "metadata": {
        "colab": {
          "base_uri": "https://localhost:8080/"
        },
        "id": "ozjLsGGjK54m",
        "outputId": "bf719f5a-f806-4d3f-f107-10b577bbcdea"
      },
      "execution_count": null,
      "outputs": [
        {
          "output_type": "stream",
          "name": "stdout",
          "text": [
            "['apples', 'pears', 'oranges', 'pineapples']\n"
          ]
        }
      ]
    },
    {
      "cell_type": "code",
      "source": [],
      "metadata": {
        "id": "QlVjLcXdK5c_"
      },
      "execution_count": null,
      "outputs": []
    },
    {
      "cell_type": "markdown",
      "metadata": {
        "id": "y_y1kVYKgt15"
      },
      "source": [
        "#### **input()**\n",
        "\n",
        "The input() function allows user input."
      ]
    },
    {
      "cell_type": "code",
      "metadata": {
        "id": "FHLf2makgw1j"
      },
      "source": [
        "print('Enter your name:')\n",
        "x = input()\n",
        "print('Hello, ' + x)"
      ],
      "execution_count": null,
      "outputs": []
    },
    {
      "cell_type": "markdown",
      "metadata": {
        "id": "3R0LZAyPS-Uf"
      },
      "source": [
        "#### **Functions converting objects**"
      ]
    },
    {
      "cell_type": "markdown",
      "source": [
        "##### str()"
      ],
      "metadata": {
        "id": "ea_Hp8etNwct"
      }
    },
    {
      "cell_type": "code",
      "metadata": {
        "id": "QbAF0_gDGkDm"
      },
      "source": [
        "# built-in function str() converts object into a string\n",
        "this_is_also_a_string = str(this_is_an_integer)\n",
        "this_is_also_a_string"
      ],
      "execution_count": null,
      "outputs": []
    },
    {
      "cell_type": "code",
      "metadata": {
        "id": "5LBMJIm4GkGD"
      },
      "source": [
        "type(this_is_also_a_string)"
      ],
      "execution_count": null,
      "outputs": []
    },
    {
      "cell_type": "markdown",
      "source": [
        "##### int()"
      ],
      "metadata": {
        "id": "zN40VO4INzts"
      }
    },
    {
      "cell_type": "code",
      "metadata": {
        "id": "eDSL_MtfHPuv"
      },
      "source": [
        "# built-in function int() converts object into integer\n",
        "this_is_also_an_integer = int(this_is_a_float)\n",
        "type(this_is_also_an_integer)"
      ],
      "execution_count": null,
      "outputs": []
    },
    {
      "cell_type": "markdown",
      "source": [
        "##### float()"
      ],
      "metadata": {
        "id": "V1UFj0jMN1VM"
      }
    },
    {
      "cell_type": "code",
      "metadata": {
        "id": "rnwn2vjgHuwr"
      },
      "source": [
        "# built-in function float() converts object into a float\n",
        "this_is_also_a_float = float(this_is_an_integer)\n",
        "type(this_is_also_a_float)\n"
      ],
      "execution_count": null,
      "outputs": []
    },
    {
      "cell_type": "code",
      "metadata": {
        "id": "6qhRVrt-H4c1"
      },
      "source": [
        "this_is_also_a_float"
      ],
      "execution_count": null,
      "outputs": []
    },
    {
      "cell_type": "markdown",
      "source": [
        "##### bool()"
      ],
      "metadata": {
        "id": "BqlbIs0NN3dB"
      }
    },
    {
      "cell_type": "code",
      "metadata": {
        "id": "cVSuptGLJxFo"
      },
      "source": [
        "# bool() function converts an object into its boolean value\n",
        "# it will always be True unless:\n",
        "#   The object is empty, like [], (), {}\n",
        "#   The object is False\n",
        "#   The object is 0\n",
        "#   The object is None\n",
        "bool(1)"
      ],
      "execution_count": null,
      "outputs": []
    },
    {
      "cell_type": "code",
      "metadata": {
        "id": "H2kqFdh6KiLp",
        "colab": {
          "base_uri": "https://localhost:8080/"
        },
        "outputId": "85f54136-9df7-4d36-df9b-f4df0a518b13"
      },
      "source": [
        "bool('Am I True?')"
      ],
      "execution_count": null,
      "outputs": [
        {
          "output_type": "execute_result",
          "data": {
            "text/plain": [
              "True"
            ]
          },
          "metadata": {},
          "execution_count": 7
        }
      ]
    },
    {
      "cell_type": "code",
      "metadata": {
        "id": "lpvrJrpOJ18Q"
      },
      "source": [
        "# None is one of the empy objects in Python\n",
        "bool(None)"
      ],
      "execution_count": null,
      "outputs": []
    },
    {
      "cell_type": "code",
      "metadata": {
        "id": "DbPDWF6wItj7"
      },
      "source": [
        "bool(0)"
      ],
      "execution_count": null,
      "outputs": []
    },
    {
      "cell_type": "markdown",
      "source": [
        "#### **Mathematical built-in functions**"
      ],
      "metadata": {
        "id": "Bg29tudHMVkQ"
      }
    },
    {
      "cell_type": "markdown",
      "source": [
        "##### sum()"
      ],
      "metadata": {
        "id": "uh6b9wJeM10P"
      }
    },
    {
      "cell_type": "code",
      "source": [
        "# built-in function sum() returns the sum of the elements\n",
        "\n",
        "sum(range(20))"
      ],
      "metadata": {
        "id": "uvSNaZGHM6MM"
      },
      "execution_count": null,
      "outputs": []
    },
    {
      "cell_type": "markdown",
      "source": [
        "##### pow()"
      ],
      "metadata": {
        "id": "aVRr6ChkM30G"
      }
    },
    {
      "cell_type": "code",
      "source": [
        "# built-in function pow() returns the calculated value of x to the power of y\n",
        "\n",
        "pow(2,3)"
      ],
      "metadata": {
        "id": "bjA42g1nNUKA"
      },
      "execution_count": null,
      "outputs": []
    },
    {
      "cell_type": "markdown",
      "source": [
        "##### abs()"
      ],
      "metadata": {
        "id": "Etu-ZCqEMwig"
      }
    },
    {
      "cell_type": "code",
      "metadata": {
        "id": "67v5agVWJJtJ"
      },
      "source": [
        "# built-in function abs() returns the absolute value of a number\n",
        "abs(this_is_also_a_float)"
      ],
      "execution_count": null,
      "outputs": []
    },
    {
      "cell_type": "code",
      "metadata": {
        "id": "Umf1Lg2PIecG"
      },
      "source": [
        "# obviously functions can be nested\n",
        "int(abs(this_is_also_a_float))"
      ],
      "execution_count": null,
      "outputs": []
    },
    {
      "cell_type": "code",
      "metadata": {
        "id": "Tk-V-8pyIoUZ"
      },
      "source": [
        "# you need a number if you want to convert an absolute number!\n",
        "abs(this_is_a_string)\n",
        "# the error you get is a TypeError, because abs() does not accept strings as operands"
      ],
      "execution_count": null,
      "outputs": []
    },
    {
      "cell_type": "markdown",
      "source": [
        "##### round()"
      ],
      "metadata": {
        "id": "uy9XMXvjMyT6"
      }
    },
    {
      "cell_type": "code",
      "metadata": {
        "id": "ScJqs3IwTX9e"
      },
      "source": [
        "# round() function rounds a float to an integer, or to a float with the digit number specified\n",
        "\n",
        "n=2.12345\n",
        "\n",
        "round(n)"
      ],
      "execution_count": null,
      "outputs": []
    },
    {
      "cell_type": "code",
      "source": [
        "round(n, 1)"
      ],
      "metadata": {
        "id": "3bhm7dV0NnlW"
      },
      "execution_count": null,
      "outputs": []
    },
    {
      "cell_type": "markdown",
      "metadata": {
        "id": "Fx1_d0MZjibK"
      },
      "source": [
        "# Exercises"
      ]
    },
    {
      "cell_type": "markdown",
      "source": [
        "## Exercise 1"
      ],
      "metadata": {
        "id": "Eptn01NqIVFE"
      }
    },
    {
      "cell_type": "code",
      "metadata": {
        "id": "_feEMmlMqkpk"
      },
      "source": [
        "# Write a Python code that tells you whether the input is odd or even\n",
        "\n",
        "number = int(input(\"This program knows whether the number is odd or even. \\nInput a number: \"))\n",
        "\n",
        "condition = # use the modulo operator.... continue....\n",
        "if #.....\n",
        "\n"
      ],
      "execution_count": null,
      "outputs": []
    },
    {
      "cell_type": "markdown",
      "source": [
        "## Exercise 2"
      ],
      "metadata": {
        "id": "ZCIhOkxOIf1W"
      }
    },
    {
      "cell_type": "code",
      "metadata": {
        "id": "2BcpKEKovf1x"
      },
      "source": [
        "# Write a Python code that gives you the alternate letters of any word\n",
        "\n",
        "word = str(input(\"This code gives you the alternate letters of a word. \\nInput the word: \"))\n",
        "\n",
        "print() ### print something...\n"
      ],
      "execution_count": null,
      "outputs": []
    },
    {
      "cell_type": "markdown",
      "source": [
        "## Exercise 3"
      ],
      "metadata": {
        "id": "NPYLJXulIkXy"
      }
    },
    {
      "cell_type": "code",
      "metadata": {
        "id": "vWJiGq_67oQf"
      },
      "source": [
        "# write a code that checks if a string is palindrome, and if so, the output is the half palindrome \n",
        "# (the string that is repeated and reversed)\n",
        "\n",
        "string = input(\"Input the string to check: \")\n",
        "\n",
        "string = string.lower() # converts string to lowercase\n",
        "\n",
        "condition = # logical statement to test if palindrome.... continue ... \n",
        "\n",
        "if condition :\n",
        "\n",
        "  #check whether odd or even to determine how to slice the string\n",
        "    # continue\n",
        "\n",
        "  \n",
        "  print('Yes, it is a palindrome', halfpal)\n",
        "else:\n",
        "  print('No, not a palindrome')\n",
        "\n",
        "\n",
        "\n",
        "\n"
      ],
      "execution_count": null,
      "outputs": []
    },
    {
      "cell_type": "markdown",
      "source": [
        "## Exercise 4"
      ],
      "metadata": {
        "id": "e-T8Ii99Imr2"
      }
    },
    {
      "cell_type": "code",
      "metadata": {
        "id": "BbQj2N5ZjkBZ"
      },
      "source": [
        "# Print the Fibonacci sequence until the nth position\n",
        "\n",
        "# A Fibonacci sequence is the integer sequence of 0, 1, 1, 2, 3, 5, 8....\n",
        "# The first two terms are 0 and 1. \n",
        "# All other terms are obtained by adding the preceding two terms. \n",
        "# This means to say the nth term is the sum of (n-1)th and (n-2)th term.\n",
        "\n",
        "nterms = int(input(\"How many terms? \"))\n",
        "\n",
        "if nterms <= 0:\n",
        "  print(\"Please enter a number greater than zero\")\n",
        "\n",
        "print('Fibonacci sequence:')\n",
        "\n",
        "# continue....\n",
        "\n",
        "    \n"
      ],
      "execution_count": null,
      "outputs": []
    },
    {
      "cell_type": "markdown",
      "source": [
        "## Exercise 5"
      ],
      "metadata": {
        "id": "pKm4gKNKJjQr"
      }
    },
    {
      "cell_type": "code",
      "metadata": {
        "id": "1_Po4zIgfRVo"
      },
      "source": [
        "codons = {\n",
        "        'ATA':'I', 'ATC':'I', 'ATT':'I', 'ATG':'M',\n",
        "        'ACA':'T', 'ACC':'T', 'ACG':'T', 'ACT':'T',\n",
        "        'AAC':'N', 'AAT':'N', 'AAA':'K', 'AAG':'K',\n",
        "        'AGC':'S', 'AGT':'S', 'AGA':'R', 'AGG':'R',                \n",
        "        'CTA':'L', 'CTC':'L', 'CTG':'L', 'CTT':'L',\n",
        "        'CCA':'P', 'CCC':'P', 'CCG':'P', 'CCT':'P',\n",
        "        'CAC':'H', 'CAT':'H', 'CAA':'Q', 'CAG':'Q',\n",
        "        'CGA':'R', 'CGC':'R', 'CGG':'R', 'CGT':'R',\n",
        "        'GTA':'V', 'GTC':'V', 'GTG':'V', 'GTT':'V',\n",
        "        'GCA':'A', 'GCC':'A', 'GCG':'A', 'GCT':'A',\n",
        "        'GAC':'D', 'GAT':'D', 'GAA':'E', 'GAG':'E',\n",
        "        'GGA':'G', 'GGC':'G', 'GGG':'G', 'GGT':'G',\n",
        "        'TCA':'S', 'TCC':'S', 'TCG':'S', 'TCT':'S',\n",
        "        'TTC':'F', 'TTT':'F', 'TTA':'L', 'TTG':'L',\n",
        "        'TAC':'Y', 'TAT':'Y', 'TAA':'_', 'TAG':'_',\n",
        "        'TGC':'C', 'TGT':'C', 'TGA':'_', 'TGG':'W'}"
      ],
      "execution_count": null,
      "outputs": []
    },
    {
      "cell_type": "code",
      "metadata": {
        "id": "f85VHbGad8tD"
      },
      "source": [
        "# translate a sequence of mRNA into protein\n",
        "\n",
        "mRNA_sequence = 'GGTCACAATTGGACTATGAGATCGATTGAG'\n",
        "\n",
        "counter = 0\n",
        "\n",
        "protein_sequence = '' #always initialize your variables before a loop\n",
        "\n",
        "# continue....\n",
        "\n"
      ],
      "execution_count": null,
      "outputs": []
    },
    {
      "cell_type": "code",
      "metadata": {
        "id": "vh6pLI9KkBe1"
      },
      "source": [],
      "execution_count": null,
      "outputs": []
    }
  ]
}
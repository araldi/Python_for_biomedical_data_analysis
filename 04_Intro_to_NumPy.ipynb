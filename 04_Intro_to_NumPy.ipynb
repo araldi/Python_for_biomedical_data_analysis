{
  "nbformat": 4,
  "nbformat_minor": 0,
  "metadata": {
    "colab": {
      "provenance": [],
      "toc_visible": true,
      "authorship_tag": "ABX9TyMq89su2uUw/SrXF9x3PkMn",
      "include_colab_link": true
    },
    "kernelspec": {
      "name": "python3",
      "display_name": "Python 3"
    },
    "language_info": {
      "name": "python"
    }
  },
  "cells": [
    {
      "cell_type": "markdown",
      "metadata": {
        "id": "view-in-github",
        "colab_type": "text"
      },
      "source": [
        "<a href=\"https://colab.research.google.com/github/araldi/Python_for_biomedical_data_analysis/blob/main/04_Intro_to_NumPy.ipynb\" target=\"_parent\"><img src=\"https://colab.research.google.com/assets/colab-badge.svg\" alt=\"Open In Colab\"/></a>"
      ]
    },
    {
      "cell_type": "markdown",
      "metadata": {
        "id": "YM6cizHcG4qL"
      },
      "source": [
        "# NumPy\n",
        "\n",
        "NumPy’s main object is the homogeneous multidimensional array. It is a table of elements (usually numbers), all of the same type, indexed by a tuple of non-negative integers. In NumPy dimensions are called axes."
      ]
    },
    {
      "cell_type": "markdown",
      "metadata": {
        "id": "9kohTllVUXnW"
      },
      "source": [
        "## Why NumPy?\n",
        "\n",
        "\n",
        "\n",
        "*   **More speed**: NumPy uses algorithms written in C that complete in nanoseconds rather than seconds. \n",
        "*   **Fewer loops**: NumPy helps you to reduce loops and keep from getting tangled up in iteration indices.\n",
        "* **Clearer code**: Without loops, your code will look more like the equations you’re trying to calculate.\n",
        "\n",
        "* Better quality: There are thousands of contributors working to keep NumPy fast, friendly, and bug free."
      ]
    },
    {
      "cell_type": "code",
      "metadata": {
        "id": "WOdmDcysgRAg"
      },
      "source": [
        "# Always initialize the environment by importing the libraries you need\n",
        "import numpy as np"
      ],
      "execution_count": null,
      "outputs": []
    },
    {
      "cell_type": "markdown",
      "metadata": {
        "id": "xILDUbjtc6lN"
      },
      "source": [
        "### Manually create NumPy arrays"
      ]
    },
    {
      "cell_type": "code",
      "metadata": {
        "id": "I8ZAHIh4HcPO"
      },
      "source": [
        "# create a NumPy array\n",
        "a = np.array([6, 7, 8])\n",
        "a"
      ],
      "execution_count": null,
      "outputs": []
    },
    {
      "cell_type": "code",
      "metadata": {
        "id": "yezchHQ2ImFX"
      },
      "source": [
        "type(a)"
      ],
      "execution_count": null,
      "outputs": []
    },
    {
      "cell_type": "code",
      "metadata": {
        "id": "_RzdSbV2Ig2f"
      },
      "source": [
        "a.ndim # dimensions of the array"
      ],
      "execution_count": null,
      "outputs": []
    },
    {
      "cell_type": "code",
      "metadata": {
        "id": "nj1DjgRhHeY1"
      },
      "source": [
        "a.shape # shape of the array"
      ],
      "execution_count": null,
      "outputs": []
    },
    {
      "cell_type": "code",
      "metadata": {
        "id": "N2mGmWulJUhX"
      },
      "source": [
        "a.dtype # datatype of the array"
      ],
      "execution_count": null,
      "outputs": []
    },
    {
      "cell_type": "code",
      "metadata": {
        "id": "YrNd2kin_FRP"
      },
      "source": [
        "a.size  # number of elements in the array"
      ],
      "execution_count": null,
      "outputs": []
    },
    {
      "cell_type": "code",
      "metadata": {
        "id": "MUay0P6tIpQ5"
      },
      "source": [
        "# change an element of the array\n",
        "a[0] = 0"
      ],
      "execution_count": null,
      "outputs": []
    },
    {
      "cell_type": "code",
      "metadata": {
        "id": "wAguKUfAZyGT"
      },
      "source": [
        "b = np.array([[1,2,3],[4,5,6]])   # Create a rank 2 array\n",
        "print(b)"
      ],
      "execution_count": null,
      "outputs": []
    },
    {
      "cell_type": "code",
      "metadata": {
        "id": "rcSZ0Rw7I61S"
      },
      "source": [
        "b.ndim"
      ],
      "execution_count": null,
      "outputs": []
    },
    {
      "cell_type": "code",
      "metadata": {
        "id": "GuMzqmA5Ivxm"
      },
      "source": [
        "b.shape"
      ],
      "execution_count": null,
      "outputs": []
    },
    {
      "cell_type": "code",
      "source": [
        "c = np.array([[[0., 0., 0., 0.],\n",
        "        [0., 0., 0., 0.],\n",
        "        [0., 0., 0., 0.]],\n",
        "\n",
        "       [[0., 0., 0., 0.],\n",
        "        [0., 0., 0., 0.],\n",
        "        [0., 0., 0., 0.]]])"
      ],
      "metadata": {
        "id": "RdyPH5jfzYpA"
      },
      "execution_count": null,
      "outputs": []
    },
    {
      "cell_type": "code",
      "source": [
        "c.shape"
      ],
      "metadata": {
        "id": "aAdaRi-PzOXM"
      },
      "execution_count": null,
      "outputs": []
    },
    {
      "cell_type": "code",
      "source": [
        "c.ndim"
      ],
      "metadata": {
        "id": "OsqRZ688zQjT"
      },
      "execution_count": null,
      "outputs": []
    },
    {
      "cell_type": "code",
      "metadata": {
        "id": "QzmnHQGzaJed"
      },
      "source": [
        "#find (or change, an element of the array)\n",
        "print(b[0, 0], b[0, 1], b[1, 0])  \n",
        "# the coordinates are given as [row_index, column_index]\n",
        "\n",
        "b[0, 0] = 5\n",
        "b[0, 1] = 3\n",
        "b[1, 0] = 0\n",
        "\n",
        "print(b[0, 0], b[0, 1], b[1, 0])  "
      ],
      "execution_count": null,
      "outputs": []
    },
    {
      "cell_type": "markdown",
      "metadata": {
        "id": "rA7Q5LaedMhO"
      },
      "source": [
        "### Use NumPy functions to create arrays"
      ]
    },
    {
      "cell_type": "code",
      "metadata": {
        "id": "hp8iQSaWr1Yo"
      },
      "source": [
        "# one dimensional array with numbers from 0 to n\n",
        "n = 6\n",
        "np.arange(n)"
      ],
      "execution_count": null,
      "outputs": []
    },
    {
      "cell_type": "code",
      "metadata": {
        "id": "qNm90BvP2Yeh"
      },
      "source": [
        "# evenly spaced numbers over a specified interval\n",
        "np.linspace(3,20,6) # start, end, number of evenly distributed element in interval"
      ],
      "execution_count": null,
      "outputs": []
    },
    {
      "cell_type": "code",
      "metadata": {
        "id": "fYJIDe3_3UIM"
      },
      "source": [
        "# change the shape of an array \n",
        "# in this case we make a 2,3 array from a linear array\n",
        "np.linspace(3,20,6).reshape(2,3)\n"
      ],
      "execution_count": null,
      "outputs": []
    },
    {
      "cell_type": "code",
      "metadata": {
        "id": "bPWisEj83-F8"
      },
      "source": [
        "# change the type of number in the array with dtype\n",
        "np.linspace(3,20,6, dtype=int).reshape(2,3)\n"
      ],
      "execution_count": null,
      "outputs": []
    },
    {
      "cell_type": "code",
      "metadata": {
        "id": "W7adcb3o_acG"
      },
      "source": [
        "# numbers spaced evenly on a log scale\n",
        "\n",
        "np.logspace(1, 10, 10, base=10)"
      ],
      "execution_count": null,
      "outputs": []
    },
    {
      "cell_type": "code",
      "metadata": {
        "id": "nxwiZhe7dQAp"
      },
      "source": [
        "a = np.zeros((2,2))  # Create an array of all zeros\n",
        "a"
      ],
      "execution_count": null,
      "outputs": []
    },
    {
      "cell_type": "code",
      "source": [
        "# create an array with 3 dimensions of zeros\n",
        "i =2\n",
        "j=3\n",
        "k=4\n",
        "b = np.zeros((i,j,k))"
      ],
      "metadata": {
        "id": "Z62Vlrb5ys1R"
      },
      "execution_count": null,
      "outputs": []
    },
    {
      "cell_type": "code",
      "source": [
        "b"
      ],
      "metadata": {
        "id": "zUKqhyNoztKo"
      },
      "execution_count": null,
      "outputs": []
    },
    {
      "cell_type": "code",
      "metadata": {
        "id": "XYyhiQbTdRDZ"
      },
      "source": [
        "c = np.ones((1,2))   # Create an array of all ones\n",
        "c"
      ],
      "execution_count": null,
      "outputs": []
    },
    {
      "cell_type": "code",
      "metadata": {
        "id": "I_4kr-sFdnHK"
      },
      "source": [
        "c.shape"
      ],
      "execution_count": null,
      "outputs": []
    },
    {
      "cell_type": "code",
      "metadata": {
        "id": "dspRsCwVdQfB"
      },
      "source": [
        "d = np.full((2,2), 7) # Create a constant array\n",
        "d\n"
      ],
      "execution_count": null,
      "outputs": []
    },
    {
      "cell_type": "code",
      "metadata": {
        "id": "woguSbpqd80q"
      },
      "source": [
        "# Create an array filled with uniform random values from 0 to 1\n",
        "e = np.random.random((2,2)) \n",
        "e"
      ],
      "execution_count": null,
      "outputs": []
    },
    {
      "cell_type": "code",
      "metadata": {
        "id": "wyZouf9peR-v"
      },
      "source": [
        "# Create an 7-value long array filled with random values\n",
        "e = np.random.random(7) \n",
        "e"
      ],
      "execution_count": null,
      "outputs": []
    },
    {
      "cell_type": "code",
      "metadata": {
        "id": "0gc5wrur-Rg3"
      },
      "source": [
        "# Create an array with random uniform float numbers  from a specific range\n",
        "\n",
        "np.random.uniform(-2,2, 7)"
      ],
      "execution_count": null,
      "outputs": []
    },
    {
      "cell_type": "code",
      "metadata": {
        "id": "QOtuwj9hAKaX"
      },
      "source": [
        "# standard normal distributed random numbers\n",
        "np.random.randn(5,5)"
      ],
      "execution_count": null,
      "outputs": []
    },
    {
      "cell_type": "code",
      "metadata": {
        "id": "PJM2SuFQeR1I"
      },
      "source": [
        "f = np.random.randint(50, 100, (5,4)) # Create an array filled with random integers in a range\n",
        "\n",
        "f"
      ],
      "execution_count": null,
      "outputs": []
    },
    {
      "cell_type": "markdown",
      "metadata": {
        "id": "DDRcHeRqdxHG"
      },
      "source": [
        "### Array indexing"
      ]
    },
    {
      "cell_type": "markdown",
      "metadata": {
        "id": "eut9r6u6qQyF"
      },
      "source": [
        "#### Integer indexing"
      ]
    },
    {
      "cell_type": "code",
      "metadata": {
        "id": "V_arme53eRqp"
      },
      "source": [
        "a = np.array([[1,2,3], [4,5,6], [7,8,9]])\n",
        "\n",
        "a"
      ],
      "execution_count": null,
      "outputs": []
    },
    {
      "cell_type": "code",
      "metadata": {
        "id": "F-fw3g4lpr6Z"
      },
      "source": [
        "# access the middle row of the array\n",
        "a[[1],:]"
      ],
      "execution_count": null,
      "outputs": []
    },
    {
      "cell_type": "code",
      "metadata": {
        "id": "cI-BjNyFpzfA"
      },
      "source": [
        "# access the last row of the array\n",
        "a[a.shape[0]-1,:]"
      ],
      "execution_count": null,
      "outputs": []
    },
    {
      "cell_type": "code",
      "metadata": {
        "id": "XGJB5sR0p5Gn"
      },
      "source": [
        "# access the last column of the array\n",
        "a[:,a.shape[1]-1]"
      ],
      "execution_count": null,
      "outputs": []
    },
    {
      "cell_type": "markdown",
      "metadata": {
        "id": "TR657IANqWXL"
      },
      "source": [
        "#### Integer array indexing"
      ]
    },
    {
      "cell_type": "code",
      "metadata": {
        "id": "xPxQyUX-qYqU"
      },
      "source": [
        "print(a[[0, 1, 2], [0, 1, 0]]) # row coordinates first, the column coordinates\n",
        "\n",
        "# which is equivalent to:\n",
        "print(np.array([a[0, 0], a[1, 1], a[2, 0]]))"
      ],
      "execution_count": null,
      "outputs": []
    },
    {
      "cell_type": "code",
      "metadata": {
        "id": "TNN0fpcjqYnR"
      },
      "source": [
        "# take the elements in the diagonal of a\n",
        "print(a[np.arange(a.shape[0]), np.arange(a.shape[1])])"
      ],
      "execution_count": null,
      "outputs": []
    },
    {
      "cell_type": "markdown",
      "metadata": {
        "id": "QdJAKXMbwJpu"
      },
      "source": [
        "#### Boolean array indexing"
      ]
    },
    {
      "cell_type": "code",
      "metadata": {
        "id": "JG5Wtak5wqEx"
      },
      "source": [
        "a"
      ],
      "execution_count": null,
      "outputs": []
    },
    {
      "cell_type": "code",
      "metadata": {
        "id": "lgKMkqBFwNJm"
      },
      "source": [
        "\n",
        "bool_idx = (a > 5)  # Find the elements of a that are bigger than 2;\n",
        "                    # this returns a numpy array of Booleans of the same\n",
        "                    # shape as a, where each slot of bool_idx tells\n",
        "                    # whether that element of a is > 2.\n",
        "\n",
        "print(bool_idx)"
      ],
      "execution_count": null,
      "outputs": []
    },
    {
      "cell_type": "code",
      "metadata": {
        "id": "-ZRpTxJBwNGn"
      },
      "source": [
        "a[bool_idx]"
      ],
      "execution_count": null,
      "outputs": []
    },
    {
      "cell_type": "code",
      "metadata": {
        "id": "iGLeYJIiwNB_"
      },
      "source": [
        "a[a>5]"
      ],
      "execution_count": null,
      "outputs": []
    },
    {
      "cell_type": "markdown",
      "metadata": {
        "id": "jjtFs9Ixvkhu"
      },
      "source": [
        "### Mathematical operations on arrays"
      ]
    },
    {
      "cell_type": "code",
      "metadata": {
        "id": "kyw6LOE9xgL8"
      },
      "source": [
        "x = np.array([[1,2],[3,4]], dtype=np.float64)\n",
        "\n",
        "x"
      ],
      "execution_count": null,
      "outputs": []
    },
    {
      "cell_type": "code",
      "metadata": {
        "id": "5jwgOWxKxg33"
      },
      "source": [
        "# Sum of a constant\n",
        "\n",
        "y = x + 2 \n",
        "\n",
        "y"
      ],
      "execution_count": null,
      "outputs": []
    },
    {
      "cell_type": "code",
      "metadata": {
        "id": "21iKraZAxguN"
      },
      "source": [
        "# Elementwise sum\n",
        "\n",
        "z = np.add(x, y)\n",
        "\n",
        "z"
      ],
      "execution_count": null,
      "outputs": []
    },
    {
      "cell_type": "code",
      "metadata": {
        "id": "txwWZyvkx_Pw"
      },
      "source": [
        "# Difference of a constant\n",
        "z - 4\n"
      ],
      "execution_count": null,
      "outputs": []
    },
    {
      "cell_type": "code",
      "metadata": {
        "id": "0U02jDBRyM9t"
      },
      "source": [
        "# Elementwise difference\n",
        "\n",
        "np.subtract(z, x)"
      ],
      "execution_count": null,
      "outputs": []
    },
    {
      "cell_type": "code",
      "metadata": {
        "id": "0_m0QsJKyd24"
      },
      "source": [
        "# Elementwise product\n",
        "print(x * y)\n",
        "print(np.multiply(x, y))"
      ],
      "execution_count": null,
      "outputs": []
    },
    {
      "cell_type": "code",
      "metadata": {
        "id": "-3AqzecayduI"
      },
      "source": [
        "# Elementwise division\n",
        "print(x / y)\n",
        "print(np.divide(x, y))"
      ],
      "execution_count": null,
      "outputs": []
    },
    {
      "cell_type": "code",
      "metadata": {
        "id": "W9Am3E8wydij"
      },
      "source": [
        "# Elementwise square root\n",
        "print(np.sqrt(x))"
      ],
      "execution_count": null,
      "outputs": []
    },
    {
      "cell_type": "code",
      "metadata": {
        "id": "cfNAmHLr6kw7"
      },
      "source": [
        "# Elementwise power (this is like x^y for every element of x and y)\n",
        "\n",
        "np.power(x, y)"
      ],
      "execution_count": null,
      "outputs": []
    },
    {
      "cell_type": "code",
      "metadata": {
        "id": "0OJNEEvt7Kvi"
      },
      "source": [
        "np.power(x, 3)"
      ],
      "execution_count": null,
      "outputs": []
    },
    {
      "cell_type": "code",
      "metadata": {
        "id": "Ttffq-kgzBSp"
      },
      "source": [
        "# Calculate the sum of every element in the array, or by axis\n",
        "a = np.array([[1,2,3], [4,5,6], [7,8,9]])\n",
        "\n",
        "\n",
        "print(np.sum(a))  # Compute sum of all elements; \n",
        "print(np.sum(a, axis=0))  # Compute sum of each column\n",
        "print(np.sum(a, axis=1))  # Compute sum of each row\n"
      ],
      "execution_count": null,
      "outputs": []
    },
    {
      "cell_type": "code",
      "metadata": {
        "id": "79LAVZ0P18uD"
      },
      "source": [
        "# find the maximum value\n",
        "\n",
        "print(np.max(a))  # Compute maximum of all elements; \n",
        "print(np.max(a, axis=0))  # Compute maximum of each column\n",
        "print(np.max(a, axis=1))  # Compute maximum of each row\n"
      ],
      "execution_count": null,
      "outputs": []
    },
    {
      "cell_type": "code",
      "metadata": {
        "id": "6TXD1s1X74rD"
      },
      "source": [
        "# find the mean \n",
        "print(np.mean(a))\n",
        "print(np.mean(a, axis=0))\n",
        "print(np.mean(a, axis=1))"
      ],
      "execution_count": null,
      "outputs": []
    },
    {
      "cell_type": "code",
      "metadata": {
        "id": "-GNLd7zD8NgK"
      },
      "source": [
        "# find the standard deviation \n",
        "print(np.std(a))\n",
        "print(np.std(a, axis=0))\n",
        "print(np.std(a, axis=1))"
      ],
      "execution_count": null,
      "outputs": []
    },
    {
      "cell_type": "code",
      "source": [
        "# np.around() evenly rounds to the given number of decimals.\n",
        "f = np.random.uniform(-2,2, 7)\n",
        "\n",
        "print(f)\n",
        "print(np.around(f))"
      ],
      "metadata": {
        "id": "iOvC8vmF7-xP"
      },
      "execution_count": null,
      "outputs": []
    },
    {
      "cell_type": "code",
      "source": [
        "print(np.around(f, 2))"
      ],
      "metadata": {
        "id": "mIsnPk2884qa"
      },
      "execution_count": null,
      "outputs": []
    },
    {
      "cell_type": "code",
      "source": [
        "# np.floor() returns the floor of the input, element-wise.\n",
        "\n",
        "print(np.floor(f))"
      ],
      "metadata": {
        "id": "WvR9F0Fe7Z0d"
      },
      "execution_count": null,
      "outputs": []
    },
    {
      "cell_type": "code",
      "source": [
        "# np.ceil() returns the ceiling of the input, element-wise.\n",
        "print(np.ceil(f))"
      ],
      "metadata": {
        "id": "BCUqSHQf7cJx"
      },
      "execution_count": null,
      "outputs": []
    },
    {
      "cell_type": "code",
      "source": [
        "# Clip (limit) the values in an array to the defined min and max\n",
        "g = np.random.uniform(-1,2, 7)\n",
        "print(g)"
      ],
      "metadata": {
        "id": "za-cgILJ79C9"
      },
      "execution_count": null,
      "outputs": []
    },
    {
      "cell_type": "code",
      "source": [
        "min = 0\n",
        "max =1\n",
        "print(np.clip(g, min, max))"
      ],
      "metadata": {
        "id": "YtFFeSPH9QTn"
      },
      "execution_count": null,
      "outputs": []
    },
    {
      "cell_type": "markdown",
      "metadata": {
        "id": "eCG6FhdMxYRz"
      },
      "source": [
        "#### Operations on specific positions of the array"
      ]
    },
    {
      "cell_type": "code",
      "metadata": {
        "id": "fKzCVEE7qYdh"
      },
      "source": [
        "# select the positions (with array indexing/slicing/etc), then perform the operation\n",
        "a[np.arange(a.shape[0]), np.arange(a.shape[1])] += 10\n",
        "\n",
        "# which is equivalent to:\n",
        "# a[np.arange(a.shape[0]), np.arange(a.shape[1])] = a[np.arange(a.shape[0]), np.arange(a.shape[1])] + 10"
      ],
      "execution_count": null,
      "outputs": []
    },
    {
      "cell_type": "code",
      "source": [
        "a"
      ],
      "metadata": {
        "id": "W0nA9KI--W8Q"
      },
      "execution_count": null,
      "outputs": []
    },
    {
      "cell_type": "code",
      "source": [
        "a.shape"
      ],
      "metadata": {
        "id": "1pKjiNcr-MFc"
      },
      "execution_count": null,
      "outputs": []
    },
    {
      "cell_type": "code",
      "source": [
        "a.shape[0]"
      ],
      "metadata": {
        "id": "EN0SLXqP-Kil"
      },
      "execution_count": null,
      "outputs": []
    },
    {
      "cell_type": "code",
      "source": [
        "np.arange(a.shape[0])"
      ],
      "metadata": {
        "id": "FACY9ljQ-Ppd"
      },
      "execution_count": null,
      "outputs": []
    },
    {
      "cell_type": "code",
      "source": [
        "np.arange(a.shape[1])"
      ],
      "metadata": {
        "id": "EVjD2ai6-Sdf"
      },
      "execution_count": null,
      "outputs": []
    },
    {
      "cell_type": "code",
      "metadata": {
        "id": "_DomlIkLvwlq"
      },
      "source": [
        "a[np.arange(a.shape[0]), np.arange(a.shape[1])] += 10\n"
      ],
      "execution_count": null,
      "outputs": []
    },
    {
      "cell_type": "code",
      "source": [
        "a"
      ],
      "metadata": {
        "id": "zq0qdw4V-qag"
      },
      "execution_count": null,
      "outputs": []
    },
    {
      "cell_type": "markdown",
      "metadata": {
        "id": "cq5a09wnGo9A"
      },
      "source": [
        "\n",
        "## Pandas columns as NumPy arrays\n"
      ]
    },
    {
      "cell_type": "code",
      "metadata": {
        "id": "n02Zs6wpIEkY"
      },
      "source": [
        "import pandas as pd\n",
        "\n",
        "#import the file\n",
        "diamonds = pd.read_csv('https://raw.githubusercontent.com/mwaskom/seaborn-data/master/diamonds.csv')"
      ],
      "execution_count": null,
      "outputs": []
    },
    {
      "cell_type": "code",
      "metadata": {
        "id": "FTNqMj5fIi5o"
      },
      "source": [
        "diamonds"
      ],
      "execution_count": null,
      "outputs": []
    },
    {
      "cell_type": "code",
      "metadata": {
        "id": "-f-Hmgb5ImXQ"
      },
      "source": [
        "# calculate the mean of a column of the dataframe, in this case, price\n",
        "np.mean(diamonds['price'])"
      ],
      "execution_count": null,
      "outputs": []
    },
    {
      "cell_type": "code",
      "metadata": {
        "id": "aZpbWDOwI0ar"
      },
      "source": [
        "np.mean(diamonds['depth'])"
      ],
      "execution_count": null,
      "outputs": []
    },
    {
      "cell_type": "code",
      "metadata": {
        "id": "2e32ZFTgI4vZ"
      },
      "source": [
        "diamonds.describe()"
      ],
      "execution_count": null,
      "outputs": []
    },
    {
      "cell_type": "code",
      "metadata": {
        "id": "U012-EVMJZDU"
      },
      "source": [
        "diamonds.dtypes"
      ],
      "execution_count": null,
      "outputs": []
    },
    {
      "cell_type": "code",
      "metadata": {
        "id": "iQsF-7EKJHnG"
      },
      "source": [
        "# create a new column which is the sum the X, Y, Z coordinates\n",
        "\n",
        "diamonds['new'] = np.sum(diamonds[['x','y','z']], axis =1)\n",
        "\n",
        "diamonds['new']"
      ],
      "execution_count": null,
      "outputs": []
    },
    {
      "cell_type": "code",
      "metadata": {
        "id": "srZ1XrdUI-Ru"
      },
      "source": [
        "np.sum(diamonds[['x','y','z']], axis =0)"
      ],
      "execution_count": null,
      "outputs": []
    },
    {
      "cell_type": "markdown",
      "metadata": {
        "id": "yWtK6yADfkix"
      },
      "source": [
        "# Exercises"
      ]
    },
    {
      "cell_type": "markdown",
      "metadata": {
        "id": "ehGUT0516MZ1"
      },
      "source": [
        "#### Exercise 1\n",
        "\n",
        "Calculate the power of 4 of numbers from 1 to 10"
      ]
    },
    {
      "cell_type": "code",
      "metadata": {
        "id": "BtksXSY76EWd"
      },
      "source": [],
      "execution_count": null,
      "outputs": []
    },
    {
      "cell_type": "markdown",
      "metadata": {
        "id": "FXvtOha8F9U5"
      },
      "source": [
        "#### Exercise 2\n",
        "\n",
        "Replace all odd numbers in the given array with 0"
      ]
    },
    {
      "cell_type": "code",
      "metadata": {
        "id": "O1LCsJgyGR5p"
      },
      "source": [
        "exercise_2 = np.array([0, 1, 2, 3, 4, 5, 6, 7, 8, 9])\n"
      ],
      "execution_count": null,
      "outputs": []
    },
    {
      "cell_type": "code",
      "metadata": {
        "id": "ItCI4o6hHefW"
      },
      "source": [],
      "execution_count": null,
      "outputs": []
    },
    {
      "cell_type": "markdown",
      "metadata": {
        "id": "aiK9B2SIfpR4"
      },
      "source": [
        "#### Exercise 3\n"
      ]
    },
    {
      "cell_type": "markdown",
      "metadata": {
        "id": "tbJ66swd264P"
      },
      "source": [
        "With NumPy, find which numbers between 10000 and 10000000 are multiples of 77."
      ]
    },
    {
      "cell_type": "code",
      "source": [],
      "metadata": {
        "id": "-Wfk3Shh_EFV"
      },
      "execution_count": null,
      "outputs": []
    },
    {
      "cell_type": "markdown",
      "metadata": {
        "id": "C1LjxLOJ42Gq"
      },
      "source": [
        "Do the same without NumPy"
      ]
    },
    {
      "cell_type": "code",
      "metadata": {
        "id": "V3GVT3_tfyiY"
      },
      "source": [],
      "execution_count": null,
      "outputs": []
    },
    {
      "cell_type": "markdown",
      "metadata": {
        "id": "QSom-m6r53Fw"
      },
      "source": [
        "When finished, rerun the cells adding\n",
        "\n",
        "```\n",
        "%%time\n",
        "```\n",
        "in the first line. You can see that NumPy was considerably faster.\n"
      ]
    },
    {
      "cell_type": "markdown",
      "metadata": {
        "id": "7NoHY97O26VG"
      },
      "source": [
        "#### Exercise 4\n",
        "\n",
        "Create a monodimensional array with 100000 random uniform floats from a standard normal distribution and calculate the mean and standard deviation"
      ]
    },
    {
      "cell_type": "code",
      "metadata": {
        "id": "e2DQ07t69o2Q"
      },
      "source": [],
      "execution_count": null,
      "outputs": []
    },
    {
      "cell_type": "markdown",
      "metadata": {
        "id": "V-fvlwXzfqJV"
      },
      "source": [
        "#### Exercise 5\n",
        "\n",
        "Create an array of random two-dimensional shape (axes size between 1 and 10)populated by random floats from 0 to 1.\n"
      ]
    },
    {
      "cell_type": "code",
      "metadata": {
        "id": "8KYNKGgBfxZo"
      },
      "source": [],
      "execution_count": null,
      "outputs": []
    },
    {
      "cell_type": "code",
      "metadata": {
        "id": "akHYHwpaJ7KN"
      },
      "source": [],
      "execution_count": null,
      "outputs": []
    }
  ]
}
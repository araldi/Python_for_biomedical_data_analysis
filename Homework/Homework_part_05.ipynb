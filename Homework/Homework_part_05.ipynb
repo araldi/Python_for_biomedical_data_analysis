{
  "nbformat": 4,
  "nbformat_minor": 0,
  "metadata": {
    "colab": {
      "provenance": [],
      "authorship_tag": "ABX9TyMsR0zUkvov/VH20wjD1YiG",
      "include_colab_link": true
    },
    "kernelspec": {
      "name": "python3",
      "display_name": "Python 3"
    },
    "language_info": {
      "name": "python"
    }
  },
  "cells": [
    {
      "cell_type": "markdown",
      "metadata": {
        "id": "view-in-github",
        "colab_type": "text"
      },
      "source": [
        "<a href=\"https://colab.research.google.com/github/araldi/Python_for_biomedical_data_analysis/blob/main/Homework/Homework_part_05.ipynb\" target=\"_parent\"><img src=\"https://colab.research.google.com/assets/colab-badge.svg\" alt=\"Open In Colab\"/></a>"
      ]
    },
    {
      "cell_type": "markdown",
      "metadata": {
        "id": "Rv86f7pR3Skz"
      },
      "source": [
        "# Blood biochemical parameters and physical features in diabetic patients versus healthy individuals"
      ]
    },
    {
      "cell_type": "markdown",
      "metadata": {
        "id": "sF2QTzdz2g4N"
      },
      "source": [
        "Sometimes real data is complicated. In this week's homework, obtaining the final dataset will be more challenging than usual.\n",
        "\n",
        "You can find below the links to four datasets which are parts of one bigger dataset.\n",
        "\n",
        "You will also find two dictionaries. Use one to decode the column codes to their content description, the other one to decode the diabetic status of the participants.\n"
      ]
    },
    {
      "cell_type": "markdown",
      "metadata": {
        "id": "Rc7K1aqr5dlC"
      },
      "source": [
        "\n",
        "Dictionaries:\n",
        "```\n",
        "https://raw.githubusercontent.com/araldi/Python_for_biomedical_data_analysis/main/Files/Homework_part_05_dictionary1.csv\n",
        "\n",
        "\n",
        "https://raw.githubusercontent.com/araldi/Python_for_biomedical_data_analysis/main/Files/Homework_part_05_dictionary2.csv\n",
        "```\n",
        "\n",
        "Data:\n",
        "```\n",
        "https://raw.githubusercontent.com/araldi/Python_for_biomedical_data_analysis/main/Files/Homework_part_05_dataA.csv\n",
        "\n",
        "\n",
        "https://raw.githubusercontent.com/araldi/Python_for_biomedical_data_analysis/main/Files/Homework_part_05_dataB.csv\n",
        "\n",
        "\n",
        "https://raw.githubusercontent.com/araldi/Python_for_biomedical_data_analysis/main/Files/Homework_part_05_dataC.csv\n",
        "\n",
        "\n",
        "https://raw.githubusercontent.com/araldi/Python_for_biomedical_data_analysis/main/Files/Homework_part_05_dataD.csv\n",
        "```\n",
        "\n"
      ]
    },
    {
      "cell_type": "markdown",
      "metadata": {
        "id": "aueuRMzVA69x"
      },
      "source": [
        "#### Tasks\n",
        "\n",
        "\n",
        "*   Explore the datasets and appropriately merge/concatenate them to obtain one dataset.\n",
        "\n",
        "*   Prepare the dataset: remove duplicates, remove NaN and missing diabetes data.\n",
        "\n",
        "* How many diabetics (in percentage) are in the dataset?  \n",
        "\n",
        "\n",
        "*   Find the mean and standard deviation of glycated haemoglobin and glucose in healthy patients and in patients with diabetes.\n",
        "\n",
        "*  Divide the population by age, and find mean and standard deviation of glycated haemoglobin and glucose in healthy patients and in patients with diabetes in the different age groups (example: younger than 50, 50-54, 55-59, 60-64, 65-69, older than 70)\n",
        "\n",
        "*   Optional: obtain the same information for males and females separately"
      ]
    }
  ]
}
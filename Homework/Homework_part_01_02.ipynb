{
  "nbformat": 4,
  "nbformat_minor": 0,
  "metadata": {
    "colab": {
      "provenance": [],
      "authorship_tag": "ABX9TyOFAt6038rUXVwt4l6armf2",
      "include_colab_link": true
    },
    "kernelspec": {
      "name": "python3",
      "display_name": "Python 3"
    },
    "language_info": {
      "name": "python"
    }
  },
  "cells": [
    {
      "cell_type": "markdown",
      "metadata": {
        "id": "view-in-github",
        "colab_type": "text"
      },
      "source": [
        "<a href=\"https://colab.research.google.com/github/araldi/Python_for_biomedical_data_analysis/blob/main/Homework/Homework_part_01_02.ipynb\" target=\"_parent\"><img src=\"https://colab.research.google.com/assets/colab-badge.svg\" alt=\"Open In Colab\"/></a>"
      ]
    },
    {
      "cell_type": "markdown",
      "metadata": {
        "id": "MVy1bern7yjx"
      },
      "source": [
        "#### Which day of the week is the nth day of 2022?\n",
        "\n",
        "\n"
      ]
    },
    {
      "cell_type": "markdown",
      "metadata": {
        "id": "6_C_4zVr_Glz"
      },
      "source": [
        "Create a code to know you which weekday is the nth day of the year\n",
        "\n",
        "\n",
        "```\n",
        "which day: 56\n",
        "25 Feb F\n",
        "```\n",
        "\n"
      ]
    },
    {
      "cell_type": "code",
      "source": [
        "# HINT for setup\n",
        "# use a dictionary to input the info about the year\n",
        "year = {'feb' : 28,\n",
        "        'week_index' : 5,\n",
        "        'year' : 2022}\n",
        "\n",
        "months = ['Jan','Feb','Mar','Apr','May','Jun','Jul','Aug','Sep','Oct','Nov','Dec']\n",
        "days_of_the_week = ['M','Tue','W','Thr','F','Sat','Sun']\n",
        "\n",
        "#for example\n",
        "feb = year['feb']\n",
        "month_length = [31, feb, 31, 30, 31, 30, 31, 31, 30, 31, 30, 31]\n",
        "\n",
        "week_index = year['week_index']\n",
        "\n",
        "yyyy = year['year']"
      ],
      "metadata": {
        "id": "CEf6otbz8sgi"
      },
      "execution_count": null,
      "outputs": []
    },
    {
      "cell_type": "code",
      "metadata": {
        "id": "PWXZw1i0ww9z"
      },
      "source": [
        "# HINT\n",
        "nth_day = int(input(\"which day: \"))\n",
        "\n",
        "# use a counter to know when you are at the nth day\n",
        "counter = 0 # always initialized!\n",
        "\n",
        "# remember to consider if the input does not make sense!\n",
        "if nth_day <= 365:\n",
        "\n",
        "# your code\n",
        "\n",
        "else:\n",
        "  print('that day does not exist')\n"
      ],
      "execution_count": null,
      "outputs": []
    },
    {
      "cell_type": "markdown",
      "source": [
        "#### Which day of the week is any dd/mm day in 2022?"
      ],
      "metadata": {
        "id": "B9hhOtVq8dpv"
      }
    },
    {
      "cell_type": "markdown",
      "metadata": {
        "id": "n9VPxkCDQiC8"
      },
      "source": [
        "Create a code whose output is which day of the week is any day in 2022 (in format dd/mm).\n",
        "\n",
        "Can you use functions where useful?\n",
        "\n",
        "2022 starts on Saturday and February has 28 days\n",
        "\n",
        "\n",
        "\n",
        "```\n",
        "input a date in 2022 in format dd/mm: 25/02\n",
        "the 25/02/22 is a F\n",
        "\n",
        "```\n",
        "\n"
      ]
    },
    {
      "cell_type": "code",
      "metadata": {
        "id": "yWESx5VU6dbC"
      },
      "source": [
        "# you code ....\n",
        "\n",
        "# can you use functions?\n",
        "\n"
      ],
      "execution_count": null,
      "outputs": []
    }
  ]
}
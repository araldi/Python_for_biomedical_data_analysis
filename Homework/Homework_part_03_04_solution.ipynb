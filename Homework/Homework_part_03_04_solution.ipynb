{
  "nbformat": 4,
  "nbformat_minor": 0,
  "metadata": {
    "colab": {
      "provenance": [],
      "authorship_tag": "ABX9TyPDAvoi0zX2r7HroKCL2VkE",
      "include_colab_link": true
    },
    "kernelspec": {
      "name": "python3",
      "display_name": "Python 3"
    },
    "language_info": {
      "name": "python"
    }
  },
  "cells": [
    {
      "cell_type": "markdown",
      "metadata": {
        "id": "view-in-github",
        "colab_type": "text"
      },
      "source": [
        "<a href=\"https://colab.research.google.com/github/araldi/Python_for_biomedical_data_analysis/blob/main/Homework/Homework_part_03_04_solution.ipynb\" target=\"_parent\"><img src=\"https://colab.research.google.com/assets/colab-badge.svg\" alt=\"Open In Colab\"/></a>"
      ]
    },
    {
      "cell_type": "markdown",
      "metadata": {
        "id": "wbJunv0X6u3b"
      },
      "source": [
        "# Week 2 homework: Numpy and Pandas"
      ]
    },
    {
      "cell_type": "markdown",
      "metadata": {
        "id": "b9y1G3AO-EgF"
      },
      "source": [
        "In this homework, you will analyze an actual dataset that contains info on ~500.000 individuals. You will calculate the mean and standard deviation of the BMI and waist-to-hip ratio of the males and females in that population."
      ]
    },
    {
      "cell_type": "markdown",
      "metadata": {
        "id": "PXA-xMYpztyb"
      },
      "source": [
        "### Download the following files:\n",
        "\n",
        "**Data**\n",
        "\n",
        "https://github.com/araldi/HS21---Big-Data-Analysis-in-Biomedical-Research-376-1723-00L-/blob/main/numpy/Week2_homework_data.csv?raw=true\n",
        "\n",
        "(It describes some characteristics of ~ 500.000 individuals)\n",
        "\n",
        "**Dictionary**\n",
        "\n",
        "https://raw.githubusercontent.com/araldi/HS21---Big-Data-Analysis-in-Biomedical-Research-376-1723-00L-/main/numpy/Week2_homework_dictionary.csv\n",
        "\n",
        "(it describes the column name of the dataframe)\n",
        "\n",
        "\n"
      ]
    },
    {
      "cell_type": "markdown",
      "metadata": {
        "id": "S9WPTjrSHjEf"
      },
      "source": [
        "\n",
        "### Analyze the data:\n",
        "* *Create a new column with the BMI of the individuals* : BMI = weight [kg] / ( height [m] * height [m]) --> careful, the height for BMI has to be in meters and not centimeters\n",
        "\n",
        "* *Create a new column with the waist-to-hip ratio of the individuals* : waist-to-hip = waist / hip\n",
        "\n",
        "* *Find the mean and standard deviation of the BMI of females and males* [Females = 0, Males = 1]\n",
        "\n",
        "* *Find the mean and standard deviation of the waist-to-hip ratio of females and males* [Females = 0, Males = 1]"
      ]
    },
    {
      "cell_type": "markdown",
      "metadata": {
        "id": "Xc6fHm2Y9hgo"
      },
      "source": [
        "## Solution\n",
        "\n",
        "### Import the data"
      ]
    },
    {
      "cell_type": "code",
      "metadata": {
        "id": "A9j4lId5FmoY"
      },
      "source": [
        "# always initialize your environment!!\n",
        "# you will need Pandas to deal with the DataFrame and NumPy to do math operations on the columns\n",
        "import pandas as pd\n",
        "import numpy as np"
      ],
      "execution_count": null,
      "outputs": []
    },
    {
      "cell_type": "code",
      "metadata": {
        "id": "oug3Qy2hxoqK"
      },
      "source": [
        "data = pd.read_csv('https://github.com/araldi/HS21---Big-Data-Analysis-in-Biomedical-Research-376-1723-00L-/blob/main/numpy/Week2_homework_data.csv?raw=true')"
      ],
      "execution_count": null,
      "outputs": []
    },
    {
      "cell_type": "code",
      "source": [
        "data.head()"
      ],
      "metadata": {
        "colab": {
          "base_uri": "https://localhost:8080/",
          "height": 206
        },
        "id": "mSfF02eZQTP4",
        "outputId": "d2ef00d5-df6f-46b2-834f-12b6268ae3ec"
      },
      "execution_count": null,
      "outputs": [
        {
          "output_type": "execute_result",
          "data": {
            "text/html": [
              "\n",
              "  <div id=\"df-32e0cc22-321b-4272-9ab9-5d7b4d8ea21f\">\n",
              "    <div class=\"colab-df-container\">\n",
              "      <div>\n",
              "<style scoped>\n",
              "    .dataframe tbody tr th:only-of-type {\n",
              "        vertical-align: middle;\n",
              "    }\n",
              "\n",
              "    .dataframe tbody tr th {\n",
              "        vertical-align: top;\n",
              "    }\n",
              "\n",
              "    .dataframe thead th {\n",
              "        text-align: right;\n",
              "    }\n",
              "</style>\n",
              "<table border=\"1\" class=\"dataframe\">\n",
              "  <thead>\n",
              "    <tr style=\"text-align: right;\">\n",
              "      <th></th>\n",
              "      <th>Unnamed: 0</th>\n",
              "      <th>31-0.0</th>\n",
              "      <th>48-0.0</th>\n",
              "      <th>49-0.0</th>\n",
              "      <th>50-0.0</th>\n",
              "      <th>21002-0.0</th>\n",
              "    </tr>\n",
              "  </thead>\n",
              "  <tbody>\n",
              "    <tr>\n",
              "      <th>0</th>\n",
              "      <td>0</td>\n",
              "      <td>0.0</td>\n",
              "      <td>80.0</td>\n",
              "      <td>103.0</td>\n",
              "      <td>169.0</td>\n",
              "      <td>68.6</td>\n",
              "    </tr>\n",
              "    <tr>\n",
              "      <th>1</th>\n",
              "      <td>1</td>\n",
              "      <td>0.0</td>\n",
              "      <td>80.0</td>\n",
              "      <td>96.0</td>\n",
              "      <td>185.0</td>\n",
              "      <td>70.2</td>\n",
              "    </tr>\n",
              "    <tr>\n",
              "      <th>2</th>\n",
              "      <td>2</td>\n",
              "      <td>1.0</td>\n",
              "      <td>89.0</td>\n",
              "      <td>97.0</td>\n",
              "      <td>164.0</td>\n",
              "      <td>71.5</td>\n",
              "    </tr>\n",
              "    <tr>\n",
              "      <th>3</th>\n",
              "      <td>3</td>\n",
              "      <td>0.0</td>\n",
              "      <td>101.0</td>\n",
              "      <td>108.0</td>\n",
              "      <td>159.0</td>\n",
              "      <td>82.9</td>\n",
              "    </tr>\n",
              "    <tr>\n",
              "      <th>4</th>\n",
              "      <td>4</td>\n",
              "      <td>1.0</td>\n",
              "      <td>97.0</td>\n",
              "      <td>107.0</td>\n",
              "      <td>186.0</td>\n",
              "      <td>94.0</td>\n",
              "    </tr>\n",
              "  </tbody>\n",
              "</table>\n",
              "</div>\n",
              "      <button class=\"colab-df-convert\" onclick=\"convertToInteractive('df-32e0cc22-321b-4272-9ab9-5d7b4d8ea21f')\"\n",
              "              title=\"Convert this dataframe to an interactive table.\"\n",
              "              style=\"display:none;\">\n",
              "        \n",
              "  <svg xmlns=\"http://www.w3.org/2000/svg\" height=\"24px\"viewBox=\"0 0 24 24\"\n",
              "       width=\"24px\">\n",
              "    <path d=\"M0 0h24v24H0V0z\" fill=\"none\"/>\n",
              "    <path d=\"M18.56 5.44l.94 2.06.94-2.06 2.06-.94-2.06-.94-.94-2.06-.94 2.06-2.06.94zm-11 1L8.5 8.5l.94-2.06 2.06-.94-2.06-.94L8.5 2.5l-.94 2.06-2.06.94zm10 10l.94 2.06.94-2.06 2.06-.94-2.06-.94-.94-2.06-.94 2.06-2.06.94z\"/><path d=\"M17.41 7.96l-1.37-1.37c-.4-.4-.92-.59-1.43-.59-.52 0-1.04.2-1.43.59L10.3 9.45l-7.72 7.72c-.78.78-.78 2.05 0 2.83L4 21.41c.39.39.9.59 1.41.59.51 0 1.02-.2 1.41-.59l7.78-7.78 2.81-2.81c.8-.78.8-2.07 0-2.86zM5.41 20L4 18.59l7.72-7.72 1.47 1.35L5.41 20z\"/>\n",
              "  </svg>\n",
              "      </button>\n",
              "      \n",
              "  <style>\n",
              "    .colab-df-container {\n",
              "      display:flex;\n",
              "      flex-wrap:wrap;\n",
              "      gap: 12px;\n",
              "    }\n",
              "\n",
              "    .colab-df-convert {\n",
              "      background-color: #E8F0FE;\n",
              "      border: none;\n",
              "      border-radius: 50%;\n",
              "      cursor: pointer;\n",
              "      display: none;\n",
              "      fill: #1967D2;\n",
              "      height: 32px;\n",
              "      padding: 0 0 0 0;\n",
              "      width: 32px;\n",
              "    }\n",
              "\n",
              "    .colab-df-convert:hover {\n",
              "      background-color: #E2EBFA;\n",
              "      box-shadow: 0px 1px 2px rgba(60, 64, 67, 0.3), 0px 1px 3px 1px rgba(60, 64, 67, 0.15);\n",
              "      fill: #174EA6;\n",
              "    }\n",
              "\n",
              "    [theme=dark] .colab-df-convert {\n",
              "      background-color: #3B4455;\n",
              "      fill: #D2E3FC;\n",
              "    }\n",
              "\n",
              "    [theme=dark] .colab-df-convert:hover {\n",
              "      background-color: #434B5C;\n",
              "      box-shadow: 0px 1px 3px 1px rgba(0, 0, 0, 0.15);\n",
              "      filter: drop-shadow(0px 1px 2px rgba(0, 0, 0, 0.3));\n",
              "      fill: #FFFFFF;\n",
              "    }\n",
              "  </style>\n",
              "\n",
              "      <script>\n",
              "        const buttonEl =\n",
              "          document.querySelector('#df-32e0cc22-321b-4272-9ab9-5d7b4d8ea21f button.colab-df-convert');\n",
              "        buttonEl.style.display =\n",
              "          google.colab.kernel.accessAllowed ? 'block' : 'none';\n",
              "\n",
              "        async function convertToInteractive(key) {\n",
              "          const element = document.querySelector('#df-32e0cc22-321b-4272-9ab9-5d7b4d8ea21f');\n",
              "          const dataTable =\n",
              "            await google.colab.kernel.invokeFunction('convertToInteractive',\n",
              "                                                     [key], {});\n",
              "          if (!dataTable) return;\n",
              "\n",
              "          const docLinkHtml = 'Like what you see? Visit the ' +\n",
              "            '<a target=\"_blank\" href=https://colab.research.google.com/notebooks/data_table.ipynb>data table notebook</a>'\n",
              "            + ' to learn more about interactive tables.';\n",
              "          element.innerHTML = '';\n",
              "          dataTable['output_type'] = 'display_data';\n",
              "          await google.colab.output.renderOutput(dataTable, element);\n",
              "          const docLink = document.createElement('div');\n",
              "          docLink.innerHTML = docLinkHtml;\n",
              "          element.appendChild(docLink);\n",
              "        }\n",
              "      </script>\n",
              "    </div>\n",
              "  </div>\n",
              "  "
            ],
            "text/plain": [
              "   Unnamed: 0  31-0.0  48-0.0  49-0.0  50-0.0  21002-0.0\n",
              "0           0     0.0    80.0   103.0   169.0       68.6\n",
              "1           1     0.0    80.0    96.0   185.0       70.2\n",
              "2           2     1.0    89.0    97.0   164.0       71.5\n",
              "3           3     0.0   101.0   108.0   159.0       82.9\n",
              "4           4     1.0    97.0   107.0   186.0       94.0"
            ]
          },
          "metadata": {},
          "execution_count": 3
        }
      ]
    },
    {
      "cell_type": "code",
      "metadata": {
        "id": "wCU8LnM79UpQ"
      },
      "source": [
        "dictionary = pd.read_csv('https://raw.githubusercontent.com/araldi/HS21---Big-Data-Analysis-in-Biomedical-Research-376-1723-00L-/main/numpy/Week2_homework_dictionary.csv')"
      ],
      "execution_count": null,
      "outputs": []
    },
    {
      "cell_type": "code",
      "source": [
        "dictionary"
      ],
      "metadata": {
        "colab": {
          "base_uri": "https://localhost:8080/",
          "height": 206
        },
        "id": "m5dVeU3cQcxn",
        "outputId": "517035ed-cc0b-45aa-d3c2-fbc4df94dae0"
      },
      "execution_count": null,
      "outputs": [
        {
          "output_type": "execute_result",
          "data": {
            "text/html": [
              "\n",
              "  <div id=\"df-40761a8e-e8b0-4f41-a88a-712323c4ffa8\">\n",
              "    <div class=\"colab-df-container\">\n",
              "      <div>\n",
              "<style scoped>\n",
              "    .dataframe tbody tr th:only-of-type {\n",
              "        vertical-align: middle;\n",
              "    }\n",
              "\n",
              "    .dataframe tbody tr th {\n",
              "        vertical-align: top;\n",
              "    }\n",
              "\n",
              "    .dataframe thead th {\n",
              "        text-align: right;\n",
              "    }\n",
              "</style>\n",
              "<table border=\"1\" class=\"dataframe\">\n",
              "  <thead>\n",
              "    <tr style=\"text-align: right;\">\n",
              "      <th></th>\n",
              "      <th>Unnamed: 0</th>\n",
              "      <th>Description</th>\n",
              "      <th>Code</th>\n",
              "    </tr>\n",
              "  </thead>\n",
              "  <tbody>\n",
              "    <tr>\n",
              "      <th>0</th>\n",
              "      <td>0</td>\n",
              "      <td>Gender</td>\n",
              "      <td>31-0.0</td>\n",
              "    </tr>\n",
              "    <tr>\n",
              "      <th>1</th>\n",
              "      <td>1</td>\n",
              "      <td>Height [cm]</td>\n",
              "      <td>50-0.0</td>\n",
              "    </tr>\n",
              "    <tr>\n",
              "      <th>2</th>\n",
              "      <td>2</td>\n",
              "      <td>Weight [Kg]</td>\n",
              "      <td>21002-0.0</td>\n",
              "    </tr>\n",
              "    <tr>\n",
              "      <th>3</th>\n",
              "      <td>3</td>\n",
              "      <td>Waist circumference [cm]</td>\n",
              "      <td>48-0.0</td>\n",
              "    </tr>\n",
              "    <tr>\n",
              "      <th>4</th>\n",
              "      <td>4</td>\n",
              "      <td>Hip circumference [cm]</td>\n",
              "      <td>49-0.0</td>\n",
              "    </tr>\n",
              "  </tbody>\n",
              "</table>\n",
              "</div>\n",
              "      <button class=\"colab-df-convert\" onclick=\"convertToInteractive('df-40761a8e-e8b0-4f41-a88a-712323c4ffa8')\"\n",
              "              title=\"Convert this dataframe to an interactive table.\"\n",
              "              style=\"display:none;\">\n",
              "        \n",
              "  <svg xmlns=\"http://www.w3.org/2000/svg\" height=\"24px\"viewBox=\"0 0 24 24\"\n",
              "       width=\"24px\">\n",
              "    <path d=\"M0 0h24v24H0V0z\" fill=\"none\"/>\n",
              "    <path d=\"M18.56 5.44l.94 2.06.94-2.06 2.06-.94-2.06-.94-.94-2.06-.94 2.06-2.06.94zm-11 1L8.5 8.5l.94-2.06 2.06-.94-2.06-.94L8.5 2.5l-.94 2.06-2.06.94zm10 10l.94 2.06.94-2.06 2.06-.94-2.06-.94-.94-2.06-.94 2.06-2.06.94z\"/><path d=\"M17.41 7.96l-1.37-1.37c-.4-.4-.92-.59-1.43-.59-.52 0-1.04.2-1.43.59L10.3 9.45l-7.72 7.72c-.78.78-.78 2.05 0 2.83L4 21.41c.39.39.9.59 1.41.59.51 0 1.02-.2 1.41-.59l7.78-7.78 2.81-2.81c.8-.78.8-2.07 0-2.86zM5.41 20L4 18.59l7.72-7.72 1.47 1.35L5.41 20z\"/>\n",
              "  </svg>\n",
              "      </button>\n",
              "      \n",
              "  <style>\n",
              "    .colab-df-container {\n",
              "      display:flex;\n",
              "      flex-wrap:wrap;\n",
              "      gap: 12px;\n",
              "    }\n",
              "\n",
              "    .colab-df-convert {\n",
              "      background-color: #E8F0FE;\n",
              "      border: none;\n",
              "      border-radius: 50%;\n",
              "      cursor: pointer;\n",
              "      display: none;\n",
              "      fill: #1967D2;\n",
              "      height: 32px;\n",
              "      padding: 0 0 0 0;\n",
              "      width: 32px;\n",
              "    }\n",
              "\n",
              "    .colab-df-convert:hover {\n",
              "      background-color: #E2EBFA;\n",
              "      box-shadow: 0px 1px 2px rgba(60, 64, 67, 0.3), 0px 1px 3px 1px rgba(60, 64, 67, 0.15);\n",
              "      fill: #174EA6;\n",
              "    }\n",
              "\n",
              "    [theme=dark] .colab-df-convert {\n",
              "      background-color: #3B4455;\n",
              "      fill: #D2E3FC;\n",
              "    }\n",
              "\n",
              "    [theme=dark] .colab-df-convert:hover {\n",
              "      background-color: #434B5C;\n",
              "      box-shadow: 0px 1px 3px 1px rgba(0, 0, 0, 0.15);\n",
              "      filter: drop-shadow(0px 1px 2px rgba(0, 0, 0, 0.3));\n",
              "      fill: #FFFFFF;\n",
              "    }\n",
              "  </style>\n",
              "\n",
              "      <script>\n",
              "        const buttonEl =\n",
              "          document.querySelector('#df-40761a8e-e8b0-4f41-a88a-712323c4ffa8 button.colab-df-convert');\n",
              "        buttonEl.style.display =\n",
              "          google.colab.kernel.accessAllowed ? 'block' : 'none';\n",
              "\n",
              "        async function convertToInteractive(key) {\n",
              "          const element = document.querySelector('#df-40761a8e-e8b0-4f41-a88a-712323c4ffa8');\n",
              "          const dataTable =\n",
              "            await google.colab.kernel.invokeFunction('convertToInteractive',\n",
              "                                                     [key], {});\n",
              "          if (!dataTable) return;\n",
              "\n",
              "          const docLinkHtml = 'Like what you see? Visit the ' +\n",
              "            '<a target=\"_blank\" href=https://colab.research.google.com/notebooks/data_table.ipynb>data table notebook</a>'\n",
              "            + ' to learn more about interactive tables.';\n",
              "          element.innerHTML = '';\n",
              "          dataTable['output_type'] = 'display_data';\n",
              "          await google.colab.output.renderOutput(dataTable, element);\n",
              "          const docLink = document.createElement('div');\n",
              "          docLink.innerHTML = docLinkHtml;\n",
              "          element.appendChild(docLink);\n",
              "        }\n",
              "      </script>\n",
              "    </div>\n",
              "  </div>\n",
              "  "
            ],
            "text/plain": [
              "   Unnamed: 0               Description       Code\n",
              "0           0                    Gender     31-0.0\n",
              "1           1               Height [cm]     50-0.0\n",
              "2           2               Weight [Kg]  21002-0.0\n",
              "3           3  Waist circumference [cm]     48-0.0\n",
              "4           4    Hip circumference [cm]     49-0.0"
            ]
          },
          "metadata": {},
          "execution_count": 5
        }
      ]
    },
    {
      "cell_type": "markdown",
      "metadata": {
        "id": "mlY9IFX69wi6"
      },
      "source": [
        "### Have a look at your data\n",
        "\n",
        "Always a good idea to look at the files we have before proceeding"
      ]
    },
    {
      "cell_type": "code",
      "metadata": {
        "id": "gX1Xl2Tb6jqQ",
        "colab": {
          "base_uri": "https://localhost:8080/",
          "height": 206
        },
        "outputId": "e5ff05f9-0fbd-4c9a-f560-34b659e8f289"
      },
      "source": [
        "data.head(5)"
      ],
      "execution_count": null,
      "outputs": [
        {
          "output_type": "execute_result",
          "data": {
            "text/html": [
              "<div>\n",
              "<style scoped>\n",
              "    .dataframe tbody tr th:only-of-type {\n",
              "        vertical-align: middle;\n",
              "    }\n",
              "\n",
              "    .dataframe tbody tr th {\n",
              "        vertical-align: top;\n",
              "    }\n",
              "\n",
              "    .dataframe thead th {\n",
              "        text-align: right;\n",
              "    }\n",
              "</style>\n",
              "<table border=\"1\" class=\"dataframe\">\n",
              "  <thead>\n",
              "    <tr style=\"text-align: right;\">\n",
              "      <th></th>\n",
              "      <th>Unnamed: 0</th>\n",
              "      <th>31-0.0</th>\n",
              "      <th>48-0.0</th>\n",
              "      <th>49-0.0</th>\n",
              "      <th>50-0.0</th>\n",
              "      <th>21002-0.0</th>\n",
              "    </tr>\n",
              "  </thead>\n",
              "  <tbody>\n",
              "    <tr>\n",
              "      <th>0</th>\n",
              "      <td>0</td>\n",
              "      <td>0.0</td>\n",
              "      <td>80.0</td>\n",
              "      <td>103.0</td>\n",
              "      <td>169.0</td>\n",
              "      <td>68.6</td>\n",
              "    </tr>\n",
              "    <tr>\n",
              "      <th>1</th>\n",
              "      <td>1</td>\n",
              "      <td>0.0</td>\n",
              "      <td>80.0</td>\n",
              "      <td>96.0</td>\n",
              "      <td>185.0</td>\n",
              "      <td>70.2</td>\n",
              "    </tr>\n",
              "    <tr>\n",
              "      <th>2</th>\n",
              "      <td>2</td>\n",
              "      <td>1.0</td>\n",
              "      <td>89.0</td>\n",
              "      <td>97.0</td>\n",
              "      <td>164.0</td>\n",
              "      <td>71.5</td>\n",
              "    </tr>\n",
              "    <tr>\n",
              "      <th>3</th>\n",
              "      <td>3</td>\n",
              "      <td>0.0</td>\n",
              "      <td>101.0</td>\n",
              "      <td>108.0</td>\n",
              "      <td>159.0</td>\n",
              "      <td>82.9</td>\n",
              "    </tr>\n",
              "    <tr>\n",
              "      <th>4</th>\n",
              "      <td>4</td>\n",
              "      <td>1.0</td>\n",
              "      <td>97.0</td>\n",
              "      <td>107.0</td>\n",
              "      <td>186.0</td>\n",
              "      <td>94.0</td>\n",
              "    </tr>\n",
              "  </tbody>\n",
              "</table>\n",
              "</div>"
            ],
            "text/plain": [
              "   Unnamed: 0  31-0.0  48-0.0  49-0.0  50-0.0  21002-0.0\n",
              "0           0     0.0    80.0   103.0   169.0       68.6\n",
              "1           1     0.0    80.0    96.0   185.0       70.2\n",
              "2           2     1.0    89.0    97.0   164.0       71.5\n",
              "3           3     0.0   101.0   108.0   159.0       82.9\n",
              "4           4     1.0    97.0   107.0   186.0       94.0"
            ]
          },
          "metadata": {},
          "execution_count": 6
        }
      ]
    },
    {
      "cell_type": "code",
      "metadata": {
        "colab": {
          "base_uri": "https://localhost:8080/"
        },
        "id": "VEWt9Rml9a-n",
        "outputId": "aea77202-5d3d-420c-a403-45b7be99550e"
      },
      "source": [
        "data.info()"
      ],
      "execution_count": null,
      "outputs": [
        {
          "output_type": "stream",
          "name": "stdout",
          "text": [
            "<class 'pandas.core.frame.DataFrame'>\n",
            "RangeIndex: 499214 entries, 0 to 499213\n",
            "Data columns (total 6 columns):\n",
            " #   Column      Non-Null Count   Dtype  \n",
            "---  ------      --------------   -----  \n",
            " 0   Unnamed: 0  499214 non-null  int64  \n",
            " 1   31-0.0      499214 non-null  float64\n",
            " 2   48-0.0      499214 non-null  float64\n",
            " 3   49-0.0      499214 non-null  float64\n",
            " 4   50-0.0      499214 non-null  float64\n",
            " 5   21002-0.0   499214 non-null  float64\n",
            "dtypes: float64(5), int64(1)\n",
            "memory usage: 22.9 MB\n"
          ]
        }
      ]
    },
    {
      "cell_type": "code",
      "metadata": {
        "colab": {
          "base_uri": "https://localhost:8080/",
          "height": 206
        },
        "id": "MMF_2FTG9YcX",
        "outputId": "cc1eb7f6-744e-4523-ddb8-a41bf5f641ef"
      },
      "source": [
        "dictionary.head()"
      ],
      "execution_count": null,
      "outputs": [
        {
          "output_type": "execute_result",
          "data": {
            "text/html": [
              "<div>\n",
              "<style scoped>\n",
              "    .dataframe tbody tr th:only-of-type {\n",
              "        vertical-align: middle;\n",
              "    }\n",
              "\n",
              "    .dataframe tbody tr th {\n",
              "        vertical-align: top;\n",
              "    }\n",
              "\n",
              "    .dataframe thead th {\n",
              "        text-align: right;\n",
              "    }\n",
              "</style>\n",
              "<table border=\"1\" class=\"dataframe\">\n",
              "  <thead>\n",
              "    <tr style=\"text-align: right;\">\n",
              "      <th></th>\n",
              "      <th>Unnamed: 0</th>\n",
              "      <th>Description</th>\n",
              "      <th>Code</th>\n",
              "    </tr>\n",
              "  </thead>\n",
              "  <tbody>\n",
              "    <tr>\n",
              "      <th>0</th>\n",
              "      <td>0</td>\n",
              "      <td>Gender</td>\n",
              "      <td>31-0.0</td>\n",
              "    </tr>\n",
              "    <tr>\n",
              "      <th>1</th>\n",
              "      <td>1</td>\n",
              "      <td>Height [cm]</td>\n",
              "      <td>50-0.0</td>\n",
              "    </tr>\n",
              "    <tr>\n",
              "      <th>2</th>\n",
              "      <td>2</td>\n",
              "      <td>Weight [Kg]</td>\n",
              "      <td>21002-0.0</td>\n",
              "    </tr>\n",
              "    <tr>\n",
              "      <th>3</th>\n",
              "      <td>3</td>\n",
              "      <td>Waist circumference [cm]</td>\n",
              "      <td>48-0.0</td>\n",
              "    </tr>\n",
              "    <tr>\n",
              "      <th>4</th>\n",
              "      <td>4</td>\n",
              "      <td>Hip circumference [cm]</td>\n",
              "      <td>49-0.0</td>\n",
              "    </tr>\n",
              "  </tbody>\n",
              "</table>\n",
              "</div>"
            ],
            "text/plain": [
              "   Unnamed: 0               Description       Code\n",
              "0           0                    Gender     31-0.0\n",
              "1           1               Height [cm]     50-0.0\n",
              "2           2               Weight [Kg]  21002-0.0\n",
              "3           3  Waist circumference [cm]     48-0.0\n",
              "4           4    Hip circumference [cm]     49-0.0"
            ]
          },
          "metadata": {},
          "execution_count": 9
        }
      ]
    },
    {
      "cell_type": "code",
      "metadata": {
        "colab": {
          "base_uri": "https://localhost:8080/"
        },
        "id": "7vfl-fjo9ZJt",
        "outputId": "aa6eb2d2-5ab5-4f97-f7e6-e9b2810ecbe9"
      },
      "source": [
        "dictionary.info()"
      ],
      "execution_count": null,
      "outputs": [
        {
          "output_type": "stream",
          "name": "stdout",
          "text": [
            "<class 'pandas.core.frame.DataFrame'>\n",
            "RangeIndex: 5 entries, 0 to 4\n",
            "Data columns (total 3 columns):\n",
            " #   Column       Non-Null Count  Dtype \n",
            "---  ------       --------------  ----- \n",
            " 0   Unnamed: 0   5 non-null      int64 \n",
            " 1   Description  5 non-null      object\n",
            " 2   Code         5 non-null      object\n",
            "dtypes: int64(1), object(2)\n",
            "memory usage: 248.0+ bytes\n"
          ]
        }
      ]
    },
    {
      "cell_type": "markdown",
      "metadata": {
        "id": "Lq6Rz96d9zoz"
      },
      "source": [
        "### Prepare the dataset for analysis"
      ]
    },
    {
      "cell_type": "markdown",
      "metadata": {
        "id": "5zNBF2_f97-G"
      },
      "source": [
        "We will change the labels of the columns to make reading the file a bit easier. This step is not necessary (and you have not seen it before), but it makes the analysis a bit more user friendly.\n",
        "\n",
        "\n"
      ]
    },
    {
      "cell_type": "code",
      "metadata": {
        "id": "0qo0XCw5_ErE"
      },
      "source": [
        "# Create a dictionary of the codes and descriptions\n",
        "dictionary_columns = {}\n",
        "for index, value in enumerate(dictionary['Code']):\n",
        "  dictionary_columns[value] = dictionary.loc[index, 'Description']"
      ],
      "execution_count": null,
      "outputs": []
    },
    {
      "cell_type": "code",
      "metadata": {
        "colab": {
          "base_uri": "https://localhost:8080/"
        },
        "id": "u8Lw0H-H-4bz",
        "outputId": "fb08194d-949e-42d1-87d8-e6c182881958"
      },
      "source": [
        "dictionary_columns"
      ],
      "execution_count": null,
      "outputs": [
        {
          "output_type": "execute_result",
          "data": {
            "text/plain": [
              "{'21002-0.0': 'Weight [Kg]',\n",
              " '31-0.0': 'Gender',\n",
              " '48-0.0': 'Waist circumference [cm]',\n",
              " '49-0.0': 'Hip circumference [cm]',\n",
              " '50-0.0': 'Height [cm]'}"
            ]
          },
          "metadata": {},
          "execution_count": 7
        }
      ]
    },
    {
      "cell_type": "code",
      "metadata": {
        "colab": {
          "base_uri": "https://localhost:8080/",
          "height": 423
        },
        "id": "9d0HX0J19fq2",
        "outputId": "98b8dbbb-0ae3-46e2-b38b-c06562ade7c5"
      },
      "source": [
        "# re-label the columns of the dataframe\n",
        "data = data.rename(columns = dictionary_columns)\n",
        "data"
      ],
      "execution_count": null,
      "outputs": [
        {
          "output_type": "execute_result",
          "data": {
            "text/html": [
              "\n",
              "  <div id=\"df-59a62e49-a4fd-4813-a2b4-90c7920ac020\">\n",
              "    <div class=\"colab-df-container\">\n",
              "      <div>\n",
              "<style scoped>\n",
              "    .dataframe tbody tr th:only-of-type {\n",
              "        vertical-align: middle;\n",
              "    }\n",
              "\n",
              "    .dataframe tbody tr th {\n",
              "        vertical-align: top;\n",
              "    }\n",
              "\n",
              "    .dataframe thead th {\n",
              "        text-align: right;\n",
              "    }\n",
              "</style>\n",
              "<table border=\"1\" class=\"dataframe\">\n",
              "  <thead>\n",
              "    <tr style=\"text-align: right;\">\n",
              "      <th></th>\n",
              "      <th>Unnamed: 0</th>\n",
              "      <th>Gender</th>\n",
              "      <th>Waist circumference [cm]</th>\n",
              "      <th>Hip circumference [cm]</th>\n",
              "      <th>Height [cm]</th>\n",
              "      <th>Weight [Kg]</th>\n",
              "    </tr>\n",
              "  </thead>\n",
              "  <tbody>\n",
              "    <tr>\n",
              "      <th>0</th>\n",
              "      <td>0</td>\n",
              "      <td>0.0</td>\n",
              "      <td>80.0</td>\n",
              "      <td>103.0</td>\n",
              "      <td>169.0</td>\n",
              "      <td>68.6</td>\n",
              "    </tr>\n",
              "    <tr>\n",
              "      <th>1</th>\n",
              "      <td>1</td>\n",
              "      <td>0.0</td>\n",
              "      <td>80.0</td>\n",
              "      <td>96.0</td>\n",
              "      <td>185.0</td>\n",
              "      <td>70.2</td>\n",
              "    </tr>\n",
              "    <tr>\n",
              "      <th>2</th>\n",
              "      <td>2</td>\n",
              "      <td>1.0</td>\n",
              "      <td>89.0</td>\n",
              "      <td>97.0</td>\n",
              "      <td>164.0</td>\n",
              "      <td>71.5</td>\n",
              "    </tr>\n",
              "    <tr>\n",
              "      <th>3</th>\n",
              "      <td>3</td>\n",
              "      <td>0.0</td>\n",
              "      <td>101.0</td>\n",
              "      <td>108.0</td>\n",
              "      <td>159.0</td>\n",
              "      <td>82.9</td>\n",
              "    </tr>\n",
              "    <tr>\n",
              "      <th>4</th>\n",
              "      <td>4</td>\n",
              "      <td>1.0</td>\n",
              "      <td>97.0</td>\n",
              "      <td>107.0</td>\n",
              "      <td>186.0</td>\n",
              "      <td>94.0</td>\n",
              "    </tr>\n",
              "    <tr>\n",
              "      <th>...</th>\n",
              "      <td>...</td>\n",
              "      <td>...</td>\n",
              "      <td>...</td>\n",
              "      <td>...</td>\n",
              "      <td>...</td>\n",
              "      <td>...</td>\n",
              "    </tr>\n",
              "    <tr>\n",
              "      <th>499209</th>\n",
              "      <td>502456</td>\n",
              "      <td>0.0</td>\n",
              "      <td>103.0</td>\n",
              "      <td>118.0</td>\n",
              "      <td>168.0</td>\n",
              "      <td>88.6</td>\n",
              "    </tr>\n",
              "    <tr>\n",
              "      <th>499210</th>\n",
              "      <td>502457</td>\n",
              "      <td>1.0</td>\n",
              "      <td>85.0</td>\n",
              "      <td>104.0</td>\n",
              "      <td>177.0</td>\n",
              "      <td>80.5</td>\n",
              "    </tr>\n",
              "    <tr>\n",
              "      <th>499211</th>\n",
              "      <td>502458</td>\n",
              "      <td>0.0</td>\n",
              "      <td>72.0</td>\n",
              "      <td>93.0</td>\n",
              "      <td>158.0</td>\n",
              "      <td>59.3</td>\n",
              "    </tr>\n",
              "    <tr>\n",
              "      <th>499212</th>\n",
              "      <td>502459</td>\n",
              "      <td>0.0</td>\n",
              "      <td>83.0</td>\n",
              "      <td>107.0</td>\n",
              "      <td>167.0</td>\n",
              "      <td>77.2</td>\n",
              "    </tr>\n",
              "    <tr>\n",
              "      <th>499213</th>\n",
              "      <td>502460</td>\n",
              "      <td>1.0</td>\n",
              "      <td>86.0</td>\n",
              "      <td>102.0</td>\n",
              "      <td>175.0</td>\n",
              "      <td>81.1</td>\n",
              "    </tr>\n",
              "  </tbody>\n",
              "</table>\n",
              "<p>499214 rows × 6 columns</p>\n",
              "</div>\n",
              "      <button class=\"colab-df-convert\" onclick=\"convertToInteractive('df-59a62e49-a4fd-4813-a2b4-90c7920ac020')\"\n",
              "              title=\"Convert this dataframe to an interactive table.\"\n",
              "              style=\"display:none;\">\n",
              "        \n",
              "  <svg xmlns=\"http://www.w3.org/2000/svg\" height=\"24px\"viewBox=\"0 0 24 24\"\n",
              "       width=\"24px\">\n",
              "    <path d=\"M0 0h24v24H0V0z\" fill=\"none\"/>\n",
              "    <path d=\"M18.56 5.44l.94 2.06.94-2.06 2.06-.94-2.06-.94-.94-2.06-.94 2.06-2.06.94zm-11 1L8.5 8.5l.94-2.06 2.06-.94-2.06-.94L8.5 2.5l-.94 2.06-2.06.94zm10 10l.94 2.06.94-2.06 2.06-.94-2.06-.94-.94-2.06-.94 2.06-2.06.94z\"/><path d=\"M17.41 7.96l-1.37-1.37c-.4-.4-.92-.59-1.43-.59-.52 0-1.04.2-1.43.59L10.3 9.45l-7.72 7.72c-.78.78-.78 2.05 0 2.83L4 21.41c.39.39.9.59 1.41.59.51 0 1.02-.2 1.41-.59l7.78-7.78 2.81-2.81c.8-.78.8-2.07 0-2.86zM5.41 20L4 18.59l7.72-7.72 1.47 1.35L5.41 20z\"/>\n",
              "  </svg>\n",
              "      </button>\n",
              "      \n",
              "  <style>\n",
              "    .colab-df-container {\n",
              "      display:flex;\n",
              "      flex-wrap:wrap;\n",
              "      gap: 12px;\n",
              "    }\n",
              "\n",
              "    .colab-df-convert {\n",
              "      background-color: #E8F0FE;\n",
              "      border: none;\n",
              "      border-radius: 50%;\n",
              "      cursor: pointer;\n",
              "      display: none;\n",
              "      fill: #1967D2;\n",
              "      height: 32px;\n",
              "      padding: 0 0 0 0;\n",
              "      width: 32px;\n",
              "    }\n",
              "\n",
              "    .colab-df-convert:hover {\n",
              "      background-color: #E2EBFA;\n",
              "      box-shadow: 0px 1px 2px rgba(60, 64, 67, 0.3), 0px 1px 3px 1px rgba(60, 64, 67, 0.15);\n",
              "      fill: #174EA6;\n",
              "    }\n",
              "\n",
              "    [theme=dark] .colab-df-convert {\n",
              "      background-color: #3B4455;\n",
              "      fill: #D2E3FC;\n",
              "    }\n",
              "\n",
              "    [theme=dark] .colab-df-convert:hover {\n",
              "      background-color: #434B5C;\n",
              "      box-shadow: 0px 1px 3px 1px rgba(0, 0, 0, 0.15);\n",
              "      filter: drop-shadow(0px 1px 2px rgba(0, 0, 0, 0.3));\n",
              "      fill: #FFFFFF;\n",
              "    }\n",
              "  </style>\n",
              "\n",
              "      <script>\n",
              "        const buttonEl =\n",
              "          document.querySelector('#df-59a62e49-a4fd-4813-a2b4-90c7920ac020 button.colab-df-convert');\n",
              "        buttonEl.style.display =\n",
              "          google.colab.kernel.accessAllowed ? 'block' : 'none';\n",
              "\n",
              "        async function convertToInteractive(key) {\n",
              "          const element = document.querySelector('#df-59a62e49-a4fd-4813-a2b4-90c7920ac020');\n",
              "          const dataTable =\n",
              "            await google.colab.kernel.invokeFunction('convertToInteractive',\n",
              "                                                     [key], {});\n",
              "          if (!dataTable) return;\n",
              "\n",
              "          const docLinkHtml = 'Like what you see? Visit the ' +\n",
              "            '<a target=\"_blank\" href=https://colab.research.google.com/notebooks/data_table.ipynb>data table notebook</a>'\n",
              "            + ' to learn more about interactive tables.';\n",
              "          element.innerHTML = '';\n",
              "          dataTable['output_type'] = 'display_data';\n",
              "          await google.colab.output.renderOutput(dataTable, element);\n",
              "          const docLink = document.createElement('div');\n",
              "          docLink.innerHTML = docLinkHtml;\n",
              "          element.appendChild(docLink);\n",
              "        }\n",
              "      </script>\n",
              "    </div>\n",
              "  </div>\n",
              "  "
            ],
            "text/plain": [
              "        Unnamed: 0  Gender  Waist circumference [cm]  Hip circumference [cm]  \\\n",
              "0                0     0.0                      80.0                   103.0   \n",
              "1                1     0.0                      80.0                    96.0   \n",
              "2                2     1.0                      89.0                    97.0   \n",
              "3                3     0.0                     101.0                   108.0   \n",
              "4                4     1.0                      97.0                   107.0   \n",
              "...            ...     ...                       ...                     ...   \n",
              "499209      502456     0.0                     103.0                   118.0   \n",
              "499210      502457     1.0                      85.0                   104.0   \n",
              "499211      502458     0.0                      72.0                    93.0   \n",
              "499212      502459     0.0                      83.0                   107.0   \n",
              "499213      502460     1.0                      86.0                   102.0   \n",
              "\n",
              "        Height [cm]  Weight [Kg]  \n",
              "0             169.0         68.6  \n",
              "1             185.0         70.2  \n",
              "2             164.0         71.5  \n",
              "3             159.0         82.9  \n",
              "4             186.0         94.0  \n",
              "...             ...          ...  \n",
              "499209        168.0         88.6  \n",
              "499210        177.0         80.5  \n",
              "499211        158.0         59.3  \n",
              "499212        167.0         77.2  \n",
              "499213        175.0         81.1  \n",
              "\n",
              "[499214 rows x 6 columns]"
            ]
          },
          "metadata": {},
          "execution_count": 8
        }
      ]
    },
    {
      "cell_type": "code",
      "metadata": {
        "id": "z8QU9j2vCPhu"
      },
      "source": [
        "# alternatively, you can use variables that refer to strings corresponding to the codes (or the codes directly, although it is less readable)\n",
        "waist = '48-0.0'\n",
        "data[waist]"
      ],
      "execution_count": null,
      "outputs": []
    },
    {
      "cell_type": "markdown",
      "metadata": {
        "id": "JPs5aa9mE6-R"
      },
      "source": [
        "### Create a new column for the BMI"
      ]
    },
    {
      "cell_type": "markdown",
      "metadata": {
        "id": "ZKcgwLswHoC0"
      },
      "source": [
        "BMI formula: weight [kg] / ( height [m] * height [m])"
      ]
    },
    {
      "cell_type": "code",
      "metadata": {
        "id": "Vj59E114CgT8"
      },
      "source": [
        "# transform the height from cm to m\n",
        "height_m = np.divide(data['Height [cm]'], 100)\n",
        "\n",
        "# # equivalent to\n",
        "# height_m =  data['Height [cm]'] /100\n",
        "\n",
        "# square the height\n",
        "height_squared = np.power(height_m, 2)\n",
        "\n",
        "# height_squared = height_m * height_m\n",
        "\n",
        "# calculate the BMI\n",
        "data['BMI'] = np.divide(data['Weight [Kg]'], height_squared)\n",
        "\n",
        "# # equivalent to\n",
        "# data['BMI'] = data['Weight [Kg]'] / height_squared"
      ],
      "execution_count": null,
      "outputs": []
    },
    {
      "cell_type": "code",
      "source": [
        "data"
      ],
      "metadata": {
        "colab": {
          "base_uri": "https://localhost:8080/",
          "height": 423
        },
        "id": "Df_d74_FRaC-",
        "outputId": "64c81de1-63cb-460f-c6e3-38de5bbc7c4a"
      },
      "execution_count": null,
      "outputs": [
        {
          "output_type": "execute_result",
          "data": {
            "text/html": [
              "\n",
              "  <div id=\"df-9c633f25-4dfd-4b97-b031-9e891e1c9caf\">\n",
              "    <div class=\"colab-df-container\">\n",
              "      <div>\n",
              "<style scoped>\n",
              "    .dataframe tbody tr th:only-of-type {\n",
              "        vertical-align: middle;\n",
              "    }\n",
              "\n",
              "    .dataframe tbody tr th {\n",
              "        vertical-align: top;\n",
              "    }\n",
              "\n",
              "    .dataframe thead th {\n",
              "        text-align: right;\n",
              "    }\n",
              "</style>\n",
              "<table border=\"1\" class=\"dataframe\">\n",
              "  <thead>\n",
              "    <tr style=\"text-align: right;\">\n",
              "      <th></th>\n",
              "      <th>Unnamed: 0</th>\n",
              "      <th>Gender</th>\n",
              "      <th>Waist circumference [cm]</th>\n",
              "      <th>Hip circumference [cm]</th>\n",
              "      <th>Height [cm]</th>\n",
              "      <th>Weight [Kg]</th>\n",
              "      <th>BMI</th>\n",
              "    </tr>\n",
              "  </thead>\n",
              "  <tbody>\n",
              "    <tr>\n",
              "      <th>0</th>\n",
              "      <td>0</td>\n",
              "      <td>0.0</td>\n",
              "      <td>80.0</td>\n",
              "      <td>103.0</td>\n",
              "      <td>169.0</td>\n",
              "      <td>68.6</td>\n",
              "      <td>24.018767</td>\n",
              "    </tr>\n",
              "    <tr>\n",
              "      <th>1</th>\n",
              "      <td>1</td>\n",
              "      <td>0.0</td>\n",
              "      <td>80.0</td>\n",
              "      <td>96.0</td>\n",
              "      <td>185.0</td>\n",
              "      <td>70.2</td>\n",
              "      <td>20.511322</td>\n",
              "    </tr>\n",
              "    <tr>\n",
              "      <th>2</th>\n",
              "      <td>2</td>\n",
              "      <td>1.0</td>\n",
              "      <td>89.0</td>\n",
              "      <td>97.0</td>\n",
              "      <td>164.0</td>\n",
              "      <td>71.5</td>\n",
              "      <td>26.583879</td>\n",
              "    </tr>\n",
              "    <tr>\n",
              "      <th>3</th>\n",
              "      <td>3</td>\n",
              "      <td>0.0</td>\n",
              "      <td>101.0</td>\n",
              "      <td>108.0</td>\n",
              "      <td>159.0</td>\n",
              "      <td>82.9</td>\n",
              "      <td>32.791424</td>\n",
              "    </tr>\n",
              "    <tr>\n",
              "      <th>4</th>\n",
              "      <td>4</td>\n",
              "      <td>1.0</td>\n",
              "      <td>97.0</td>\n",
              "      <td>107.0</td>\n",
              "      <td>186.0</td>\n",
              "      <td>94.0</td>\n",
              "      <td>27.170771</td>\n",
              "    </tr>\n",
              "    <tr>\n",
              "      <th>...</th>\n",
              "      <td>...</td>\n",
              "      <td>...</td>\n",
              "      <td>...</td>\n",
              "      <td>...</td>\n",
              "      <td>...</td>\n",
              "      <td>...</td>\n",
              "      <td>...</td>\n",
              "    </tr>\n",
              "    <tr>\n",
              "      <th>499209</th>\n",
              "      <td>502456</td>\n",
              "      <td>0.0</td>\n",
              "      <td>103.0</td>\n",
              "      <td>118.0</td>\n",
              "      <td>168.0</td>\n",
              "      <td>88.6</td>\n",
              "      <td>31.391723</td>\n",
              "    </tr>\n",
              "    <tr>\n",
              "      <th>499210</th>\n",
              "      <td>502457</td>\n",
              "      <td>1.0</td>\n",
              "      <td>85.0</td>\n",
              "      <td>104.0</td>\n",
              "      <td>177.0</td>\n",
              "      <td>80.5</td>\n",
              "      <td>25.695043</td>\n",
              "    </tr>\n",
              "    <tr>\n",
              "      <th>499211</th>\n",
              "      <td>502458</td>\n",
              "      <td>0.0</td>\n",
              "      <td>72.0</td>\n",
              "      <td>93.0</td>\n",
              "      <td>158.0</td>\n",
              "      <td>59.3</td>\n",
              "      <td>23.754206</td>\n",
              "    </tr>\n",
              "    <tr>\n",
              "      <th>499212</th>\n",
              "      <td>502459</td>\n",
              "      <td>0.0</td>\n",
              "      <td>83.0</td>\n",
              "      <td>107.0</td>\n",
              "      <td>167.0</td>\n",
              "      <td>77.2</td>\n",
              "      <td>27.681165</td>\n",
              "    </tr>\n",
              "    <tr>\n",
              "      <th>499213</th>\n",
              "      <td>502460</td>\n",
              "      <td>1.0</td>\n",
              "      <td>86.0</td>\n",
              "      <td>102.0</td>\n",
              "      <td>175.0</td>\n",
              "      <td>81.1</td>\n",
              "      <td>26.481633</td>\n",
              "    </tr>\n",
              "  </tbody>\n",
              "</table>\n",
              "<p>499214 rows × 7 columns</p>\n",
              "</div>\n",
              "      <button class=\"colab-df-convert\" onclick=\"convertToInteractive('df-9c633f25-4dfd-4b97-b031-9e891e1c9caf')\"\n",
              "              title=\"Convert this dataframe to an interactive table.\"\n",
              "              style=\"display:none;\">\n",
              "        \n",
              "  <svg xmlns=\"http://www.w3.org/2000/svg\" height=\"24px\"viewBox=\"0 0 24 24\"\n",
              "       width=\"24px\">\n",
              "    <path d=\"M0 0h24v24H0V0z\" fill=\"none\"/>\n",
              "    <path d=\"M18.56 5.44l.94 2.06.94-2.06 2.06-.94-2.06-.94-.94-2.06-.94 2.06-2.06.94zm-11 1L8.5 8.5l.94-2.06 2.06-.94-2.06-.94L8.5 2.5l-.94 2.06-2.06.94zm10 10l.94 2.06.94-2.06 2.06-.94-2.06-.94-.94-2.06-.94 2.06-2.06.94z\"/><path d=\"M17.41 7.96l-1.37-1.37c-.4-.4-.92-.59-1.43-.59-.52 0-1.04.2-1.43.59L10.3 9.45l-7.72 7.72c-.78.78-.78 2.05 0 2.83L4 21.41c.39.39.9.59 1.41.59.51 0 1.02-.2 1.41-.59l7.78-7.78 2.81-2.81c.8-.78.8-2.07 0-2.86zM5.41 20L4 18.59l7.72-7.72 1.47 1.35L5.41 20z\"/>\n",
              "  </svg>\n",
              "      </button>\n",
              "      \n",
              "  <style>\n",
              "    .colab-df-container {\n",
              "      display:flex;\n",
              "      flex-wrap:wrap;\n",
              "      gap: 12px;\n",
              "    }\n",
              "\n",
              "    .colab-df-convert {\n",
              "      background-color: #E8F0FE;\n",
              "      border: none;\n",
              "      border-radius: 50%;\n",
              "      cursor: pointer;\n",
              "      display: none;\n",
              "      fill: #1967D2;\n",
              "      height: 32px;\n",
              "      padding: 0 0 0 0;\n",
              "      width: 32px;\n",
              "    }\n",
              "\n",
              "    .colab-df-convert:hover {\n",
              "      background-color: #E2EBFA;\n",
              "      box-shadow: 0px 1px 2px rgba(60, 64, 67, 0.3), 0px 1px 3px 1px rgba(60, 64, 67, 0.15);\n",
              "      fill: #174EA6;\n",
              "    }\n",
              "\n",
              "    [theme=dark] .colab-df-convert {\n",
              "      background-color: #3B4455;\n",
              "      fill: #D2E3FC;\n",
              "    }\n",
              "\n",
              "    [theme=dark] .colab-df-convert:hover {\n",
              "      background-color: #434B5C;\n",
              "      box-shadow: 0px 1px 3px 1px rgba(0, 0, 0, 0.15);\n",
              "      filter: drop-shadow(0px 1px 2px rgba(0, 0, 0, 0.3));\n",
              "      fill: #FFFFFF;\n",
              "    }\n",
              "  </style>\n",
              "\n",
              "      <script>\n",
              "        const buttonEl =\n",
              "          document.querySelector('#df-9c633f25-4dfd-4b97-b031-9e891e1c9caf button.colab-df-convert');\n",
              "        buttonEl.style.display =\n",
              "          google.colab.kernel.accessAllowed ? 'block' : 'none';\n",
              "\n",
              "        async function convertToInteractive(key) {\n",
              "          const element = document.querySelector('#df-9c633f25-4dfd-4b97-b031-9e891e1c9caf');\n",
              "          const dataTable =\n",
              "            await google.colab.kernel.invokeFunction('convertToInteractive',\n",
              "                                                     [key], {});\n",
              "          if (!dataTable) return;\n",
              "\n",
              "          const docLinkHtml = 'Like what you see? Visit the ' +\n",
              "            '<a target=\"_blank\" href=https://colab.research.google.com/notebooks/data_table.ipynb>data table notebook</a>'\n",
              "            + ' to learn more about interactive tables.';\n",
              "          element.innerHTML = '';\n",
              "          dataTable['output_type'] = 'display_data';\n",
              "          await google.colab.output.renderOutput(dataTable, element);\n",
              "          const docLink = document.createElement('div');\n",
              "          docLink.innerHTML = docLinkHtml;\n",
              "          element.appendChild(docLink);\n",
              "        }\n",
              "      </script>\n",
              "    </div>\n",
              "  </div>\n",
              "  "
            ],
            "text/plain": [
              "        Unnamed: 0  Gender  Waist circumference [cm]  Hip circumference [cm]  \\\n",
              "0                0     0.0                      80.0                   103.0   \n",
              "1                1     0.0                      80.0                    96.0   \n",
              "2                2     1.0                      89.0                    97.0   \n",
              "3                3     0.0                     101.0                   108.0   \n",
              "4                4     1.0                      97.0                   107.0   \n",
              "...            ...     ...                       ...                     ...   \n",
              "499209      502456     0.0                     103.0                   118.0   \n",
              "499210      502457     1.0                      85.0                   104.0   \n",
              "499211      502458     0.0                      72.0                    93.0   \n",
              "499212      502459     0.0                      83.0                   107.0   \n",
              "499213      502460     1.0                      86.0                   102.0   \n",
              "\n",
              "        Height [cm]  Weight [Kg]        BMI  \n",
              "0             169.0         68.6  24.018767  \n",
              "1             185.0         70.2  20.511322  \n",
              "2             164.0         71.5  26.583879  \n",
              "3             159.0         82.9  32.791424  \n",
              "4             186.0         94.0  27.170771  \n",
              "...             ...          ...        ...  \n",
              "499209        168.0         88.6  31.391723  \n",
              "499210        177.0         80.5  25.695043  \n",
              "499211        158.0         59.3  23.754206  \n",
              "499212        167.0         77.2  27.681165  \n",
              "499213        175.0         81.1  26.481633  \n",
              "\n",
              "[499214 rows x 7 columns]"
            ]
          },
          "metadata": {},
          "execution_count": 12
        }
      ]
    },
    {
      "cell_type": "code",
      "metadata": {
        "colab": {
          "base_uri": "https://localhost:8080/"
        },
        "id": "t4WCtsRsFjiw",
        "outputId": "92ddadcd-042e-4c11-efb4-5257cdc9b70c"
      },
      "source": [
        "data['BMI'].describe()"
      ],
      "execution_count": null,
      "outputs": [
        {
          "output_type": "execute_result",
          "data": {
            "text/plain": [
              "count    499214.000000\n",
              "mean         27.431592\n",
              "std           4.801223\n",
              "min          12.121212\n",
              "25%          24.138910\n",
              "50%          26.743199\n",
              "75%          29.907407\n",
              "max          74.683737\n",
              "Name: BMI, dtype: float64"
            ]
          },
          "metadata": {},
          "execution_count": 11
        }
      ]
    },
    {
      "cell_type": "code",
      "metadata": {
        "colab": {
          "base_uri": "https://localhost:8080/",
          "height": 206
        },
        "id": "L2CVsx5lG8I6",
        "outputId": "138c4109-5ff3-412b-a5fa-ed5ac8e833f2"
      },
      "source": [
        "data.head()"
      ],
      "execution_count": null,
      "outputs": [
        {
          "output_type": "execute_result",
          "data": {
            "text/html": [
              "<div>\n",
              "<style scoped>\n",
              "    .dataframe tbody tr th:only-of-type {\n",
              "        vertical-align: middle;\n",
              "    }\n",
              "\n",
              "    .dataframe tbody tr th {\n",
              "        vertical-align: top;\n",
              "    }\n",
              "\n",
              "    .dataframe thead th {\n",
              "        text-align: right;\n",
              "    }\n",
              "</style>\n",
              "<table border=\"1\" class=\"dataframe\">\n",
              "  <thead>\n",
              "    <tr style=\"text-align: right;\">\n",
              "      <th></th>\n",
              "      <th>Unnamed: 0</th>\n",
              "      <th>Gender</th>\n",
              "      <th>Waist circumference [cm]</th>\n",
              "      <th>Hip circumference [cm]</th>\n",
              "      <th>Height [cm]</th>\n",
              "      <th>Weight [Kg]</th>\n",
              "      <th>BMI</th>\n",
              "    </tr>\n",
              "  </thead>\n",
              "  <tbody>\n",
              "    <tr>\n",
              "      <th>0</th>\n",
              "      <td>0</td>\n",
              "      <td>0.0</td>\n",
              "      <td>80.0</td>\n",
              "      <td>103.0</td>\n",
              "      <td>169.0</td>\n",
              "      <td>68.6</td>\n",
              "      <td>24.018767</td>\n",
              "    </tr>\n",
              "    <tr>\n",
              "      <th>1</th>\n",
              "      <td>1</td>\n",
              "      <td>0.0</td>\n",
              "      <td>80.0</td>\n",
              "      <td>96.0</td>\n",
              "      <td>185.0</td>\n",
              "      <td>70.2</td>\n",
              "      <td>20.511322</td>\n",
              "    </tr>\n",
              "    <tr>\n",
              "      <th>2</th>\n",
              "      <td>2</td>\n",
              "      <td>1.0</td>\n",
              "      <td>89.0</td>\n",
              "      <td>97.0</td>\n",
              "      <td>164.0</td>\n",
              "      <td>71.5</td>\n",
              "      <td>26.583879</td>\n",
              "    </tr>\n",
              "    <tr>\n",
              "      <th>3</th>\n",
              "      <td>3</td>\n",
              "      <td>0.0</td>\n",
              "      <td>101.0</td>\n",
              "      <td>108.0</td>\n",
              "      <td>159.0</td>\n",
              "      <td>82.9</td>\n",
              "      <td>32.791424</td>\n",
              "    </tr>\n",
              "    <tr>\n",
              "      <th>4</th>\n",
              "      <td>4</td>\n",
              "      <td>1.0</td>\n",
              "      <td>97.0</td>\n",
              "      <td>107.0</td>\n",
              "      <td>186.0</td>\n",
              "      <td>94.0</td>\n",
              "      <td>27.170771</td>\n",
              "    </tr>\n",
              "  </tbody>\n",
              "</table>\n",
              "</div>"
            ],
            "text/plain": [
              "   Unnamed: 0  Gender  ...  Weight [Kg]        BMI\n",
              "0           0     0.0  ...         68.6  24.018767\n",
              "1           1     0.0  ...         70.2  20.511322\n",
              "2           2     1.0  ...         71.5  26.583879\n",
              "3           3     0.0  ...         82.9  32.791424\n",
              "4           4     1.0  ...         94.0  27.170771\n",
              "\n",
              "[5 rows x 7 columns]"
            ]
          },
          "metadata": {},
          "execution_count": 29
        }
      ]
    },
    {
      "cell_type": "markdown",
      "metadata": {
        "id": "CxOtbf78G_L4"
      },
      "source": [
        "### Create a new column for waist-to-hip ratio"
      ]
    },
    {
      "cell_type": "code",
      "metadata": {
        "id": "LjoD40IbFjgI"
      },
      "source": [
        "data['waist-to-hip ratio'] = np.divide(data['Waist circumference [cm]'],  data['Hip circumference [cm]'])\n",
        "\n",
        "# # equivalent to\n",
        "# data['waist-to-hip ratio'] = data['Waist circumference [cm]']/ data['Hip circumference [cm]']\n"
      ],
      "execution_count": null,
      "outputs": []
    },
    {
      "cell_type": "code",
      "metadata": {
        "colab": {
          "base_uri": "https://localhost:8080/"
        },
        "id": "vSQEuwvyHN0b",
        "outputId": "34ca9242-58fa-4885-e9e6-4bd7c6728032"
      },
      "source": [
        "data['waist-to-hip ratio'].describe()"
      ],
      "execution_count": null,
      "outputs": [
        {
          "output_type": "execute_result",
          "data": {
            "text/plain": [
              "count    499214.000000\n",
              "mean          0.871649\n",
              "std           0.089779\n",
              "min           0.200000\n",
              "25%           0.803571\n",
              "50%           0.872727\n",
              "75%           0.936364\n",
              "max           2.128205\n",
              "Name: waist-to-hip ratio, dtype: float64"
            ]
          },
          "metadata": {},
          "execution_count": 14
        }
      ]
    },
    {
      "cell_type": "code",
      "metadata": {
        "colab": {
          "base_uri": "https://localhost:8080/",
          "height": 206
        },
        "id": "drAtCp1iHS__",
        "outputId": "22a16274-4f31-402d-e7bd-b2eeedd3ebe7"
      },
      "source": [
        "data.head()"
      ],
      "execution_count": null,
      "outputs": [
        {
          "output_type": "execute_result",
          "data": {
            "text/html": [
              "\n",
              "  <div id=\"df-12f8604f-e062-49dd-aa40-eb321acede28\">\n",
              "    <div class=\"colab-df-container\">\n",
              "      <div>\n",
              "<style scoped>\n",
              "    .dataframe tbody tr th:only-of-type {\n",
              "        vertical-align: middle;\n",
              "    }\n",
              "\n",
              "    .dataframe tbody tr th {\n",
              "        vertical-align: top;\n",
              "    }\n",
              "\n",
              "    .dataframe thead th {\n",
              "        text-align: right;\n",
              "    }\n",
              "</style>\n",
              "<table border=\"1\" class=\"dataframe\">\n",
              "  <thead>\n",
              "    <tr style=\"text-align: right;\">\n",
              "      <th></th>\n",
              "      <th>Unnamed: 0</th>\n",
              "      <th>Gender</th>\n",
              "      <th>Waist circumference [cm]</th>\n",
              "      <th>Hip circumference [cm]</th>\n",
              "      <th>Height [cm]</th>\n",
              "      <th>Weight [Kg]</th>\n",
              "      <th>BMI</th>\n",
              "      <th>waist-to-hip ratio</th>\n",
              "    </tr>\n",
              "  </thead>\n",
              "  <tbody>\n",
              "    <tr>\n",
              "      <th>0</th>\n",
              "      <td>0</td>\n",
              "      <td>0.0</td>\n",
              "      <td>80.0</td>\n",
              "      <td>103.0</td>\n",
              "      <td>169.0</td>\n",
              "      <td>68.6</td>\n",
              "      <td>24.018767</td>\n",
              "      <td>0.776699</td>\n",
              "    </tr>\n",
              "    <tr>\n",
              "      <th>1</th>\n",
              "      <td>1</td>\n",
              "      <td>0.0</td>\n",
              "      <td>80.0</td>\n",
              "      <td>96.0</td>\n",
              "      <td>185.0</td>\n",
              "      <td>70.2</td>\n",
              "      <td>20.511322</td>\n",
              "      <td>0.833333</td>\n",
              "    </tr>\n",
              "    <tr>\n",
              "      <th>2</th>\n",
              "      <td>2</td>\n",
              "      <td>1.0</td>\n",
              "      <td>89.0</td>\n",
              "      <td>97.0</td>\n",
              "      <td>164.0</td>\n",
              "      <td>71.5</td>\n",
              "      <td>26.583879</td>\n",
              "      <td>0.917526</td>\n",
              "    </tr>\n",
              "    <tr>\n",
              "      <th>3</th>\n",
              "      <td>3</td>\n",
              "      <td>0.0</td>\n",
              "      <td>101.0</td>\n",
              "      <td>108.0</td>\n",
              "      <td>159.0</td>\n",
              "      <td>82.9</td>\n",
              "      <td>32.791424</td>\n",
              "      <td>0.935185</td>\n",
              "    </tr>\n",
              "    <tr>\n",
              "      <th>4</th>\n",
              "      <td>4</td>\n",
              "      <td>1.0</td>\n",
              "      <td>97.0</td>\n",
              "      <td>107.0</td>\n",
              "      <td>186.0</td>\n",
              "      <td>94.0</td>\n",
              "      <td>27.170771</td>\n",
              "      <td>0.906542</td>\n",
              "    </tr>\n",
              "  </tbody>\n",
              "</table>\n",
              "</div>\n",
              "      <button class=\"colab-df-convert\" onclick=\"convertToInteractive('df-12f8604f-e062-49dd-aa40-eb321acede28')\"\n",
              "              title=\"Convert this dataframe to an interactive table.\"\n",
              "              style=\"display:none;\">\n",
              "        \n",
              "  <svg xmlns=\"http://www.w3.org/2000/svg\" height=\"24px\"viewBox=\"0 0 24 24\"\n",
              "       width=\"24px\">\n",
              "    <path d=\"M0 0h24v24H0V0z\" fill=\"none\"/>\n",
              "    <path d=\"M18.56 5.44l.94 2.06.94-2.06 2.06-.94-2.06-.94-.94-2.06-.94 2.06-2.06.94zm-11 1L8.5 8.5l.94-2.06 2.06-.94-2.06-.94L8.5 2.5l-.94 2.06-2.06.94zm10 10l.94 2.06.94-2.06 2.06-.94-2.06-.94-.94-2.06-.94 2.06-2.06.94z\"/><path d=\"M17.41 7.96l-1.37-1.37c-.4-.4-.92-.59-1.43-.59-.52 0-1.04.2-1.43.59L10.3 9.45l-7.72 7.72c-.78.78-.78 2.05 0 2.83L4 21.41c.39.39.9.59 1.41.59.51 0 1.02-.2 1.41-.59l7.78-7.78 2.81-2.81c.8-.78.8-2.07 0-2.86zM5.41 20L4 18.59l7.72-7.72 1.47 1.35L5.41 20z\"/>\n",
              "  </svg>\n",
              "      </button>\n",
              "      \n",
              "  <style>\n",
              "    .colab-df-container {\n",
              "      display:flex;\n",
              "      flex-wrap:wrap;\n",
              "      gap: 12px;\n",
              "    }\n",
              "\n",
              "    .colab-df-convert {\n",
              "      background-color: #E8F0FE;\n",
              "      border: none;\n",
              "      border-radius: 50%;\n",
              "      cursor: pointer;\n",
              "      display: none;\n",
              "      fill: #1967D2;\n",
              "      height: 32px;\n",
              "      padding: 0 0 0 0;\n",
              "      width: 32px;\n",
              "    }\n",
              "\n",
              "    .colab-df-convert:hover {\n",
              "      background-color: #E2EBFA;\n",
              "      box-shadow: 0px 1px 2px rgba(60, 64, 67, 0.3), 0px 1px 3px 1px rgba(60, 64, 67, 0.15);\n",
              "      fill: #174EA6;\n",
              "    }\n",
              "\n",
              "    [theme=dark] .colab-df-convert {\n",
              "      background-color: #3B4455;\n",
              "      fill: #D2E3FC;\n",
              "    }\n",
              "\n",
              "    [theme=dark] .colab-df-convert:hover {\n",
              "      background-color: #434B5C;\n",
              "      box-shadow: 0px 1px 3px 1px rgba(0, 0, 0, 0.15);\n",
              "      filter: drop-shadow(0px 1px 2px rgba(0, 0, 0, 0.3));\n",
              "      fill: #FFFFFF;\n",
              "    }\n",
              "  </style>\n",
              "\n",
              "      <script>\n",
              "        const buttonEl =\n",
              "          document.querySelector('#df-12f8604f-e062-49dd-aa40-eb321acede28 button.colab-df-convert');\n",
              "        buttonEl.style.display =\n",
              "          google.colab.kernel.accessAllowed ? 'block' : 'none';\n",
              "\n",
              "        async function convertToInteractive(key) {\n",
              "          const element = document.querySelector('#df-12f8604f-e062-49dd-aa40-eb321acede28');\n",
              "          const dataTable =\n",
              "            await google.colab.kernel.invokeFunction('convertToInteractive',\n",
              "                                                     [key], {});\n",
              "          if (!dataTable) return;\n",
              "\n",
              "          const docLinkHtml = 'Like what you see? Visit the ' +\n",
              "            '<a target=\"_blank\" href=https://colab.research.google.com/notebooks/data_table.ipynb>data table notebook</a>'\n",
              "            + ' to learn more about interactive tables.';\n",
              "          element.innerHTML = '';\n",
              "          dataTable['output_type'] = 'display_data';\n",
              "          await google.colab.output.renderOutput(dataTable, element);\n",
              "          const docLink = document.createElement('div');\n",
              "          docLink.innerHTML = docLinkHtml;\n",
              "          element.appendChild(docLink);\n",
              "        }\n",
              "      </script>\n",
              "    </div>\n",
              "  </div>\n",
              "  "
            ],
            "text/plain": [
              "   Unnamed: 0  Gender  Waist circumference [cm]  Hip circumference [cm]  \\\n",
              "0           0     0.0                      80.0                   103.0   \n",
              "1           1     0.0                      80.0                    96.0   \n",
              "2           2     1.0                      89.0                    97.0   \n",
              "3           3     0.0                     101.0                   108.0   \n",
              "4           4     1.0                      97.0                   107.0   \n",
              "\n",
              "   Height [cm]  Weight [Kg]        BMI  waist-to-hip ratio  \n",
              "0        169.0         68.6  24.018767            0.776699  \n",
              "1        185.0         70.2  20.511322            0.833333  \n",
              "2        164.0         71.5  26.583879            0.917526  \n",
              "3        159.0         82.9  32.791424            0.935185  \n",
              "4        186.0         94.0  27.170771            0.906542  "
            ]
          },
          "metadata": {},
          "execution_count": 15
        }
      ]
    },
    {
      "cell_type": "markdown",
      "metadata": {
        "id": "LMgUzarRHac3"
      },
      "source": [
        "### Find the mean and standard deviation of the BMI of females and males"
      ]
    },
    {
      "cell_type": "markdown",
      "metadata": {
        "id": "wtS5dWXdHu2-"
      },
      "source": [
        "Females: Gender == 0\n",
        "\n",
        "Males: Gender == 1"
      ]
    },
    {
      "cell_type": "code",
      "metadata": {
        "colab": {
          "base_uri": "https://localhost:8080/"
        },
        "id": "I1eWbUtuHSOj",
        "outputId": "42d6e821-ee6c-429b-d9ae-72989ac34255"
      },
      "source": [
        "gender_dic = {0 : 'Females', 1:'Males'}\n",
        "\n",
        "for gender in gender_dic:\n",
        "# for gender in [0,1]:\n",
        "\n",
        "  mask = data['Gender'] == gender\n",
        "  mean_BMI = np.mean(data[mask]['BMI'])\n",
        "  std_BMI = np.std(data[mask]['BMI'])\n",
        "\n",
        "  print('The mean BMI in {} is '.format(gender_dic[gender]), mean_BMI)\n",
        "  print('The standard deviation of BMI in {} is '.format(gender_dic[gender]), std_BMI)"
      ],
      "execution_count": null,
      "outputs": [
        {
          "output_type": "stream",
          "name": "stdout",
          "text": [
            "The mean BMI in Females is  27.0914964589137\n",
            "The standard deviation of BMI in Females is  5.1954646653226755\n",
            "The mean BMI in Males is  27.83811796618345\n",
            "The standard deviation of BMI in Males is  4.2470209608327565\n"
          ]
        }
      ]
    },
    {
      "cell_type": "markdown",
      "metadata": {
        "id": "M0Ez36jzIn8E"
      },
      "source": [
        "### Find the mean and standard deviation of the waist-to-hip ratio of females and males\n"
      ]
    },
    {
      "cell_type": "code",
      "metadata": {
        "colab": {
          "base_uri": "https://localhost:8080/"
        },
        "id": "Go12bocdIipK",
        "outputId": "9ffac78d-516c-49fe-9fa5-9afc7116b3b9"
      },
      "source": [
        "gender_dic = {0 : 'Females', 1:'Males'}\n",
        "for gender in gender_dic:\n",
        "\n",
        "  mask = data['Gender'] == gender\n",
        "  mean_BMI = np.mean(data[mask]['waist-to-hip ratio'])\n",
        "  std_BMI = np.std(data[mask]['waist-to-hip ratio'])\n",
        "\n",
        "  print('The mean waist-to-hip ratio in {} is '.format(gender_dic[gender]), mean_BMI)\n",
        "  print('The standard deviation of waist-to-hip ratio in {} is '.format(gender_dic[gender]), std_BMI)"
      ],
      "execution_count": null,
      "outputs": [
        {
          "output_type": "stream",
          "name": "stdout",
          "text": [
            "The mean waist-to-hip ratio in Females is  0.8179575339770495\n",
            "The standard deviation of waist-to-hip ratio in Females is  0.0701035927293748\n",
            "The mean waist-to-hip ratio in Males is  0.9358285534665348\n",
            "The standard deviation of waist-to-hip ratio in Males is  0.06523575861845037\n"
          ]
        }
      ]
    },
    {
      "cell_type": "markdown",
      "metadata": {
        "id": "X7Vfj5oUI1NS"
      },
      "source": [
        "### Same as above, but using a function"
      ]
    },
    {
      "cell_type": "code",
      "metadata": {
        "id": "YLAyuLSQIwSG"
      },
      "source": [
        "def print_mean_and_std(parameter):\n",
        "  gender_dic = {0 : 'Females', 1:'Males'}\n",
        "  for gender in gender_dic:\n",
        "\n",
        "    mask = data['Gender'] == gender\n",
        "    mean_BMI = np.mean(data[mask][parameter])\n",
        "    std_BMI = np.std(data[mask][parameter])\n",
        "\n",
        "    print('The mean {} in {} is '.format(parameter, gender_dic[gender]), mean_BMI)\n",
        "    print('The standard deviation of {} in {} is '.format(parameter, gender_dic[gender]), std_BMI, '\\n')"
      ],
      "execution_count": null,
      "outputs": []
    },
    {
      "cell_type": "code",
      "metadata": {
        "colab": {
          "base_uri": "https://localhost:8080/"
        },
        "id": "oojGnUGXJVli",
        "outputId": "8fc1d100-5ff4-4fdf-ee78-3d7957c5adaf"
      },
      "source": [
        "print_mean_and_std('BMI')"
      ],
      "execution_count": null,
      "outputs": [
        {
          "output_type": "stream",
          "name": "stdout",
          "text": [
            "The mean BMI in Females is  27.0914964589137\n",
            "The standard deviation of BMI in Females is  5.1954646653226755 \n",
            "\n",
            "The mean BMI in Males is  27.83811796618345\n",
            "The standard deviation of BMI in Males is  4.2470209608327565 \n",
            "\n"
          ]
        }
      ]
    },
    {
      "cell_type": "code",
      "metadata": {
        "colab": {
          "base_uri": "https://localhost:8080/"
        },
        "id": "pjMST1eoJyOY",
        "outputId": "2d32d220-b9e1-4234-c00c-fee2dac153ff"
      },
      "source": [
        "data.columns"
      ],
      "execution_count": null,
      "outputs": [
        {
          "output_type": "execute_result",
          "data": {
            "text/plain": [
              "Index(['Unnamed: 0', 'Gender', 'Waist circumference [cm]',\n",
              "       'Hip circumference [cm]', 'Height [cm]', 'Weight [Kg]', 'BMI',\n",
              "       'waist-to-hip ratio'],\n",
              "      dtype='object')"
            ]
          },
          "metadata": {},
          "execution_count": 49
        }
      ]
    },
    {
      "cell_type": "code",
      "metadata": {
        "colab": {
          "base_uri": "https://localhost:8080/"
        },
        "id": "KivQ0wSpJsVb",
        "outputId": "388ad145-8a89-4026-a31c-0ac89fa03723"
      },
      "source": [
        "data.columns[2:]"
      ],
      "execution_count": null,
      "outputs": [
        {
          "output_type": "execute_result",
          "data": {
            "text/plain": [
              "Index(['Waist circumference [cm]', 'Hip circumference [cm]', 'Height [cm]',\n",
              "       'Weight [Kg]', 'BMI', 'waist-to-hip ratio'],\n",
              "      dtype='object')"
            ]
          },
          "metadata": {},
          "execution_count": 42
        }
      ]
    },
    {
      "cell_type": "code",
      "metadata": {
        "colab": {
          "base_uri": "https://localhost:8080/"
        },
        "id": "OMj-wKeyJW5n",
        "outputId": "17922480-2972-4419-ca26-53a14e9b4e45"
      },
      "source": [
        "for column in data.columns[2:]:\n",
        "  print_mean_and_std(column)"
      ],
      "execution_count": null,
      "outputs": [
        {
          "output_type": "stream",
          "name": "stdout",
          "text": [
            "The mean Waist circumference [cm] in Females is  84.72162179562625\n",
            "The standard deviation of Waist circumference [cm] in Females is  12.547417381504973 \n",
            "\n",
            "The mean Waist circumference [cm] in Males is  96.95652692635815\n",
            "The standard deviation of Waist circumference [cm] in Males is  11.34510964036734 \n",
            "\n",
            "The mean Hip circumference [cm] in Females is  103.36148063395774\n",
            "The standard deviation of Hip circumference [cm] in Females is  10.392256219236845 \n",
            "\n",
            "The mean Hip circumference [cm] in Males is  103.43745481490562\n",
            "The standard deviation of Hip circumference [cm] in Males is  7.622580398623613 \n",
            "\n",
            "The mean Height [cm] in Females is  162.44412028725202\n",
            "The standard deviation of Height [cm] in Females is  6.309008447064729 \n",
            "\n",
            "The mean Height [cm] in Males is  175.6196158277547\n",
            "The standard deviation of Height [cm] in Males is  6.842008449989608 \n",
            "\n",
            "The mean Weight [Kg] in Females is  71.45942622950827\n",
            "The standard deviation of Weight [Kg] in Females is  14.093511511401559 \n",
            "\n",
            "The mean Weight [Kg] in Males is  85.92937119060034\n",
            "The standard deviation of Weight [Kg] in Males is  14.366670921296933 \n",
            "\n",
            "The mean BMI in Females is  27.0914964589137\n",
            "The standard deviation of BMI in Females is  5.1954646653226755 \n",
            "\n",
            "The mean BMI in Males is  27.83811796618345\n",
            "The standard deviation of BMI in Males is  4.2470209608327565 \n",
            "\n",
            "The mean waist-to-hip ratio in Females is  0.8179575339770495\n",
            "The standard deviation of waist-to-hip ratio in Females is  0.0701035927293748 \n",
            "\n",
            "The mean waist-to-hip ratio in Males is  0.9358285534665348\n",
            "The standard deviation of waist-to-hip ratio in Males is  0.06523575861845037 \n",
            "\n"
          ]
        }
      ]
    },
    {
      "cell_type": "code",
      "metadata": {
        "id": "SNygFPEiJtNV"
      },
      "source": [],
      "execution_count": null,
      "outputs": []
    }
  ]
}
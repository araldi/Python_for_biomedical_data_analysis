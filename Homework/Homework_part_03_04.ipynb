{
  "nbformat": 4,
  "nbformat_minor": 0,
  "metadata": {
    "colab": {
      "provenance": [],
      "include_colab_link": true
    },
    "kernelspec": {
      "name": "python3",
      "display_name": "Python 3"
    },
    "language_info": {
      "name": "python"
    }
  },
  "cells": [
    {
      "cell_type": "markdown",
      "metadata": {
        "id": "view-in-github",
        "colab_type": "text"
      },
      "source": [
        "<a href=\"https://colab.research.google.com/github/araldi/Python_for_biomedical_data_analysis/blob/main/Homework/Homework_part_03_04.ipynb\" target=\"_parent\"><img src=\"https://colab.research.google.com/assets/colab-badge.svg\" alt=\"Open In Colab\"/></a>"
      ]
    },
    {
      "cell_type": "markdown",
      "metadata": {
        "id": "wbJunv0X6u3b"
      },
      "source": [
        "# Numpy and Pandas Homework\n",
        "\n",
        "In this homework, you will analyze an actual dataset that contains info on ~500.000 individuals. You will calculate the mean and standard deviation of the BMI and waist-to-hip ratio of the males and females in that population."
      ]
    },
    {
      "cell_type": "markdown",
      "metadata": {
        "id": "PXA-xMYpztyb"
      },
      "source": [
        "### Read the following files:\n",
        "\n",
        "**Data**\n",
        "\n",
        "https://raw.githubusercontent.com/araldi/Python_for_biomedical_data_analysis/main/Files/Homework_part_03_04_data.csv\n",
        "\n",
        "\n",
        "(It describes some characteristics of ~ 500.000 individuals)\n",
        "\n",
        "**Dictionary**\n",
        "\n",
        "https://raw.githubusercontent.com/araldi/Python_for_biomedical_data_analysis/main/Files/Homework_part_03_04_dictionary.csv\n",
        "\n",
        "(it describes the column names of the dataframe)\n",
        "\n",
        "### Analyze the data:\n",
        "* *Create a new column with the BMI of the individuals* : BMI = weight [kg] / ( height [m] * height [m]) --> careful, the height for BMI has to be in meters and not centimeters\n",
        "\n",
        "* *Create a new column with the waist-to-hip ratio of the individuals* : waist-to-hip = waist / hip\n",
        "\n",
        "* *Find the mean and standard deviation of the BMI of females and males* [Females = 0, Males = 1]\n",
        "\n",
        "* *Find the mean and standard deviation of the waist-to-hip ratio of females and males* [Females = 0, Males = 1]\n"
      ]
    },
    {
      "cell_type": "code",
      "metadata": {
        "id": "oug3Qy2hxoqK"
      },
      "source": [],
      "execution_count": null,
      "outputs": []
    },
    {
      "cell_type": "code",
      "metadata": {
        "id": "gX1Xl2Tb6jqQ"
      },
      "source": [],
      "execution_count": null,
      "outputs": []
    }
  ]
}
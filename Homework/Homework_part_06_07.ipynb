{
  "nbformat": 4,
  "nbformat_minor": 0,
  "metadata": {
    "colab": {
      "provenance": [],
      "authorship_tag": "ABX9TyNtgkpdV8I/Ype+ec4l7Wdy",
      "include_colab_link": true
    },
    "kernelspec": {
      "name": "python3",
      "display_name": "Python 3"
    },
    "language_info": {
      "name": "python"
    }
  },
  "cells": [
    {
      "cell_type": "markdown",
      "metadata": {
        "id": "view-in-github",
        "colab_type": "text"
      },
      "source": [
        "<a href=\"https://colab.research.google.com/github/araldi/Python_for_biomedical_data_analysis/blob/main/Homework/Homework_part_06_07.ipynb\" target=\"_parent\"><img src=\"https://colab.research.google.com/assets/colab-badge.svg\" alt=\"Open In Colab\"/></a>"
      ]
    },
    {
      "cell_type": "markdown",
      "metadata": {
        "id": "eyNTEnGrJMVC"
      },
      "source": [
        "# Visualization homework"
      ]
    },
    {
      "cell_type": "markdown",
      "metadata": {
        "id": "MkCMaZKaJZcK"
      },
      "source": [
        "These data come from Gapminder Foundation (www.gapminder.org), an educational organization founded by Hans Rosling that debunks common myths about the developing world. Media often use sensationalistic narratives to describe health and economic trends in developing world, which often do not adhere to reality and generate misconceptions. Data-based trends actually depict a different story and appropriate data visualization is the key to convey effectively the truth to the lay public.\n",
        "\n",
        "Let's look at one example."
      ]
    },
    {
      "cell_type": "markdown",
      "metadata": {
        "id": "rIomoTpmKy0M"
      },
      "source": [
        "### Child mortality"
      ]
    },
    {
      "cell_type": "markdown",
      "metadata": {
        "id": "2AvdbvNZMsz3"
      },
      "source": [
        "For each of the six pairs of countries below, which country do you think had the highest child mortality rates in the 2010s decade? Which pairs do you think are most similar?\n",
        "\n",
        "* Sri Lanka or Turkey\n",
        "* Poland or South Korea\n",
        "* Malaysia or Russia\n",
        "* Pakistan or Vietnam\n",
        "* Thailand or South Africa"
      ]
    },
    {
      "cell_type": "markdown",
      "metadata": {
        "id": "KW0dykVNMyrF"
      },
      "source": [
        "Let's look at the actual data!\n",
        "\n",
        "Your task is to compare the 10 nations, two by two as above, using a boxplot describing the distribution of child mortality in each country in the years 2010-2018.\n",
        "\n",
        "Surprising?\n",
        "\n"
      ]
    },
    {
      "cell_type": "code",
      "metadata": {
        "id": "Y--kM2l_I1H5"
      },
      "source": [
        "child_mortality_file = 'https://docs.google.com/spreadsheets/d/1Av7eps_zEK73-AdbFYEmtTrwFKlfruBYXdrnXAOFVpM/export?format=xlsx'\n",
        "\n",
        "child_mortality_sheet = 'data-for-countries-etc-by-year'\n",
        "\n",
        "# the file is an excel workbook and you need the sheet specified\n",
        "\n",
        "# When you explore the file, you will notice that there is data until 2100!\n",
        "# Data until 2018 is real, from 2019 until 2100 is a projection.\n",
        "\n",
        "# more info here: https://docs.google.com/spreadsheets/d/1Av7eps_zEK73-AdbFYEmtTrwFKlfruBYXdrnXAOFVpM/edit#gid=501532268\n",
        "\n",
        "# PS: Child mortality is expressed as Deaths/10.000 births"
      ],
      "execution_count": 1,
      "outputs": []
    },
    {
      "cell_type": "markdown",
      "metadata": {
        "id": "Za6fO5iBWLir"
      },
      "source": [
        "Now, plot the child mortality rate from 1800 to 2018 (line plot) of the countries that in recent years (2008-2018) have the lowest child mortality."
      ]
    },
    {
      "cell_type": "code",
      "metadata": {
        "id": "WozfQLMVppvA"
      },
      "source": [],
      "execution_count": null,
      "outputs": []
    },
    {
      "cell_type": "markdown",
      "metadata": {
        "id": "-VgyjTtcZsNO"
      },
      "source": [
        "Repeat the same analysis, but with the 10 countries with the most mortality in the decade 2008-2018."
      ]
    },
    {
      "cell_type": "code",
      "metadata": {
        "id": "btFTSd0wprgq"
      },
      "source": [],
      "execution_count": null,
      "outputs": []
    },
    {
      "cell_type": "code",
      "metadata": {
        "id": "YJcLGLLOpreK"
      },
      "source": [],
      "execution_count": null,
      "outputs": []
    },
    {
      "cell_type": "markdown",
      "metadata": {
        "id": "mMsNPpJtaTrq"
      },
      "source": [
        "Can you plot the 2019-2100 projection of the 10 most and 10 least countries as above? What do you notice?\n",
        "\n",
        "Since there are 20 countries to plot, it is a good idea to assign shades of colors, or different line size/markers for countries that belong to the same group (example: blues for the 10 least countries, and red for the 10 most countries).\n",
        "\n"
      ]
    },
    {
      "cell_type": "code",
      "metadata": {
        "id": "JX2PyG46ptv1"
      },
      "source": [],
      "execution_count": null,
      "outputs": []
    },
    {
      "cell_type": "code",
      "metadata": {
        "id": "WoRRgQxDptdj"
      },
      "source": [],
      "execution_count": null,
      "outputs": []
    },
    {
      "cell_type": "markdown",
      "metadata": {
        "id": "vgtYlGBqpy4A"
      },
      "source": [
        "## Child mortality and income"
      ]
    },
    {
      "cell_type": "markdown",
      "metadata": {
        "id": "zN9R16Gaj4wQ"
      },
      "source": [
        "How does child mortality correlate with income?\n",
        "\n",
        "For the 20 countries above, plot child mortality vs income for the years 2008-2018 in a scatterplot.\n",
        "Play around to make sure the countries are still distinguishable (marker types, marker size, color, etc).\n"
      ]
    },
    {
      "cell_type": "code",
      "metadata": {
        "id": "yqQjVR6omBY0"
      },
      "source": [
        "income_file = 'https://github.com/open-numbers/ddf--gapminder--systema_globalis/raw/master/countries-etc-datapoints/ddf--datapoints--income_per_person_gdppercapita_ppp_inflation_adjusted--by--geo--time.csv'"
      ],
      "execution_count": null,
      "outputs": []
    },
    {
      "cell_type": "code",
      "metadata": {
        "id": "0Z05SJcupvjF"
      },
      "source": [],
      "execution_count": null,
      "outputs": []
    },
    {
      "cell_type": "code",
      "metadata": {
        "id": "Iisyp9Dvpvb7"
      },
      "source": [],
      "execution_count": null,
      "outputs": []
    },
    {
      "cell_type": "markdown",
      "metadata": {
        "id": "C3GnmMkgpPJj"
      },
      "source": [
        "Do the same with 10 random countries."
      ]
    },
    {
      "cell_type": "code",
      "metadata": {
        "id": "dP2-B_0WpwTu"
      },
      "source": [],
      "execution_count": null,
      "outputs": []
    },
    {
      "cell_type": "code",
      "metadata": {
        "id": "K4rBn9DmpwzT"
      },
      "source": [],
      "execution_count": null,
      "outputs": []
    }
  ]
}
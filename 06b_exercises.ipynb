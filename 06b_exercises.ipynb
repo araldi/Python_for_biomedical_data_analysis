{
  "nbformat": 4,
  "nbformat_minor": 0,
  "metadata": {
    "colab": {
      "provenance": []
    },
    "kernelspec": {
      "name": "python3",
      "display_name": "Python 3"
    },
    "language_info": {
      "name": "python"
    }
  },
  "cells": [
    {
      "cell_type": "code",
      "source": [
        "#How many male?\n"
      ],
      "metadata": {
        "id": "OSr4MB7OadCI",
        "collapsed": true
      },
      "execution_count": 251,
      "outputs": []
    },
    {
      "cell_type": "code",
      "source": [
        "#Find the mean value of the Culmen lenght for Adelie Penguin\n"
      ],
      "metadata": {
        "id": "rboIT_UrVRBP"
      },
      "execution_count": 252,
      "outputs": []
    },
    {
      "cell_type": "code",
      "source": [
        "#Find the mean value of the flipper lenght for Gentoo Penguin"
      ],
      "metadata": {
        "id": "mLutiIHcZGbU"
      },
      "execution_count": null,
      "outputs": []
    },
    {
      "cell_type": "code",
      "source": [
        "#How many species of penguins are from Biscoe island? And what is the mean value of the culmen lenght?"
      ],
      "metadata": {
        "id": "iUvLs88TaUB4"
      },
      "execution_count": null,
      "outputs": []
    },
    {
      "cell_type": "code",
      "source": [
        "#For the penguins heavier than 3500 g, find the mean value of Culmen Depth (mm) for male and female."
      ],
      "metadata": {
        "id": "XWeud5E1bJGp"
      },
      "execution_count": null,
      "outputs": []
    }
  ]
}

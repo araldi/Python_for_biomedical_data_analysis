{
  "nbformat": 4,
  "nbformat_minor": 0,
  "metadata": {
    "colab": {
      "provenance": [],
      "authorship_tag": "ABX9TyPOf0Qx/MjYJgzq3E+pnmJW",
      "include_colab_link": true
    },
    "kernelspec": {
      "name": "python3",
      "display_name": "Python 3"
    },
    "language_info": {
      "name": "python"
    }
  },
  "cells": [
    {
      "cell_type": "markdown",
      "metadata": {
        "id": "view-in-github",
        "colab_type": "text"
      },
      "source": [
        "<a href=\"https://colab.research.google.com/github/araldi/Python_for_biomedical_data_analysis/blob/main/04b_Intro_to_NumPy_solutions.ipynb\" target=\"_parent\"><img src=\"https://colab.research.google.com/assets/colab-badge.svg\" alt=\"Open In Colab\"/></a>"
      ]
    },
    {
      "cell_type": "markdown",
      "metadata": {
        "id": "yWtK6yADfkix"
      },
      "source": [
        "### Exercises"
      ]
    },
    {
      "cell_type": "markdown",
      "metadata": {
        "id": "ehGUT0516MZ1"
      },
      "source": [
        "#### Exercise 1\n",
        "\n",
        "Calculate the power of 4 of numbers from 1 to 10"
      ]
    },
    {
      "cell_type": "code",
      "metadata": {
        "id": "BtksXSY76EWd"
      },
      "source": [
        "np.power(np.arange(1,11),4)"
      ],
      "execution_count": null,
      "outputs": []
    },
    {
      "cell_type": "markdown",
      "metadata": {
        "id": "FXvtOha8F9U5"
      },
      "source": [
        "#### Exercise 2\n",
        "\n",
        "Replace all odd numbers in the given array with 0"
      ]
    },
    {
      "cell_type": "code",
      "metadata": {
        "id": "O1LCsJgyGR5p"
      },
      "source": [
        "exercise_1 = np.array([0, 1, 2, 3, 4, 5, 6, 7, 8, 9])"
      ],
      "execution_count": null,
      "outputs": []
    },
    {
      "cell_type": "code",
      "metadata": {
        "id": "ItCI4o6hHefW"
      },
      "source": [
        "exercise_1[exercise_1 % 2 == 1] = 0\n",
        "exercise_1"
      ],
      "execution_count": null,
      "outputs": []
    },
    {
      "cell_type": "markdown",
      "metadata": {
        "id": "aiK9B2SIfpR4"
      },
      "source": [
        "#### Exercise 3\n"
      ]
    },
    {
      "cell_type": "markdown",
      "metadata": {
        "id": "tbJ66swd264P"
      },
      "source": [
        "With NumPy, find which numbers between 10000 and 100000 are multiples of 77."
      ]
    },
    {
      "cell_type": "code",
      "source": [
        "import numpy as np"
      ],
      "metadata": {
        "id": "My8IlGBp_Lvp"
      },
      "execution_count": null,
      "outputs": []
    },
    {
      "cell_type": "code",
      "metadata": {
        "id": "OjRVpxQ526m3",
        "colab": {
          "base_uri": "https://localhost:8080/"
        },
        "outputId": "20a434d0-b4d5-4c86-f68a-557b9e7c0104"
      },
      "source": [
        "%%time\n",
        "a  = np.arange(10000,10000000)\n",
        "\n",
        "mask = a % 77 == 0\n",
        "\n",
        "a[mask]"
      ],
      "execution_count": null,
      "outputs": [
        {
          "output_type": "stream",
          "name": "stdout",
          "text": [
            "CPU times: user 206 ms, sys: 48.5 ms, total: 255 ms\n",
            "Wall time: 300 ms\n"
          ]
        }
      ]
    },
    {
      "cell_type": "markdown",
      "metadata": {
        "id": "C1LjxLOJ42Gq"
      },
      "source": [
        "Do the same without NumPy"
      ]
    },
    {
      "cell_type": "code",
      "metadata": {
        "id": "V3GVT3_tfyiY",
        "colab": {
          "base_uri": "https://localhost:8080/"
        },
        "outputId": "c963de0f-1b66-4678-b624-3c4112e5a47c"
      },
      "source": [
        "%%time\n",
        "multiples77 = []\n",
        "for i in range(10000,10000000):\n",
        "  if i % 77 == 0:\n",
        "    multiples77.append(i)\n"
      ],
      "execution_count": null,
      "outputs": [
        {
          "output_type": "stream",
          "name": "stdout",
          "text": [
            "CPU times: user 1.06 s, sys: 5.69 ms, total: 1.06 s\n",
            "Wall time: 1.07 s\n"
          ]
        }
      ]
    },
    {
      "cell_type": "markdown",
      "metadata": {
        "id": "QSom-m6r53Fw"
      },
      "source": [
        "When finished, rerun the cells adding\n",
        "\n",
        "```\n",
        "%%time\n",
        "```\n",
        "in the first line. You can see that NumPy was considerably faster.\n"
      ]
    },
    {
      "cell_type": "markdown",
      "metadata": {
        "id": "7NoHY97O26VG"
      },
      "source": [
        "#### Exercise 4\n",
        "\n",
        "Create a monodimensional array with 100000 random uniform floats from a standard normal distribution and calculate the mean and standard deviation"
      ]
    },
    {
      "cell_type": "code",
      "metadata": {
        "id": "e2DQ07t69o2Q",
        "outputId": "ebf68c0c-5968-4503-b6aa-5bf923303bcf",
        "colab": {
          "base_uri": "https://localhost:8080/"
        }
      },
      "source": [
        "a = np.random.randn(10000)\n",
        "print(np.mean(a))\n",
        "print(np.std(a))"
      ],
      "execution_count": null,
      "outputs": [
        {
          "output_type": "stream",
          "name": "stdout",
          "text": [
            "0.0010054047032524735\n",
            "1.0041652857108232\n"
          ]
        }
      ]
    },
    {
      "cell_type": "markdown",
      "metadata": {
        "id": "V-fvlwXzfqJV"
      },
      "source": [
        "#### Exercise 5\n",
        "\n",
        "Create an array of random two-dimensional shape (axes size between 1 and 10)populated by random floats from 0 to 1.\n"
      ]
    },
    {
      "cell_type": "code",
      "metadata": {
        "id": "8KYNKGgBfxZo"
      },
      "source": [
        "a = np.array(np.random.random((np.random.randint(1,10),np.random.randint(1,10))))\n",
        "a"
      ],
      "execution_count": null,
      "outputs": []
    }
  ]
}
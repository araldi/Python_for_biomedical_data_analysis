{
  "nbformat": 4,
  "nbformat_minor": 0,
  "metadata": {
    "colab": {
      "provenance": [],
      "include_colab_link": true
    },
    "kernelspec": {
      "name": "python3",
      "display_name": "Python 3"
    },
    "language_info": {
      "name": "python"
    }
  },
  "cells": [
    {
      "cell_type": "markdown",
      "metadata": {
        "id": "view-in-github",
        "colab_type": "text"
      },
      "source": [
        "<a href=\"https://colab.research.google.com/github/araldi/Python_for_biomedical_data_analysis/blob/main/02_Intro_to_python_more_exercises.ipynb\" target=\"_parent\"><img src=\"https://colab.research.google.com/assets/colab-badge.svg\" alt=\"Open In Colab\"/></a>"
      ]
    },
    {
      "cell_type": "markdown",
      "metadata": {
        "id": "m_DZO2Qjrv9Q"
      },
      "source": [
        "## A couple more things to learn\n",
        "\n"
      ]
    },
    {
      "cell_type": "markdown",
      "source": [
        "### Working with strings and lists"
      ],
      "metadata": {
        "id": "8UYX49DqkdaR"
      }
    },
    {
      "cell_type": "markdown",
      "source": [
        "#### Check if element in string/list"
      ],
      "metadata": {
        "id": "u67wT5vwlhyq"
      }
    },
    {
      "cell_type": "code",
      "source": [
        "# check if an element is in a string\n",
        "\n",
        "my_string = 'this_is_a_very_long_string'\n",
        "\n",
        "'a' in my_string"
      ],
      "metadata": {
        "id": "nWsNX0vfk3GH",
        "colab": {
          "base_uri": "https://localhost:8080/"
        },
        "outputId": "e873bc2e-5c2a-4304-f76a-f1bc07851d24"
      },
      "execution_count": null,
      "outputs": [
        {
          "output_type": "execute_result",
          "data": {
            "text/plain": [
              "True"
            ]
          },
          "metadata": {},
          "execution_count": 1
        }
      ]
    },
    {
      "cell_type": "code",
      "source": [
        "# check if an element is in a list\n",
        "\n",
        "my_list = ['this', 'is', 'a', 'list']\n",
        "\n",
        "'a' in my_list"
      ],
      "metadata": {
        "id": "R2qlEX5lkalp",
        "colab": {
          "base_uri": "https://localhost:8080/"
        },
        "outputId": "40128824-ab5b-40a8-e799-56db644685c0"
      },
      "execution_count": null,
      "outputs": [
        {
          "output_type": "execute_result",
          "data": {
            "text/plain": [
              "True"
            ]
          },
          "metadata": {},
          "execution_count": 2
        }
      ]
    },
    {
      "cell_type": "code",
      "source": [
        "my_list = ['this', 'is', 'a', 'list']\n",
        "\n",
        "'th' in my_list"
      ],
      "metadata": {
        "colab": {
          "base_uri": "https://localhost:8080/"
        },
        "id": "v0Mu-D3vwm_T",
        "outputId": "7e2eba82-1454-4af9-c9bb-3af8e9cf746e"
      },
      "execution_count": null,
      "outputs": [
        {
          "output_type": "execute_result",
          "data": {
            "text/plain": [
              "False"
            ]
          },
          "metadata": {},
          "execution_count": 3
        }
      ]
    },
    {
      "cell_type": "markdown",
      "source": [
        "#### List comprehension\n"
      ],
      "metadata": {
        "id": "HRTSarwblma5"
      }
    },
    {
      "cell_type": "code",
      "source": [
        "# Example:\n",
        "# i want a new list with only elements in the list that contain 'i'\n",
        "\n",
        "# I could do a for loop\n",
        "\n",
        "new_list = [] #initialize new list\n",
        "\n",
        "for element in my_list:\n",
        "  if 'i' in element:\n",
        "    new_list.append(element)\n",
        "\n",
        "    # new_list = new_list + [i]  # This is equivalent\n",
        "print(new_list)"
      ],
      "metadata": {
        "id": "mNi9-BexlEsC",
        "colab": {
          "base_uri": "https://localhost:8080/"
        },
        "outputId": "4911ce12-fe8b-465b-8fe5-ba2fbd5df40b"
      },
      "execution_count": null,
      "outputs": [
        {
          "output_type": "stream",
          "name": "stdout",
          "text": [
            "['this', 'is', 'list']\n"
          ]
        }
      ]
    },
    {
      "cell_type": "code",
      "source": [
        "# or I could use list comprehension\n",
        "\n",
        "# iterate over the elements of a list, and create a new list if the element satisfy the condition\n",
        "\n",
        "new_list = [element for element in my_list if 'i' in element]\n",
        "print(new_list)"
      ],
      "metadata": {
        "id": "hCP79_kglvdi",
        "colab": {
          "base_uri": "https://localhost:8080/"
        },
        "outputId": "2ab2ba75-7b1d-4507-d9dd-d8d3c3b4d740"
      },
      "execution_count": null,
      "outputs": [
        {
          "output_type": "stream",
          "name": "stdout",
          "text": [
            "['this', 'is', 'list']\n"
          ]
        }
      ]
    },
    {
      "cell_type": "code",
      "source": [
        "[element + ' has i' for element in my_list if 'i' in element]"
      ],
      "metadata": {
        "id": "-NGjfQvHlVYY",
        "colab": {
          "base_uri": "https://localhost:8080/"
        },
        "outputId": "cfb8fd74-8807-4474-f658-dd5e0a887a4c"
      },
      "execution_count": null,
      "outputs": [
        {
          "output_type": "execute_result",
          "data": {
            "text/plain": [
              "['this has i', 'is has i', 'list has i']"
            ]
          },
          "metadata": {},
          "execution_count": 6
        }
      ]
    },
    {
      "cell_type": "code",
      "source": [
        "# create a new list only with multiples of 2\n",
        "another_list = [0, 5, 8, 9, 23, 56, 2]\n",
        "\n",
        "new_list = [i for i in another_list if i%2==0]\n",
        "\n",
        "print(new_list)"
      ],
      "metadata": {
        "id": "yHrrLuIClejw",
        "colab": {
          "base_uri": "https://localhost:8080/"
        },
        "outputId": "387aa4d4-dfc8-44f6-c279-4f0d5ae3e0b9"
      },
      "execution_count": null,
      "outputs": [
        {
          "output_type": "stream",
          "name": "stdout",
          "text": [
            "[0, 8, 56, 2]\n"
          ]
        }
      ]
    },
    {
      "cell_type": "code",
      "source": [
        "# create a new list that takes only the odd numbers and multiplies them by 5\n",
        "\n",
        "new_list_2 = [i*5 for i in another_list if i%2==1]\n",
        "print(new_list_2)"
      ],
      "metadata": {
        "id": "EJTis3F3m1RA",
        "colab": {
          "base_uri": "https://localhost:8080/"
        },
        "outputId": "3414cbd9-5d34-4c2e-81b9-36e96e01c3e8"
      },
      "execution_count": null,
      "outputs": [
        {
          "output_type": "stream",
          "name": "stdout",
          "text": [
            "[25, 45, 115]\n"
          ]
        }
      ]
    },
    {
      "cell_type": "code",
      "source": [
        "# create a new list that takes the odd numbers and multiply them by 5, otherwise keeps the even number\n",
        "\n",
        "new_list_3 = [i*5 if i%2==1 else i for i in another_list]\n",
        "print(new_list_3)"
      ],
      "metadata": {
        "id": "-sIqoDyCnMFX",
        "colab": {
          "base_uri": "https://localhost:8080/"
        },
        "outputId": "48e043e2-64ea-420f-9846-5ae2dea1a0e9"
      },
      "execution_count": null,
      "outputs": [
        {
          "output_type": "stream",
          "name": "stdout",
          "text": [
            "[0, 25, 8, 45, 115, 56, 2]\n"
          ]
        }
      ]
    },
    {
      "cell_type": "markdown",
      "source": [
        "### built-in function enumerate()\n",
        "enumerate() loops over an iterable object and keep track of how many iterations have occurred."
      ],
      "metadata": {
        "id": "aw5MaNItkbyF"
      }
    },
    {
      "cell_type": "code",
      "metadata": {
        "id": "_zbU64B1sLiy"
      },
      "source": [
        "# enumerate() example\n",
        "\n",
        "months = ['Jan','Feb','Mar','Apr','May','Jun','Jul','Aug','Sep','Oct','Nov','Dec']\n",
        "\n",
        "for iteration, element in enumerate(months):\n",
        "  print(\"month number: \", iteration+1)\n",
        "  print(\"element name: \", element)\n",
        "  print(\"\\n\")"
      ],
      "execution_count": null,
      "outputs": []
    },
    {
      "cell_type": "code",
      "metadata": {
        "id": "kODgahc2tRjs",
        "colab": {
          "base_uri": "https://localhost:8080/"
        },
        "outputId": "4db3886d-2895-4fd0-e5f1-8218d5ab1aa8"
      },
      "source": [
        "for iteration, element in enumerate(months):\n",
        "  print(\"month number {} is {}\".format(element, iteration +1))"
      ],
      "execution_count": null,
      "outputs": [
        {
          "output_type": "stream",
          "name": "stdout",
          "text": [
            "month number Jan is 1\n",
            "month number Feb is 2\n",
            "month number Mar is 3\n",
            "month number Apr is 4\n",
            "month number May is 5\n",
            "month number Jun is 6\n",
            "month number Jul is 7\n",
            "month number Aug is 8\n",
            "month number Sep is 9\n",
            "month number Oct is 10\n",
            "month number Nov is 11\n",
            "month number Dec is 12\n"
          ]
        }
      ]
    },
    {
      "cell_type": "code",
      "metadata": {
        "id": "_CCL0TV3swhN",
        "colab": {
          "base_uri": "https://localhost:8080/"
        },
        "outputId": "02344f62-9ead-42f1-e7ec-440739b8a452"
      },
      "source": [
        "for iteration, element in enumerate(months):\n",
        "  print(\"month number {month_number} is {element}\".format(month_number = iteration +1, element = element))"
      ],
      "execution_count": null,
      "outputs": [
        {
          "output_type": "stream",
          "name": "stdout",
          "text": [
            "month number 1 is Jan\n",
            "month number 2 is Feb\n",
            "month number 3 is Mar\n",
            "month number 4 is Apr\n",
            "month number 5 is May\n",
            "month number 6 is Jun\n",
            "month number 7 is Jul\n",
            "month number 8 is Aug\n",
            "month number 9 is Sep\n",
            "month number 10 is Oct\n",
            "month number 11 is Nov\n",
            "month number 12 is Dec\n"
          ]
        }
      ]
    },
    {
      "cell_type": "markdown",
      "metadata": {
        "id": "iu1BDVM8tgge"
      },
      "source": [
        "### Functions\n",
        "\n",
        "A function is a block of code which only runs when it is called.\n",
        "\n",
        "You can pass data, known as parameters, into a function.\n",
        "\n",
        "A function can return data as a result.\n",
        "\n",
        "It increases the readability of the code, and allows for faster coding of repetitive operations."
      ]
    },
    {
      "cell_type": "code",
      "metadata": {
        "id": "1qCP_dYOtzi7"
      },
      "source": [
        "# synthax of a function\n",
        "\n",
        "def boring_sum_function(parameter1, parameter2):\n",
        "  sum = parameter1 + parameter2\n",
        "  return sum\n",
        "\n",
        "# note that nothing happens when the cell is run"
      ],
      "execution_count": null,
      "outputs": []
    },
    {
      "cell_type": "code",
      "metadata": {
        "id": "8u4SPKEevs1V"
      },
      "source": [
        "#minimal function\n",
        "\n",
        "def boring_sum_function(parameter1, parameter2):\n",
        "  return parameter1 + parameter2\n"
      ],
      "execution_count": null,
      "outputs": []
    },
    {
      "cell_type": "code",
      "metadata": {
        "id": "BEGG6yesuOLj",
        "colab": {
          "base_uri": "https://localhost:8080/"
        },
        "outputId": "a830736f-eab3-46bf-cbc9-b86bd7e42463"
      },
      "source": [
        "# call the function\n",
        "boring_sum_function(1,3)\n"
      ],
      "execution_count": null,
      "outputs": [
        {
          "output_type": "execute_result",
          "data": {
            "text/plain": [
              "4"
            ]
          },
          "metadata": {},
          "execution_count": 22
        }
      ]
    },
    {
      "cell_type": "code",
      "metadata": {
        "id": "5MZDkeCFu5pO",
        "colab": {
          "base_uri": "https://localhost:8080/",
          "height": 35
        },
        "outputId": "c564a280-b73c-41de-c549-a1a19695d5a0"
      },
      "source": [
        "# try again\n",
        "boring_sum_function(str(1),'function')"
      ],
      "execution_count": null,
      "outputs": [
        {
          "output_type": "execute_result",
          "data": {
            "application/vnd.google.colaboratory.intrinsic+json": {
              "type": "string"
            },
            "text/plain": [
              "'1function'"
            ]
          },
          "metadata": {},
          "execution_count": 25
        }
      ]
    },
    {
      "cell_type": "code",
      "metadata": {
        "id": "3Y8ah_4uvP5x",
        "colab": {
          "base_uri": "https://localhost:8080/"
        },
        "outputId": "01d2b8e9-be77-4459-faed-a218692edb3a"
      },
      "source": [
        "# try again\n",
        "boring_sum_function(1,8)"
      ],
      "execution_count": null,
      "outputs": [
        {
          "output_type": "execute_result",
          "data": {
            "text/plain": [
              "9"
            ]
          },
          "metadata": {},
          "execution_count": 26
        }
      ]
    },
    {
      "cell_type": "code",
      "metadata": {
        "id": "L5QdaIyHuUaB"
      },
      "source": [
        "def less_boring_sum_function(parameter1, parameter2):\n",
        "  '''\n",
        "  DOCSTRING:\n",
        "  this functions returns the sum of the two parameters\n",
        "  '''\n",
        "  sum = parameter1 + parameter2\n",
        "  print(\"I will now return the sum of the input parameters:\")\n",
        "  return sum, parameter1"
      ],
      "execution_count": null,
      "outputs": []
    },
    {
      "cell_type": "code",
      "metadata": {
        "id": "vaEGhrkSunxy"
      },
      "source": [
        "less_boring_sum_function?"
      ],
      "execution_count": null,
      "outputs": []
    },
    {
      "cell_type": "code",
      "metadata": {
        "id": "6ma8sUFeusTB",
        "colab": {
          "base_uri": "https://localhost:8080/"
        },
        "outputId": "faf4dc23-84ca-4095-abbf-c9269714ca8c"
      },
      "source": [
        "help(less_boring_sum_function)"
      ],
      "execution_count": null,
      "outputs": [
        {
          "output_type": "stream",
          "name": "stdout",
          "text": [
            "Help on function less_boring_sum_function in module __main__:\n",
            "\n",
            "less_boring_sum_function(parameter1, parameter2)\n",
            "    DOCSTRING:\n",
            "    this functions returns the sum of the two parameters\n",
            "\n"
          ]
        }
      ]
    },
    {
      "cell_type": "code",
      "metadata": {
        "id": "yJovp1zyudm2",
        "colab": {
          "base_uri": "https://localhost:8080/"
        },
        "outputId": "90806d38-d087-42ce-847a-29f3ff9f8a27"
      },
      "source": [
        "output = less_boring_sum_function(1, 2)"
      ],
      "execution_count": null,
      "outputs": [
        {
          "output_type": "stream",
          "name": "stdout",
          "text": [
            "I will now return the sum of the input parameters:\n"
          ]
        }
      ]
    },
    {
      "cell_type": "code",
      "source": [
        "sum, parameter = less_boring_sum_function(1, 2)\n",
        "print(sum)"
      ],
      "metadata": {
        "colab": {
          "base_uri": "https://localhost:8080/"
        },
        "id": "MlNtwh4y0z5K",
        "outputId": "2e78c2d9-a705-496c-ab8b-3e713402f7ab"
      },
      "execution_count": null,
      "outputs": [
        {
          "output_type": "stream",
          "name": "stdout",
          "text": [
            "I will now return the sum of the input parameters:\n",
            "3\n"
          ]
        }
      ]
    },
    {
      "cell_type": "markdown",
      "metadata": {
        "id": "G4wUQL43ZTBJ"
      },
      "source": [
        "## More exercises\n"
      ]
    },
    {
      "cell_type": "markdown",
      "source": [
        "### Exercise 1"
      ],
      "metadata": {
        "id": "xNIjGedSho4o"
      }
    },
    {
      "cell_type": "markdown",
      "source": [
        "Write a Python program (function!) that accepts an integer. Test whether an integer is greater than 4^4 and which is if the remainder divided by 34 is 4.\n",
        "\n",
        "\n",
        "\n",
        "```\n",
        "Input: 922\n",
        "Output: True\n",
        "\n",
        "\n",
        "Input: 914\n",
        "Output: False\n",
        "\n",
        "\n",
        "Input: 38\n",
        "Output: False\n",
        "```\n",
        "\n",
        "\n"
      ],
      "metadata": {
        "id": "DBfTMlfxhvex"
      }
    },
    {
      "cell_type": "code",
      "source": [
        "# your code\n",
        "def check_my_integer(n):\n",
        "\n",
        "  #### continue"
      ],
      "metadata": {
        "id": "gEWzUVPWjEK9"
      },
      "execution_count": null,
      "outputs": []
    },
    {
      "cell_type": "markdown",
      "source": [
        "### Exercise 2\n",
        "\n",
        "Write a Python program to check the nth-1 string is a proper substring of nth string in a given list of strings. Go to the editor\n",
        "\n",
        "```\n",
        "Input:\n",
        "['a', 'abb', 'sfs', 'oo', 'de', 'sfde']\n",
        "Output:\n",
        "True\n",
        "Input:\n",
        "['a', 'abb', 'sfs', 'oo', 'ee', 'sfde']\n",
        "Output:\n",
        "False\n",
        "Input:\n",
        "['a', 'abb', 'sad', 'ooaaesdfe', 'sfsdfde', 'sfsd', 'sfsdf', 'qwrew']\n",
        "Output:\n",
        "False\n",
        "Input:\n",
        "['a', 'abb', 'sad', 'ooaaesdfe', 'sfsdfde', 'sfsd', 'sfsdf', 'qwsfsdfrew']\n",
        "Output:\n",
        "True\n",
        "```\n",
        "\n"
      ],
      "metadata": {
        "id": "8hOOisAgiXHH"
      }
    },
    {
      "cell_type": "code",
      "source": [
        "# your code\n",
        "\n",
        "def check_my_list(input_list):\n",
        "\n",
        "\n",
        "  return condition\n"
      ],
      "metadata": {
        "id": "gqR-HvodjQ8q"
      },
      "execution_count": null,
      "outputs": []
    },
    {
      "cell_type": "code",
      "source": [
        "input_list = ['a', 'abb', 'sad', 'ooaaesdfe', 'sfsdfde', 'sfsd', 'sfsdf', 'qwsfsdfrew']\n",
        "check_my_list(input_list)"
      ],
      "metadata": {
        "colab": {
          "base_uri": "https://localhost:8080/"
        },
        "id": "0F9Njv_67tc4",
        "outputId": "707d2d07-14a9-439f-ba0a-c8461a3d2e8d"
      },
      "execution_count": null,
      "outputs": [
        {
          "output_type": "execute_result",
          "data": {
            "text/plain": [
              "True"
            ]
          },
          "metadata": {},
          "execution_count": 44
        }
      ]
    },
    {
      "cell_type": "markdown",
      "source": [
        "### Calendar Exercise"
      ],
      "metadata": {
        "id": "Wml_Ubc_htE4"
      }
    },
    {
      "cell_type": "markdown",
      "metadata": {
        "id": "HV07P7uKrdxS"
      },
      "source": [
        "#### A calendar"
      ]
    },
    {
      "cell_type": "markdown",
      "metadata": {
        "id": "ZE-Mj_7cZHD5"
      },
      "source": [
        "Create a code which writes out\n",
        "the month, day, and day of the week for each day of the year\n",
        "and that works for both years with 28 days in feb, and 29 days in feb\n",
        "just by changing the value of the variable feb.\n",
        "\n",
        "It should look like this, in the case of a year starting on a Monday (simplest case):\n",
        "\n",
        "\n",
        "\n",
        "```\n",
        "1 Jan M\n",
        "2 Jan Tue\n",
        "3 Jan W\n",
        "4 Jan Thr\n",
        "5 Jan F\n",
        "6 Jan Sat\n",
        "7 Jan Sun\n",
        "8 Jan M\n",
        "9 Jan Tue\n",
        "10 Jan W\n",
        "....\n",
        "....\n",
        "```\n",
        "\n"
      ]
    },
    {
      "cell_type": "code",
      "metadata": {
        "id": "lecD5l_NRslK"
      },
      "source": [
        "days_of_the_week = ['M','Tue','W','Thr','F','Sat','Sun']\n",
        "months = ['Jan','Feb','Mar','Apr','May','Jun','Jul','Aug','Sep','Oct','Nov','Dec']\n",
        "feb = 28\n",
        "month_length = [31, feb, 31, 30, 31, 30, 31, 31, 30, 31, 30, 31]"
      ],
      "execution_count": null,
      "outputs": []
    },
    {
      "cell_type": "code",
      "metadata": {
        "id": "nSVr0iJo-kL3"
      },
      "source": [
        "# HINT:\n",
        "\n",
        "# initialize your indexes and counters...\n",
        "week_counter = 0\n",
        "#then open the month loop... \n",
        "# using enumerate is useful\n",
        "# ....\n"
      ],
      "execution_count": null,
      "outputs": []
    },
    {
      "cell_type": "markdown",
      "metadata": {
        "id": "4ho6sYWOwEE1"
      },
      "source": [
        "Can you recreate an output like this?\n",
        "\n",
        "```\n",
        "The 1st of Jan is a M\n",
        "The 2nd of Jan is a Tue\n",
        "The 3rd of Jan is a W\n",
        "The 4th of Jan is a Thr\n",
        "The 5th of Jan is a F\n",
        "The 6th of Jan is a Sat\n",
        "The 7th of Jan is a Sun\n",
        "The 8th of Jan is a M\n",
        "The 9th of Jan is a Tue\n",
        "The 10th of Jan is a W\n",
        ".....\n",
        ".....\n",
        "```\n",
        "\n"
      ]
    },
    {
      "cell_type": "code",
      "metadata": {
        "id": "3H1IuJBX_CJx"
      },
      "source": [
        "days_of_the_week = ['M','Tue','W','Thr','F','Sat','Sun']\n",
        "months = ['Jan','Feb','Mar','Apr','May','Jun','Jul','Aug','Sep','Oct','Nov','Dec']\n",
        "feb = 28\n",
        "month_lenght = [31, feb, 31, 30, 31, 30, 31, 31, 30, 31, 30, 31]\n",
        "\n",
        "\n",
        "#HINT\n",
        "# Use a dictionary to choose the appropriate the suffix\n",
        "day_suffix_dict = {1: 'st', 2 : 'nd', 3: 'rd'}\n",
        "\n",
        "# next you have to create some exceptions for the days of the month that start with 1,2,3, \n",
        "# excluding 11, 12, 13...\n"
      ],
      "execution_count": null,
      "outputs": []
    },
    {
      "cell_type": "markdown",
      "source": [
        "Can you create a calendar starting from a day of the week that the user inputs?"
      ],
      "metadata": {
        "id": "E9mYjNe0MWa6"
      }
    },
    {
      "cell_type": "code",
      "source": [
        "# year_starting_weekday = 'Sat'\n",
        "\n",
        "year_starting_weekday = str(input('On which weekday does the year start?') )\n",
        "\n"
      ],
      "metadata": {
        "colab": {
          "base_uri": "https://localhost:8080/"
        },
        "id": "1GIba0MBAHGD",
        "outputId": "060ceeb9-a30f-4978-b0bf-c069ec8afb0b"
      },
      "execution_count": null,
      "outputs": [
        {
          "output_type": "stream",
          "name": "stdout",
          "text": [
            "On which weekday does the year start?F\n",
            "The 1st of Jan is a F\n",
            "The 2nd of Jan is a Sat\n",
            "The 3rd of Jan is a Sun\n",
            "The 4th of Jan is a M\n",
            "The 5th of Jan is a Tue\n",
            "The 6th of Jan is a W\n",
            "The 7th of Jan is a Thr\n",
            "The 8th of Jan is a F\n",
            "The 9th of Jan is a Sat\n",
            "The 10th of Jan is a Sun\n",
            "The 11th of Jan is a M\n",
            "The 12th of Jan is a Tue\n",
            "The 13th of Jan is a W\n",
            "The 14th of Jan is a Thr\n",
            "The 15th of Jan is a F\n",
            "The 16th of Jan is a Sat\n",
            "The 17th of Jan is a Sun\n",
            "The 18th of Jan is a M\n",
            "The 19th of Jan is a Tue\n",
            "The 20th of Jan is a W\n",
            "The 21st of Jan is a Thr\n",
            "The 22nd of Jan is a F\n",
            "The 23rd of Jan is a Sat\n",
            "The 24th of Jan is a Sun\n",
            "The 25th of Jan is a M\n",
            "The 26th of Jan is a Tue\n",
            "The 27th of Jan is a W\n",
            "The 28th of Jan is a Thr\n",
            "The 29th of Jan is a F\n",
            "The 30th of Jan is a Sat\n",
            "The 31st of Jan is a Sun\n",
            "The 1st of Feb is a M\n",
            "The 2nd of Feb is a Tue\n",
            "The 3rd of Feb is a W\n",
            "The 4th of Feb is a Thr\n",
            "The 5th of Feb is a F\n",
            "The 6th of Feb is a Sat\n",
            "The 7th of Feb is a Sun\n",
            "The 8th of Feb is a M\n",
            "The 9th of Feb is a Tue\n",
            "The 10th of Feb is a W\n",
            "The 11th of Feb is a Thr\n",
            "The 12th of Feb is a F\n",
            "The 13th of Feb is a Sat\n",
            "The 14th of Feb is a Sun\n",
            "The 15th of Feb is a M\n",
            "The 16th of Feb is a Tue\n",
            "The 17th of Feb is a W\n",
            "The 18th of Feb is a Thr\n",
            "The 19th of Feb is a F\n",
            "The 20th of Feb is a Sat\n",
            "The 21st of Feb is a Sun\n",
            "The 22nd of Feb is a M\n",
            "The 23rd of Feb is a Tue\n",
            "The 24th of Feb is a W\n",
            "The 25th of Feb is a Thr\n",
            "The 26th of Feb is a F\n",
            "The 27th of Feb is a Sat\n",
            "The 28th of Feb is a Sun\n",
            "The 1st of Mar is a M\n",
            "The 2nd of Mar is a Tue\n",
            "The 3rd of Mar is a W\n",
            "The 4th of Mar is a Thr\n",
            "The 5th of Mar is a F\n",
            "The 6th of Mar is a Sat\n",
            "The 7th of Mar is a Sun\n",
            "The 8th of Mar is a M\n",
            "The 9th of Mar is a Tue\n",
            "The 10th of Mar is a W\n",
            "The 11th of Mar is a Thr\n",
            "The 12th of Mar is a F\n",
            "The 13th of Mar is a Sat\n",
            "The 14th of Mar is a Sun\n",
            "The 15th of Mar is a M\n",
            "The 16th of Mar is a Tue\n",
            "The 17th of Mar is a W\n",
            "The 18th of Mar is a Thr\n",
            "The 19th of Mar is a F\n",
            "The 20th of Mar is a Sat\n",
            "The 21st of Mar is a Sun\n",
            "The 22nd of Mar is a M\n",
            "The 23rd of Mar is a Tue\n",
            "The 24th of Mar is a W\n",
            "The 25th of Mar is a Thr\n",
            "The 26th of Mar is a F\n",
            "The 27th of Mar is a Sat\n",
            "The 28th of Mar is a Sun\n",
            "The 29th of Mar is a M\n",
            "The 30th of Mar is a Tue\n",
            "The 31st of Mar is a W\n",
            "The 1st of Apr is a Thr\n",
            "The 2nd of Apr is a F\n",
            "The 3rd of Apr is a Sat\n",
            "The 4th of Apr is a Sun\n",
            "The 5th of Apr is a M\n",
            "The 6th of Apr is a Tue\n",
            "The 7th of Apr is a W\n",
            "The 8th of Apr is a Thr\n",
            "The 9th of Apr is a F\n",
            "The 10th of Apr is a Sat\n",
            "The 11th of Apr is a Sun\n",
            "The 12th of Apr is a M\n",
            "The 13th of Apr is a Tue\n",
            "The 14th of Apr is a W\n",
            "The 15th of Apr is a Thr\n",
            "The 16th of Apr is a F\n",
            "The 17th of Apr is a Sat\n",
            "The 18th of Apr is a Sun\n",
            "The 19th of Apr is a M\n",
            "The 20th of Apr is a Tue\n",
            "The 21st of Apr is a W\n",
            "The 22nd of Apr is a Thr\n",
            "The 23rd of Apr is a F\n",
            "The 24th of Apr is a Sat\n",
            "The 25th of Apr is a Sun\n",
            "The 26th of Apr is a M\n",
            "The 27th of Apr is a Tue\n",
            "The 28th of Apr is a W\n",
            "The 29th of Apr is a Thr\n",
            "The 30th of Apr is a F\n",
            "The 1st of May is a Sat\n",
            "The 2nd of May is a Sun\n",
            "The 3rd of May is a M\n",
            "The 4th of May is a Tue\n",
            "The 5th of May is a W\n",
            "The 6th of May is a Thr\n",
            "The 7th of May is a F\n",
            "The 8th of May is a Sat\n",
            "The 9th of May is a Sun\n",
            "The 10th of May is a M\n",
            "The 11th of May is a Tue\n",
            "The 12th of May is a W\n",
            "The 13th of May is a Thr\n",
            "The 14th of May is a F\n",
            "The 15th of May is a Sat\n",
            "The 16th of May is a Sun\n",
            "The 17th of May is a M\n",
            "The 18th of May is a Tue\n",
            "The 19th of May is a W\n",
            "The 20th of May is a Thr\n",
            "The 21st of May is a F\n",
            "The 22nd of May is a Sat\n",
            "The 23rd of May is a Sun\n",
            "The 24th of May is a M\n",
            "The 25th of May is a Tue\n",
            "The 26th of May is a W\n",
            "The 27th of May is a Thr\n",
            "The 28th of May is a F\n",
            "The 29th of May is a Sat\n",
            "The 30th of May is a Sun\n",
            "The 31st of May is a M\n",
            "The 1st of Jun is a Tue\n",
            "The 2nd of Jun is a W\n",
            "The 3rd of Jun is a Thr\n",
            "The 4th of Jun is a F\n",
            "The 5th of Jun is a Sat\n",
            "The 6th of Jun is a Sun\n",
            "The 7th of Jun is a M\n",
            "The 8th of Jun is a Tue\n",
            "The 9th of Jun is a W\n",
            "The 10th of Jun is a Thr\n",
            "The 11th of Jun is a F\n",
            "The 12th of Jun is a Sat\n",
            "The 13th of Jun is a Sun\n",
            "The 14th of Jun is a M\n",
            "The 15th of Jun is a Tue\n",
            "The 16th of Jun is a W\n",
            "The 17th of Jun is a Thr\n",
            "The 18th of Jun is a F\n",
            "The 19th of Jun is a Sat\n",
            "The 20th of Jun is a Sun\n",
            "The 21st of Jun is a M\n",
            "The 22nd of Jun is a Tue\n",
            "The 23rd of Jun is a W\n",
            "The 24th of Jun is a Thr\n",
            "The 25th of Jun is a F\n",
            "The 26th of Jun is a Sat\n",
            "The 27th of Jun is a Sun\n",
            "The 28th of Jun is a M\n",
            "The 29th of Jun is a Tue\n",
            "The 30th of Jun is a W\n",
            "The 1st of Jul is a Thr\n",
            "The 2nd of Jul is a F\n",
            "The 3rd of Jul is a Sat\n",
            "The 4th of Jul is a Sun\n",
            "The 5th of Jul is a M\n",
            "The 6th of Jul is a Tue\n",
            "The 7th of Jul is a W\n",
            "The 8th of Jul is a Thr\n",
            "The 9th of Jul is a F\n",
            "The 10th of Jul is a Sat\n",
            "The 11th of Jul is a Sun\n",
            "The 12th of Jul is a M\n",
            "The 13th of Jul is a Tue\n",
            "The 14th of Jul is a W\n",
            "The 15th of Jul is a Thr\n",
            "The 16th of Jul is a F\n",
            "The 17th of Jul is a Sat\n",
            "The 18th of Jul is a Sun\n",
            "The 19th of Jul is a M\n",
            "The 20th of Jul is a Tue\n",
            "The 21st of Jul is a W\n",
            "The 22nd of Jul is a Thr\n",
            "The 23rd of Jul is a F\n",
            "The 24th of Jul is a Sat\n",
            "The 25th of Jul is a Sun\n",
            "The 26th of Jul is a M\n",
            "The 27th of Jul is a Tue\n",
            "The 28th of Jul is a W\n",
            "The 29th of Jul is a Thr\n",
            "The 30th of Jul is a F\n",
            "The 31st of Jul is a Sat\n",
            "The 1st of Aug is a Sun\n",
            "The 2nd of Aug is a M\n",
            "The 3rd of Aug is a Tue\n",
            "The 4th of Aug is a W\n",
            "The 5th of Aug is a Thr\n",
            "The 6th of Aug is a F\n",
            "The 7th of Aug is a Sat\n",
            "The 8th of Aug is a Sun\n",
            "The 9th of Aug is a M\n",
            "The 10th of Aug is a Tue\n",
            "The 11th of Aug is a W\n",
            "The 12th of Aug is a Thr\n",
            "The 13th of Aug is a F\n",
            "The 14th of Aug is a Sat\n",
            "The 15th of Aug is a Sun\n",
            "The 16th of Aug is a M\n",
            "The 17th of Aug is a Tue\n",
            "The 18th of Aug is a W\n",
            "The 19th of Aug is a Thr\n",
            "The 20th of Aug is a F\n",
            "The 21st of Aug is a Sat\n",
            "The 22nd of Aug is a Sun\n",
            "The 23rd of Aug is a M\n",
            "The 24th of Aug is a Tue\n",
            "The 25th of Aug is a W\n",
            "The 26th of Aug is a Thr\n",
            "The 27th of Aug is a F\n",
            "The 28th of Aug is a Sat\n",
            "The 29th of Aug is a Sun\n",
            "The 30th of Aug is a M\n",
            "The 31st of Aug is a Tue\n",
            "The 1st of Sep is a W\n",
            "The 2nd of Sep is a Thr\n",
            "The 3rd of Sep is a F\n",
            "The 4th of Sep is a Sat\n",
            "The 5th of Sep is a Sun\n",
            "The 6th of Sep is a M\n",
            "The 7th of Sep is a Tue\n",
            "The 8th of Sep is a W\n",
            "The 9th of Sep is a Thr\n",
            "The 10th of Sep is a F\n",
            "The 11th of Sep is a Sat\n",
            "The 12th of Sep is a Sun\n",
            "The 13th of Sep is a M\n",
            "The 14th of Sep is a Tue\n",
            "The 15th of Sep is a W\n",
            "The 16th of Sep is a Thr\n",
            "The 17th of Sep is a F\n",
            "The 18th of Sep is a Sat\n",
            "The 19th of Sep is a Sun\n",
            "The 20th of Sep is a M\n",
            "The 21st of Sep is a Tue\n",
            "The 22nd of Sep is a W\n",
            "The 23rd of Sep is a Thr\n",
            "The 24th of Sep is a F\n",
            "The 25th of Sep is a Sat\n",
            "The 26th of Sep is a Sun\n",
            "The 27th of Sep is a M\n",
            "The 28th of Sep is a Tue\n",
            "The 29th of Sep is a W\n",
            "The 30th of Sep is a Thr\n",
            "The 1st of Oct is a F\n",
            "The 2nd of Oct is a Sat\n",
            "The 3rd of Oct is a Sun\n",
            "The 4th of Oct is a M\n",
            "The 5th of Oct is a Tue\n",
            "The 6th of Oct is a W\n",
            "The 7th of Oct is a Thr\n",
            "The 8th of Oct is a F\n",
            "The 9th of Oct is a Sat\n",
            "The 10th of Oct is a Sun\n",
            "The 11th of Oct is a M\n",
            "The 12th of Oct is a Tue\n",
            "The 13th of Oct is a W\n",
            "The 14th of Oct is a Thr\n",
            "The 15th of Oct is a F\n",
            "The 16th of Oct is a Sat\n",
            "The 17th of Oct is a Sun\n",
            "The 18th of Oct is a M\n",
            "The 19th of Oct is a Tue\n",
            "The 20th of Oct is a W\n",
            "The 21st of Oct is a Thr\n",
            "The 22nd of Oct is a F\n",
            "The 23rd of Oct is a Sat\n",
            "The 24th of Oct is a Sun\n",
            "The 25th of Oct is a M\n",
            "The 26th of Oct is a Tue\n",
            "The 27th of Oct is a W\n",
            "The 28th of Oct is a Thr\n",
            "The 29th of Oct is a F\n",
            "The 30th of Oct is a Sat\n",
            "The 31st of Oct is a Sun\n",
            "The 1st of Nov is a M\n",
            "The 2nd of Nov is a Tue\n",
            "The 3rd of Nov is a W\n",
            "The 4th of Nov is a Thr\n",
            "The 5th of Nov is a F\n",
            "The 6th of Nov is a Sat\n",
            "The 7th of Nov is a Sun\n",
            "The 8th of Nov is a M\n",
            "The 9th of Nov is a Tue\n",
            "The 10th of Nov is a W\n",
            "The 11th of Nov is a Thr\n",
            "The 12th of Nov is a F\n",
            "The 13th of Nov is a Sat\n",
            "The 14th of Nov is a Sun\n",
            "The 15th of Nov is a M\n",
            "The 16th of Nov is a Tue\n",
            "The 17th of Nov is a W\n",
            "The 18th of Nov is a Thr\n",
            "The 19th of Nov is a F\n",
            "The 20th of Nov is a Sat\n",
            "The 21st of Nov is a Sun\n",
            "The 22nd of Nov is a M\n",
            "The 23rd of Nov is a Tue\n",
            "The 24th of Nov is a W\n",
            "The 25th of Nov is a Thr\n",
            "The 26th of Nov is a F\n",
            "The 27th of Nov is a Sat\n",
            "The 28th of Nov is a Sun\n",
            "The 29th of Nov is a M\n",
            "The 30th of Nov is a Tue\n",
            "The 1st of Dec is a W\n",
            "The 2nd of Dec is a Thr\n",
            "The 3rd of Dec is a F\n",
            "The 4th of Dec is a Sat\n",
            "The 5th of Dec is a Sun\n",
            "The 6th of Dec is a M\n",
            "The 7th of Dec is a Tue\n",
            "The 8th of Dec is a W\n",
            "The 9th of Dec is a Thr\n",
            "The 10th of Dec is a F\n",
            "The 11th of Dec is a Sat\n",
            "The 12th of Dec is a Sun\n",
            "The 13th of Dec is a M\n",
            "The 14th of Dec is a Tue\n",
            "The 15th of Dec is a W\n",
            "The 16th of Dec is a Thr\n",
            "The 17th of Dec is a F\n",
            "The 18th of Dec is a Sat\n",
            "The 19th of Dec is a Sun\n",
            "The 20th of Dec is a M\n",
            "The 21st of Dec is a Tue\n",
            "The 22nd of Dec is a W\n",
            "The 23rd of Dec is a Thr\n",
            "The 24th of Dec is a F\n",
            "The 25th of Dec is a Sat\n",
            "The 26th of Dec is a Sun\n",
            "The 27th of Dec is a M\n",
            "The 28th of Dec is a Tue\n",
            "The 29th of Dec is a W\n",
            "The 30th of Dec is a Thr\n",
            "The 31st of Dec is a F\n"
          ]
        }
      ]
    },
    {
      "cell_type": "code",
      "source": [],
      "metadata": {
        "id": "GxUTSTsIDmxb"
      },
      "execution_count": null,
      "outputs": []
    }
  ]
}
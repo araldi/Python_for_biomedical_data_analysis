{
  "nbformat": 4,
  "nbformat_minor": 0,
  "metadata": {
    "colab": {
      "provenance": [],
      "collapsed_sections": [
        "PyozmlyBAArr",
        "ZrlHlc0h_uvH",
        "Ih9GIRD_OOGB",
        "DjqnMVQSRKXS",
        "pWzamhR-0siP",
        "MxPqYQHS0u6o",
        "uvkgOyTN0xHY",
        "omNYmYEqS1ns",
        "50Fkw8odjMG-",
        "qUYtvb6vS5yE",
        "3R0LZAyPS-Uf",
        "ikJ_D77OTIGd",
        "k8yiPKstZQ-D"
      ],
      "toc_visible": true,
      "authorship_tag": "ABX9TyMkavECTBcKXE0HQ4iSbh3m",
      "include_colab_link": true
    },
    "kernelspec": {
      "name": "python3",
      "display_name": "Python 3"
    },
    "language_info": {
      "name": "python"
    }
  },
  "cells": [
    {
      "cell_type": "markdown",
      "metadata": {
        "id": "view-in-github",
        "colab_type": "text"
      },
      "source": [
        "<a href=\"https://colab.research.google.com/github/araldi/Python_for_biomedical_data_analysis/blob/main/01b_Intro_to_python_exercise_solutions.ipynb\" target=\"_parent\"><img src=\"https://colab.research.google.com/assets/colab-badge.svg\" alt=\"Open In Colab\"/></a>"
      ]
    },
    {
      "cell_type": "markdown",
      "metadata": {
        "id": "Fx1_d0MZjibK"
      },
      "source": [
        "# Exercises"
      ]
    },
    {
      "cell_type": "markdown",
      "source": [
        "## Exercise 1"
      ],
      "metadata": {
        "id": "Eptn01NqIVFE"
      }
    },
    {
      "cell_type": "code",
      "metadata": {
        "id": "_feEMmlMqkpk"
      },
      "source": [
        "# Write a Python code that tells you whether the input is odd or even\n",
        "\n",
        "number = int(input(\"This program knows whether the number is odd or even. \\nInput a number: \"))\n",
        "\n",
        "\n",
        "# comment this out\n",
        "# solution\n",
        "if number % 2 == 0:\n",
        "  \n",
        "  print('This number is even')\n",
        "else:\n",
        "  print('This number is odd')\n"
      ],
      "execution_count": null,
      "outputs": []
    },
    {
      "cell_type": "markdown",
      "source": [
        "## Exercise 2"
      ],
      "metadata": {
        "id": "ZCIhOkxOIf1W"
      }
    },
    {
      "cell_type": "code",
      "metadata": {
        "id": "2BcpKEKovf1x"
      },
      "source": [
        "# Write a Python code that gives you the alternate letters of any word\n",
        "\n",
        "word = str(input(\"This code gives you the alternate letters of a word. \\nInput the word: \"))\n",
        "\n",
        "print(word[::2])\n"
      ],
      "execution_count": null,
      "outputs": []
    },
    {
      "cell_type": "markdown",
      "source": [
        "## Exercise 3"
      ],
      "metadata": {
        "id": "NPYLJXulIkXy"
      }
    },
    {
      "cell_type": "code",
      "metadata": {
        "id": "vWJiGq_67oQf"
      },
      "source": [
        "# write a code that checks if a string is palindrome, and if so, the output is the half palindrome \n",
        "# (the string that is repeated and reversed)\n",
        "\n",
        "string = input(\"Input the string to check: \")\n",
        "\n",
        "string = string.lower() # converts string to lowercase\n",
        "\n",
        "condition = string == string[::-1]\n",
        "\n",
        "if condition :\n",
        "\n",
        "  #check whether odd or even to determine how to slice the string\n",
        "    # continue\n",
        "    if len(string) %2:\n",
        "      halfpal = string[:len(string) // 2 +1]\n",
        "    else:\n",
        "      halfpal = string[:len(string) // 2]\n",
        "  \n",
        "    print('Yes, it is a palindrome', halfpal)\n",
        "    \n",
        "else:\n",
        "  print('No, not a palindrome')\n",
        "\n",
        "\n",
        "\n",
        "\n"
      ],
      "execution_count": null,
      "outputs": []
    },
    {
      "cell_type": "markdown",
      "source": [
        "## Exercise 4"
      ],
      "metadata": {
        "id": "e-T8Ii99Imr2"
      }
    },
    {
      "cell_type": "markdown",
      "source": [
        "### Solution 1"
      ],
      "metadata": {
        "id": "PLG7PxR4KNFz"
      }
    },
    {
      "cell_type": "code",
      "metadata": {
        "id": "BbQj2N5ZjkBZ"
      },
      "source": [
        "# Print the Fibonacci sequence until the nth position\n",
        "\n",
        "# A Fibonacci sequence is the integer sequence of 0, 1, 1, 2, 3, 5, 8....\n",
        "# The first two terms are 0 and 1. \n",
        "# All other terms are obtained by adding the preceding two terms. \n",
        "# This means to say the nth term is the sum of (n-1)th and (n-2)th term.\n",
        "\n",
        "nterms = int(input(\"How many terms? \"))\n",
        "\n",
        "if nterms <= 0:\n",
        "  print(\"Please enter a number greater than zero\")\n",
        "\n",
        "\n",
        "#always initialize variables\n",
        "Fibonacci_number_n = 0\n",
        "Fibonacci_number_1 = 0\n",
        "Fibonacci_number_2 = 1\n",
        "\n",
        "\n",
        "print('Fibonacci sequence:')\n",
        "if nterms == 1:\n",
        "  print(Fibonacci_number_1)\n",
        "\n",
        "if nterms > 1:\n",
        "  Fibonacci_number_n = Fibonacci_number_1 + Fibonacci_number_2\n",
        "  print(Fibonacci_number_1)\n",
        "  print(Fibonacci_number_2)\n",
        "\n",
        "# continue....\n",
        "\n",
        "#comment this out\n",
        "  for i in range(nterms-2):\n",
        "    Fibonacci_number_n = Fibonacci_number_1 + Fibonacci_number_2\n",
        "    print(Fibonacci_number_n)\n",
        "\n",
        "    #update values\n",
        "    Fibonacci_number_1 = Fibonacci_number_2\n",
        "    Fibonacci_number_2 = Fibonacci_number_n\n",
        "    \n"
      ],
      "execution_count": null,
      "outputs": []
    },
    {
      "cell_type": "markdown",
      "source": [
        "### Solution 2\n"
      ],
      "metadata": {
        "id": "f_D5IPxWKS6M"
      }
    },
    {
      "cell_type": "code",
      "source": [
        "# Alternative solution to the Fibonacci exercise, resulting in a list\n",
        "\n",
        "nterms = int(input(\"How many terms? \"))\n",
        "\n",
        "if nterms <= 0:\n",
        "  print(\"Please enter a number greater than zero\")\n",
        "\n",
        "zero = 0\n",
        "one = 1\n",
        "Fibonacci_sequence = [zero, one] # use the last two positions in the sequence to select the two numbers to sum\n",
        "\n",
        "for i in range(nterms):\n",
        "    fibonacci = (Fibonacci_sequence[-1] + Fibonacci_sequence[-2])\n",
        "    Fibonacci_sequence.append(fibonacci)\n",
        "\n",
        "print(\"Fibonacci sequence\", Fibonacci_sequence)"
      ],
      "metadata": {
        "id": "ticaMHUjKUi2"
      },
      "execution_count": null,
      "outputs": []
    },
    {
      "cell_type": "markdown",
      "source": [
        "## Exercise 5"
      ],
      "metadata": {
        "id": "pKm4gKNKJjQr"
      }
    },
    {
      "cell_type": "code",
      "metadata": {
        "id": "1_Po4zIgfRVo"
      },
      "source": [
        "codons = {\n",
        "        'ATA':'I', 'ATC':'I', 'ATT':'I', 'ATG':'M',\n",
        "        'ACA':'T', 'ACC':'T', 'ACG':'T', 'ACT':'T',\n",
        "        'AAC':'N', 'AAT':'N', 'AAA':'K', 'AAG':'K',\n",
        "        'AGC':'S', 'AGT':'S', 'AGA':'R', 'AGG':'R',                \n",
        "        'CTA':'L', 'CTC':'L', 'CTG':'L', 'CTT':'L',\n",
        "        'CCA':'P', 'CCC':'P', 'CCG':'P', 'CCT':'P',\n",
        "        'CAC':'H', 'CAT':'H', 'CAA':'Q', 'CAG':'Q',\n",
        "        'CGA':'R', 'CGC':'R', 'CGG':'R', 'CGT':'R',\n",
        "        'GTA':'V', 'GTC':'V', 'GTG':'V', 'GTT':'V',\n",
        "        'GCA':'A', 'GCC':'A', 'GCG':'A', 'GCT':'A',\n",
        "        'GAC':'D', 'GAT':'D', 'GAA':'E', 'GAG':'E',\n",
        "        'GGA':'G', 'GGC':'G', 'GGG':'G', 'GGT':'G',\n",
        "        'TCA':'S', 'TCC':'S', 'TCG':'S', 'TCT':'S',\n",
        "        'TTC':'F', 'TTT':'F', 'TTA':'L', 'TTG':'L',\n",
        "        'TAC':'Y', 'TAT':'Y', 'TAA':'_', 'TAG':'_',\n",
        "        'TGC':'C', 'TGT':'C', 'TGA':'_', 'TGG':'W'}"
      ],
      "execution_count": null,
      "outputs": []
    },
    {
      "cell_type": "code",
      "metadata": {
        "id": "f85VHbGad8tD"
      },
      "source": [
        "# translate a sequence of mRNA into protein\n",
        "\n",
        "mRNA_sequence = 'GGTCACAATTGGACTATGAGATCGATTGAG'\n",
        "\n",
        "counter = 0\n",
        "\n",
        "protein_sequence = '' #always initialize your variables before a loop\n",
        "\n",
        "\n",
        "for i in range(len(mRNA_sequence)//3):\n",
        "  codon = mRNA_sequence[counter:counter+3]\n",
        "  amino_acid = this_is_a_dictionary[codon]\n",
        "  protein_sequence = protein_sequence + amino_acid\n",
        "  counter +=3\n",
        "\n",
        "print(protein_sequence)\n",
        "\n"
      ],
      "execution_count": null,
      "outputs": []
    },
    {
      "cell_type": "code",
      "metadata": {
        "id": "vh6pLI9KkBe1"
      },
      "source": [],
      "execution_count": null,
      "outputs": []
    }
  ]
}
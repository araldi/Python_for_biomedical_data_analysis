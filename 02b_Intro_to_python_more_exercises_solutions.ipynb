{
  "nbformat": 4,
  "nbformat_minor": 0,
  "metadata": {
    "colab": {
      "provenance": [],
      "include_colab_link": true
    },
    "kernelspec": {
      "name": "python3",
      "display_name": "Python 3"
    },
    "language_info": {
      "name": "python"
    }
  },
  "cells": [
    {
      "cell_type": "markdown",
      "metadata": {
        "id": "view-in-github",
        "colab_type": "text"
      },
      "source": [
        "<a href=\"https://colab.research.google.com/github/araldi/Python_for_biomedical_data_analysis/blob/main/02b_Intro_to_python_more_exercises_solutions.ipynb\" target=\"_parent\"><img src=\"https://colab.research.google.com/assets/colab-badge.svg\" alt=\"Open In Colab\"/></a>"
      ]
    },
    {
      "cell_type": "markdown",
      "source": [
        "### Exercise 1"
      ],
      "metadata": {
        "id": "xNIjGedSho4o"
      }
    },
    {
      "cell_type": "markdown",
      "source": [
        "Write a Python program (function!) that accepts an integer. Test whether an integer is greater than 4^4 and which is if the remainder divided by 34 is 4.\n",
        "\n",
        "\n",
        "\n",
        "```\n",
        "Input: 922\n",
        "Output: True\n",
        "\n",
        "\n",
        "Input: 914\n",
        "Output: False\n",
        "\n",
        "\n",
        "Input: 38\n",
        "Output: False\n",
        "```\n",
        "\n",
        "\n"
      ],
      "metadata": {
        "id": "DBfTMlfxhvex"
      }
    },
    {
      "cell_type": "code",
      "source": [
        "# your code\n",
        "def check_my_integer(n):\n",
        "\n",
        "  return (n%34 ==4) and (n> 4**4)\n",
        "\n"
      ],
      "metadata": {
        "id": "gEWzUVPWjEK9"
      },
      "execution_count": null,
      "outputs": []
    },
    {
      "cell_type": "markdown",
      "source": [
        "Test of the code"
      ],
      "metadata": {
        "id": "-j5XifeFNOwz"
      }
    },
    {
      "cell_type": "code",
      "source": [
        "n=922\n",
        "check_my_integer(n)"
      ],
      "metadata": {
        "colab": {
          "base_uri": "https://localhost:8080/"
        },
        "id": "1jA1-wdZNDIm",
        "outputId": "a873677e-5421-4fe2-fda2-873f1d7ee5cc"
      },
      "execution_count": null,
      "outputs": [
        {
          "output_type": "execute_result",
          "data": {
            "text/plain": [
              "True"
            ]
          },
          "metadata": {},
          "execution_count": 8
        }
      ]
    },
    {
      "cell_type": "code",
      "source": [
        "n=920\n",
        "check_my_integer(n)"
      ],
      "metadata": {
        "colab": {
          "base_uri": "https://localhost:8080/"
        },
        "id": "AuvFZMMINHbR",
        "outputId": "b0140eae-b120-4034-e0e3-529b809b6f29"
      },
      "execution_count": null,
      "outputs": [
        {
          "output_type": "execute_result",
          "data": {
            "text/plain": [
              "False"
            ]
          },
          "metadata": {},
          "execution_count": 9
        }
      ]
    },
    {
      "cell_type": "markdown",
      "source": [
        "### Exercise 2\n",
        "\n",
        "Write a Python program to check the nth-1 string is a proper substring of nth string in a given list of strings. Go to the editor\n",
        "\n",
        "```\n",
        "Input:\n",
        "['a', 'abb', 'sfs', 'oo', 'de', 'sfde']\n",
        "Output:\n",
        "True\n",
        "Input:\n",
        "['a', 'abb', 'sfs', 'oo', 'ee', 'sfde']\n",
        "Output:\n",
        "False\n",
        "Input:\n",
        "['a', 'abb', 'sad', 'ooaaesdfe', 'sfsdfde', 'sfsd', 'sfsdf', 'qwrew']\n",
        "Output:\n",
        "False\n",
        "Input:\n",
        "['a', 'abb', 'sad', 'ooaaesdfe', 'sfsdfde', 'sfsd', 'sfsdf', 'qwsfsdfrew']\n",
        "Output:\n",
        "True\n",
        "```\n",
        "\n"
      ],
      "metadata": {
        "id": "8hOOisAgiXHH"
      }
    },
    {
      "cell_type": "code",
      "source": [
        "# your code\n",
        "\n",
        "def check_my_list(input_list):\n",
        "\n",
        "  condition =   input_list[-2] in input_list[-1]\n",
        "\n",
        "  return condition\n"
      ],
      "metadata": {
        "id": "gqR-HvodjQ8q"
      },
      "execution_count": null,
      "outputs": []
    },
    {
      "cell_type": "markdown",
      "source": [
        "Test of the code"
      ],
      "metadata": {
        "id": "UENJ89FjNMnQ"
      }
    },
    {
      "cell_type": "code",
      "source": [
        "input_list = ['a', 'abb', 'sad', 'ooaaesdfe', 'sfsdfde', 'sfsd', 'sfsdf', 'qwsfsdfrew']\n",
        "check_my_list(input_list)"
      ],
      "metadata": {
        "colab": {
          "base_uri": "https://localhost:8080/"
        },
        "id": "0F9Njv_67tc4",
        "outputId": "707d2d07-14a9-439f-ba0a-c8461a3d2e8d"
      },
      "execution_count": null,
      "outputs": [
        {
          "output_type": "execute_result",
          "data": {
            "text/plain": [
              "True"
            ]
          },
          "metadata": {},
          "execution_count": 44
        }
      ]
    },
    {
      "cell_type": "code",
      "source": [
        "input_list = ['a', 'abb', 'sfs', 'oo', 'ee', 'sfde']\n",
        "check_my_list(input_list)"
      ],
      "metadata": {
        "colab": {
          "base_uri": "https://localhost:8080/"
        },
        "id": "pEKdQ4dlNLdy",
        "outputId": "5a2ebc9b-febf-478b-a063-05ff5530ca60"
      },
      "execution_count": null,
      "outputs": [
        {
          "output_type": "execute_result",
          "data": {
            "text/plain": [
              "False"
            ]
          },
          "metadata": {},
          "execution_count": 12
        }
      ]
    },
    {
      "cell_type": "markdown",
      "source": [
        "### Calendar Exercise"
      ],
      "metadata": {
        "id": "Wml_Ubc_htE4"
      }
    },
    {
      "cell_type": "markdown",
      "metadata": {
        "id": "luEmaABeM58u"
      },
      "source": [
        "#### A calendar"
      ]
    },
    {
      "cell_type": "markdown",
      "metadata": {
        "id": "ZFNjiK8WM58u"
      },
      "source": [
        "Create a code which writes out\n",
        "the month, day, and day of the week for each day of the year\n",
        "and that works for both years with 28 days in feb, and 29 days in feb\n",
        "just by changing the value of the variable feb.\n",
        "\n",
        "It should look like this, in the case of a year starting on a Monday (simplest case):\n",
        "\n",
        "\n",
        "\n",
        "```\n",
        "1 Jan M\n",
        "2 Jan Tue\n",
        "3 Jan W\n",
        "4 Jan Thr\n",
        "5 Jan F\n",
        "6 Jan Sat\n",
        "7 Jan Sun\n",
        "8 Jan M\n",
        "9 Jan Tue\n",
        "10 Jan W\n",
        "....\n",
        "....\n",
        "```\n",
        "\n"
      ]
    },
    {
      "cell_type": "code",
      "metadata": {
        "id": "ZVWh0gyaM58u"
      },
      "source": [
        "days_of_the_week = ['M','Tue','W','Thr','F','Sat','Sun']\n",
        "months = ['Jan','Feb','Mar','Apr','May','Jun','Jul','Aug','Sep','Oct','Nov','Dec']\n",
        "feb = 28\n",
        "month_length = [31, feb, 31, 30, 31, 30, 31, 31, 30, 31, 30, 31]"
      ],
      "execution_count": null,
      "outputs": []
    },
    {
      "cell_type": "code",
      "metadata": {
        "id": "nSVr0iJo-kL3"
      },
      "source": [
        "# initialize your indexes and counters...\n",
        "week_counter = 0\n",
        "#then open the month loop...\n",
        "for index, month in enumerate(months): \n",
        "  for day in  range(month_length[index]):\n",
        "    \n",
        "    day_of_the_week = days_of_the_week[week_counter]\n",
        "    week_counter = week_counter +1\n",
        "    print(day+1, month,  day_of_the_week)\n",
        "\n",
        "    if week_counter ==7:\n",
        "      week_counter = 0\n",
        "  \n",
        "\n"
      ],
      "execution_count": null,
      "outputs": []
    },
    {
      "cell_type": "code",
      "metadata": {
        "id": "P8eNNR1zv4Hd"
      },
      "source": [
        "### Alternative formatting\n",
        "week_index = 0\n",
        "\n",
        "#for example....\n",
        "for index, month in enumerate(months):  \n",
        "\n",
        "\n",
        "  for day in range(month_lenght[index]):\n",
        "    day = day + 1\n",
        "    weekday = days_of_the_week[week_index]\n",
        "    week_index +=1\n",
        "    if week_index == 7:\n",
        "      week_index = 0\n",
        "\n",
        "    print('{0} {1} {2}'.format(day,  month, weekday))\n"
      ],
      "execution_count": null,
      "outputs": []
    },
    {
      "cell_type": "markdown",
      "metadata": {
        "id": "2_gNbPzjM58u"
      },
      "source": [
        "Can you recreate an output like this?\n",
        "\n",
        "```\n",
        "The 1st of Jan is a M\n",
        "The 2nd of Jan is a Tue\n",
        "The 3rd of Jan is a W\n",
        "The 4th of Jan is a Thr\n",
        "The 5th of Jan is a F\n",
        "The 6th of Jan is a Sat\n",
        "The 7th of Jan is a Sun\n",
        "The 8th of Jan is a M\n",
        "The 9th of Jan is a Tue\n",
        "The 10th of Jan is a W\n",
        ".....\n",
        ".....\n",
        "```\n",
        "\n"
      ]
    },
    {
      "cell_type": "code",
      "metadata": {
        "id": "3H1IuJBX_CJx"
      },
      "source": [
        "days_of_the_week = ['M','Tue','W','Thr','F','Sat','Sun']\n",
        "months = ['Jan','Feb','Mar','Apr','May','Jun','Jul','Aug','Sep','Oct','Nov','Dec']\n",
        "feb = 28\n",
        "month_length = [31, feb, 31, 30, 31, 30, 31, 31, 30, 31, 30, 31]\n",
        "\n",
        "\n",
        "#HINT\n",
        "# Use a dictionary to choose the appropriate the suffix\n",
        "day_suffix_dict = {1: 'st', 2 : 'nd', 3: 'rd'}\n",
        "exception_days = [1,2,3,21,22,23,31]\n",
        "\n",
        "week_counter = 5\n",
        "#then open the month loop...\n",
        "for index, month in enumerate(months): \n",
        "  for day in  range(month_length[index]):\n",
        "    \n",
        "    day_of_the_week = days_of_the_week[week_counter]\n",
        "    week_counter = week_counter +1\n",
        "    day = day +1\n",
        "    if day in exception_days:\n",
        "      last_digit = day%10\n",
        "      day = str(day) + day_suffix_dict[last_digit]\n",
        "    else:\n",
        "      day = str(day) + 'th'  \n",
        "    \n",
        "    print('The {day} of {month} is a {weekday}'.format(day = day, month= month,  \n",
        "                                                  weekday = day_of_the_week) )\n",
        "\n",
        "    if week_counter ==7:\n",
        "      week_counter = 0\n",
        "\n"
      ],
      "execution_count": null,
      "outputs": []
    },
    {
      "cell_type": "code",
      "metadata": {
        "id": "oqCAZCdXWWjt"
      },
      "source": [
        "#Alternative very similar code\n",
        "# Use a dictionary to choose the appropriate the suffix\n",
        "day_suffix_dict = {1: 'st', 2 : 'nd', 3: 'rd'}\n",
        "exception_days = [1,2,3,21,22,23,31]\n",
        "week_index = 0\n",
        "\n",
        "\n",
        "for index, month in enumerate(months):  \n",
        "  for day in range(month_lenght[index]):\n",
        "    day = day + 1\n",
        "    weekday = days_of_the_week[week_index]\n",
        "    week_index +=1\n",
        "    if week_index == 7:\n",
        "      week_index = 0\n",
        "    # give the right suffix to the day\n",
        "    if day in exception_days:\n",
        "      day_suffix = day%10\n",
        "      day = str(day) + day_suffix_dict[day_suffix]\n",
        "\n",
        "    else:\n",
        "      day_suffix = 'th'\n",
        "    print('The {0}{1} of {2} is a {3}'.format(day, day_suffix, month, weekday))\n"
      ],
      "execution_count": null,
      "outputs": []
    },
    {
      "cell_type": "markdown",
      "source": [
        "Alternative code with the option of adding on which day the year starts"
      ],
      "metadata": {
        "id": "U9dv4VHfOXzy"
      }
    },
    {
      "cell_type": "code",
      "source": [
        "# year_starting_weekday = 'Sat'\n",
        "\n",
        "year_starting_weekday = str(input('On which weekday does the year start?') )\n",
        "\n",
        "for index, weekday in enumerate(days_of_the_week):\n",
        "  if weekday == year_starting_weekday:\n",
        "    week_counter = index\n",
        "\n",
        "\n",
        "\n",
        "for index, month in enumerate(months): \n",
        "  for day in  range(month_length[index]):\n",
        "    \n",
        "    day_of_the_week = days_of_the_week[week_counter]\n",
        "    week_counter = week_counter +1\n",
        "    day = day +1\n",
        "    if day in exception_days:\n",
        "      last_digit = day%10\n",
        "      day = str(day) + day_suffix_dict[last_digit]\n",
        "    else:\n",
        "      day = str(day) + 'th'  \n",
        "    \n",
        "    print('The {day} of {month} is a {weekday}'.format(day = day, month= month,  \n",
        "                                                  weekday = day_of_the_week) )\n",
        "\n",
        "    if week_counter ==7:\n",
        "      week_counter = 0"
      ],
      "metadata": {
        "id": "1GIba0MBAHGD"
      },
      "execution_count": null,
      "outputs": []
    },
    {
      "cell_type": "code",
      "source": [],
      "metadata": {
        "id": "jYuIMVrg4onv"
      },
      "execution_count": null,
      "outputs": []
    }
  ]
}
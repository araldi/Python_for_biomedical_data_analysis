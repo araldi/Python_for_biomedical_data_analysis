{
  "nbformat": 4,
  "nbformat_minor": 0,
  "metadata": {
    "colab": {
      "provenance": [],
      "include_colab_link": true
    },
    "kernelspec": {
      "name": "python3",
      "display_name": "Python 3"
    },
    "language_info": {
      "name": "python"
    }
  },
  "cells": [
    {
      "cell_type": "markdown",
      "metadata": {
        "id": "view-in-github",
        "colab_type": "text"
      },
      "source": [
        "<a href=\"https://colab.research.google.com/github/araldi/Python_for_biomedical_data_analysis/blob/main/03b_Intro_to_pandas_solutions.ipynb\" target=\"_parent\"><img src=\"https://colab.research.google.com/assets/colab-badge.svg\" alt=\"Open In Colab\"/></a>"
      ]
    },
    {
      "cell_type": "markdown",
      "metadata": {
        "id": "vHYmZt_xlFCu"
      },
      "source": [
        "# Exercises\n",
        "\n"
      ]
    },
    {
      "cell_type": "markdown",
      "metadata": {
        "id": "J6rz1wI8n14J"
      },
      "source": [
        "#### Exercise 1\n",
        "\n",
        "Import a csv file from your computer and get the info on column names, size, data types, number of null values per column."
      ]
    },
    {
      "cell_type": "code",
      "metadata": {
        "id": "TGd-9noLjZia"
      },
      "source": [
        "from google.colab import files\n",
        "uploaded = files.upload()\n",
        "file_name = 'summary_CD93_SKAT.csv'"
      ],
      "execution_count": null,
      "outputs": []
    },
    {
      "cell_type": "code",
      "source": [
        "import pandas as pd\n",
        "\n",
        "df = pd.read_csv(file_name)"
      ],
      "metadata": {
        "id": "A1SnE0eqm0ef"
      },
      "execution_count": null,
      "outputs": []
    },
    {
      "cell_type": "code",
      "source": [
        "df.head()"
      ],
      "metadata": {
        "id": "iBHzfHKonBhU"
      },
      "execution_count": null,
      "outputs": []
    },
    {
      "cell_type": "code",
      "source": [
        "df.columns"
      ],
      "metadata": {
        "id": "mOIvnpDgnDyv"
      },
      "execution_count": null,
      "outputs": []
    },
    {
      "cell_type": "code",
      "source": [
        "df.info()"
      ],
      "metadata": {
        "id": "91MtcWG3nFf8"
      },
      "execution_count": null,
      "outputs": []
    },
    {
      "cell_type": "code",
      "source": [
        "df.dtypes"
      ],
      "metadata": {
        "id": "tDBGP4MQnLBE"
      },
      "execution_count": null,
      "outputs": []
    },
    {
      "cell_type": "code",
      "source": [
        "df.isna().sum()"
      ],
      "metadata": {
        "id": "_tz7XTCjnNdu"
      },
      "execution_count": null,
      "outputs": []
    },
    {
      "cell_type": "markdown",
      "metadata": {
        "id": "Hj46-177jZxP"
      },
      "source": [
        "#### Exercise 1b\n",
        "\n",
        "Import an excel file from your computer and do the same as above."
      ]
    },
    {
      "cell_type": "code",
      "metadata": {
        "id": "s0mPBFLFpsn5"
      },
      "source": [
        "from google.colab import files\n",
        "uploaded = files.upload()\n"
      ],
      "execution_count": null,
      "outputs": []
    },
    {
      "cell_type": "code",
      "source": [
        "excel_df = pd.read_excel('WPP2019_POP_F04_SEX_RATIO_OF_TOTAL_POPULATION.xlsx', skiprows = 15)"
      ],
      "metadata": {
        "id": "9SNIwFoLodYz"
      },
      "execution_count": null,
      "outputs": []
    },
    {
      "cell_type": "code",
      "source": [
        "excel_df.head()"
      ],
      "metadata": {
        "id": "BTsSXSpWo5Vw"
      },
      "execution_count": null,
      "outputs": []
    },
    {
      "cell_type": "code",
      "source": [
        "excel_df.info()"
      ],
      "metadata": {
        "id": "eGeeEfTyoukx"
      },
      "execution_count": null,
      "outputs": []
    },
    {
      "cell_type": "markdown",
      "metadata": {
        "id": "ANkjjyJZtNPD"
      },
      "source": [
        "#### Exercise 2\n",
        "\n",
        "From the DataFrame above, select only the first 4 columns, and save the dataset as \"dataframe.csv\" on a new \"exercise\" folder in your google drive."
      ]
    },
    {
      "cell_type": "code",
      "source": [
        "# let's see where we are now\n",
        "!pwd"
      ],
      "metadata": {
        "id": "dcn2ivBkpK8U"
      },
      "execution_count": null,
      "outputs": []
    },
    {
      "cell_type": "code",
      "source": [
        "# let's see what else is here\n",
        "\n",
        "!ls\n"
      ],
      "metadata": {
        "id": "YpShXxxPpN13"
      },
      "execution_count": null,
      "outputs": []
    },
    {
      "cell_type": "code",
      "source": [
        "# let's create the exercise folder\n",
        "!mkdir exercise"
      ],
      "metadata": {
        "id": "28c8SoFtpQmB"
      },
      "execution_count": null,
      "outputs": []
    },
    {
      "cell_type": "code",
      "source": [
        "# check that the folder is actually created\n",
        "!ls"
      ],
      "metadata": {
        "id": "bNolyDZdpovA"
      },
      "execution_count": null,
      "outputs": []
    },
    {
      "cell_type": "code",
      "source": [
        "# go in the new folder\n",
        "!cd exercise"
      ],
      "metadata": {
        "id": "yUjz3U71pqvF"
      },
      "execution_count": null,
      "outputs": []
    },
    {
      "cell_type": "code",
      "source": [
        "# print the directory where you are currently (working directory)\n",
        "!pwd"
      ],
      "metadata": {
        "id": "hxBFVtkUp1z6"
      },
      "execution_count": null,
      "outputs": []
    },
    {
      "cell_type": "code",
      "source": [
        "# select the first 4 columsn and save in new dataframe.csv file\n",
        "excel_df.iloc[:, 0:4].to_csv('/content/exercise/dataframe.csv')"
      ],
      "metadata": {
        "id": "cx7Jk6EAnkQ8"
      },
      "execution_count": null,
      "outputs": []
    },
    {
      "cell_type": "markdown",
      "metadata": {
        "id": "5kWl8T5inKP6"
      },
      "source": [
        "#### Exercise 3\n",
        "\n",
        "Create a dictionary that has as key PharmGKB Accession Id and as values the Name of the drug (dataframe *drugs* from above)"
      ]
    },
    {
      "cell_type": "code",
      "metadata": {
        "id": "cAAwo9_PeAh6"
      },
      "source": [
        "drugs =  pd.read_csv('https://raw.githubusercontent.com/araldi/Python_for_biomedical_data_analysis/main/Files/drugs.tsv', \n",
        "                     sep='\\t')\n",
        "\n",
        "drugs.head()"
      ],
      "execution_count": null,
      "outputs": []
    },
    {
      "cell_type": "code",
      "metadata": {
        "id": "0cT2oGN0sdvx"
      },
      "source": [
        "dictionary = {}\n",
        "for index, value in enumerate(drugs['PharmGKB Accession Id']):\n",
        "  dictionary[value] = drugs.loc[index, 'Name']"
      ],
      "execution_count": null,
      "outputs": []
    },
    {
      "cell_type": "code",
      "source": [
        "# also can be done using dict and zip\n",
        "dictionary = {}\n",
        "\n",
        "dictionary = dict(zip(drugs['PharmGKB Accession Id'], drugs['Name']))"
      ],
      "metadata": {
        "id": "C5faAOGjn6lF"
      },
      "execution_count": null,
      "outputs": []
    },
    {
      "cell_type": "markdown",
      "metadata": {
        "id": "U0qw0-g9nt1S"
      },
      "source": [
        "#### Exercise 4\n",
        "\n",
        "Find the row in the file above for aspirin."
      ]
    },
    {
      "cell_type": "code",
      "metadata": {
        "id": "_j64WvWI0GZR"
      },
      "source": [
        "drugs[drugs['Name'] == 'aspirin']"
      ],
      "execution_count": null,
      "outputs": []
    },
    {
      "cell_type": "code",
      "metadata": {
        "id": "D-Qb4Pc-lRkd"
      },
      "source": [],
      "execution_count": null,
      "outputs": []
    }
  ]
}
